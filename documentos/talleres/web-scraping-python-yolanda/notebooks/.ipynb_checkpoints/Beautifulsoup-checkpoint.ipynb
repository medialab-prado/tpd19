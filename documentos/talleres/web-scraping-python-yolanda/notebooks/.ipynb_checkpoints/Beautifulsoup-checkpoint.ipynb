{
 "cells": [
  {
   "cell_type": "markdown",
   "metadata": {},
   "source": [
    "# Beautiful Soup (BS4)\n",
    "\n",
    "BS4 es una librería para extraer datos de documentos de lenguajes de marcado como HTML o XML. Permite navegar por el árbol del documento, extraer datos, modificar dicho árbol, etc. Como veremos, es recomendable conocer el funcionamiento de las reglas CSS para sacar el máximo partido a esta librería.\n",
    "\n",
    "Como vemos en este primer ejemplo, BS4 tan solo analiza texto en formato HTML o XML. Aquí está la [documentación completa de Beautiful Soup 4.](https://www.crummy.com/software/BeautifulSoup/bs4/doc/)"
   ]
  },
  {
   "cell_type": "code",
   "execution_count": 14,
   "metadata": {
    "ExecuteTime": {
     "end_time": "2018-02-13T10:21:39.644119Z",
     "start_time": "2018-02-13T10:21:39.640259Z"
    },
    "collapsed": true
   },
   "outputs": [],
   "source": [
    "from bs4 import BeautifulSoup\n",
    "\n",
    "html_doc = \"\"\"\n",
    "<html><head><title>The Dormouse's story</title></head>\n",
    "<body>\n",
    "<p class=\"title\"><b>The Dormouse's story</b></p>\n",
    "\n",
    "<p class=\"story\">Once upon a time there were three little sisters; and their names were\n",
    "<a href=\"http://example.com/elsie\" class=\"sister brother\" id=\"link1\">Elsie</a>,\n",
    "<a href=\"http://example.com/lacie\" class=\"sister\" id=\"link2\">Lacie</a> and\n",
    "<a href=\"http://example.com/tillie\" class=\"sister\" id=\"link3\">Tillie</a>;\n",
    "and they lived at the bottom of a well.</p>\n",
    "\n",
    "<p class=\"story\">...</p>\n",
    "</body>\n",
    "</html>\n",
    "\"\"\"\n",
    "\n",
    "# Cargamos el documento\n",
    "soup = BeautifulSoup(html_doc, 'lxml')"
   ]
  },
  {
   "cell_type": "markdown",
   "metadata": {},
   "source": [
    "Podemos navegar directamente por la estructura usando `.`\n"
   ]
  },
  {
   "cell_type": "code",
   "execution_count": 4,
   "metadata": {
    "ExecuteTime": {
     "end_time": "2018-02-13T10:15:01.387758Z",
     "start_time": "2018-02-13T10:15:01.385006Z"
    }
   },
   "outputs": [
    {
     "data": {
      "text/plain": [
       "<b>The Dormouse's story</b>"
      ]
     },
     "execution_count": 4,
     "metadata": {},
     "output_type": "execute_result"
    }
   ],
   "source": [
    "soup.p.b\n"
   ]
  },
  {
   "cell_type": "code",
   "execution_count": 6,
   "metadata": {
    "ExecuteTime": {
     "end_time": "2018-02-13T10:15:54.662693Z",
     "start_time": "2018-02-13T10:15:54.660093Z"
    }
   },
   "outputs": [
    {
     "data": {
      "text/plain": [
       "\"The Dormouse's story\""
      ]
     },
     "execution_count": 6,
     "metadata": {},
     "output_type": "execute_result"
    }
   ],
   "source": [
    "soup.p.b.text\n"
   ]
  },
  {
   "cell_type": "code",
   "execution_count": 7,
   "metadata": {
    "ExecuteTime": {
     "end_time": "2018-02-13T10:16:41.929534Z",
     "start_time": "2018-02-13T10:16:41.926740Z"
    }
   },
   "outputs": [
    {
     "data": {
      "text/plain": [
       "'Elsie'"
      ]
     },
     "execution_count": 7,
     "metadata": {},
     "output_type": "execute_result"
    }
   ],
   "source": [
    "soup.a.text"
   ]
  },
  {
   "cell_type": "markdown",
   "metadata": {},
   "source": [
    "Podemos acceder también a los atributos de un elemento"
   ]
  },
  {
   "cell_type": "code",
   "execution_count": 10,
   "metadata": {
    "ExecuteTime": {
     "end_time": "2018-02-13T10:18:45.267189Z",
     "start_time": "2018-02-13T10:18:45.264377Z"
    }
   },
   "outputs": [
    {
     "data": {
      "text/plain": [
       "{'class': ['sister', 'brother'],\n",
       " 'href': 'http://example.com/elsie',\n",
       " 'id': 'link1'}"
      ]
     },
     "execution_count": 10,
     "metadata": {},
     "output_type": "execute_result"
    }
   ],
   "source": [
    "soup.a.attrs"
   ]
  },
  {
   "cell_type": "code",
   "execution_count": 12,
   "metadata": {
    "ExecuteTime": {
     "end_time": "2018-02-13T10:19:59.090692Z",
     "start_time": "2018-02-13T10:19:59.087891Z"
    }
   },
   "outputs": [
    {
     "data": {
      "text/plain": [
       "['sister', 'brother']"
      ]
     },
     "execution_count": 12,
     "metadata": {},
     "output_type": "execute_result"
    }
   ],
   "source": [
    "soup.a['class']\n",
    "# Equivalente a soup.a.attrs['class]"
   ]
  },
  {
   "cell_type": "markdown",
   "metadata": {},
   "source": [
    "También podemos acceder a padre, hijos y hermanos de un elemento"
   ]
  },
  {
   "cell_type": "code",
   "execution_count": 20,
   "metadata": {
    "ExecuteTime": {
     "end_time": "2018-02-13T10:24:40.381829Z",
     "start_time": "2018-02-13T10:24:40.378771Z"
    }
   },
   "outputs": [
    {
     "data": {
      "text/plain": [
       "',\\n'"
      ]
     },
     "execution_count": 20,
     "metadata": {},
     "output_type": "execute_result"
    }
   ],
   "source": [
    "soup.a.nextSibling"
   ]
  },
  {
   "cell_type": "code",
   "execution_count": 8,
   "metadata": {
    "ExecuteTime": {
     "end_time": "2018-02-12T09:46:12.153044Z",
     "start_time": "2018-02-12T09:46:12.150056Z"
    }
   },
   "outputs": [
    {
     "data": {
      "text/plain": [
       "<a class=\"sister\" href=\"http://example.com/lacie\" id=\"link2\">Lacie</a>"
      ]
     },
     "execution_count": 8,
     "metadata": {},
     "output_type": "execute_result"
    }
   ],
   "source": [
    "soup.a.findNextSibling('a')"
   ]
  },
  {
   "cell_type": "code",
   "execution_count": 17,
   "metadata": {
    "ExecuteTime": {
     "end_time": "2018-02-13T10:22:51.698121Z",
     "start_time": "2018-02-13T10:22:51.695175Z"
    }
   },
   "outputs": [
    {
     "data": {
      "text/plain": [
       "['story']"
      ]
     },
     "execution_count": 17,
     "metadata": {},
     "output_type": "execute_result"
    }
   ],
   "source": [
    "soup.a.parent['class']"
   ]
  },
  {
   "cell_type": "code",
   "execution_count": 19,
   "metadata": {
    "ExecuteTime": {
     "end_time": "2018-02-13T10:23:09.711855Z",
     "start_time": "2018-02-13T10:23:09.708701Z"
    }
   },
   "outputs": [
    {
     "data": {
      "text/plain": [
       "[<b>The Dormouse's story</b>]"
      ]
     },
     "execution_count": 19,
     "metadata": {},
     "output_type": "execute_result"
    }
   ],
   "source": [
    "list(soup.p.children)"
   ]
  },
  {
   "cell_type": "markdown",
   "metadata": {},
   "source": [
    "Realmente, la parte más interesante es la de encontrar todos los elementos de un determinado tipo, o que sean de una determinada clase, o en el que alguno de sus atributos tenga algún valor especial. Esto lo haremos con:\n",
    "\n",
    "- `find`: encuentra el primer elemento\n",
    "- `findall`: genera una lista con todos los elementos que cumplen la condición."
   ]
  },
  {
   "cell_type": "code",
   "execution_count": 21,
   "metadata": {
    "ExecuteTime": {
     "end_time": "2018-02-13T10:25:59.607504Z",
     "start_time": "2018-02-13T10:25:59.604119Z"
    }
   },
   "outputs": [
    {
     "data": {
      "text/plain": [
       "[<a class=\"sister brother\" href=\"http://example.com/elsie\" id=\"link1\">Elsie</a>,\n",
       " <a class=\"sister\" href=\"http://example.com/lacie\" id=\"link2\">Lacie</a>,\n",
       " <a class=\"sister\" href=\"http://example.com/tillie\" id=\"link3\">Tillie</a>]"
      ]
     },
     "execution_count": 21,
     "metadata": {},
     "output_type": "execute_result"
    }
   ],
   "source": [
    "soup.findAll('a')"
   ]
  },
  {
   "cell_type": "code",
   "execution_count": 23,
   "metadata": {
    "ExecuteTime": {
     "end_time": "2018-02-13T10:26:47.744943Z",
     "start_time": "2018-02-13T10:26:47.741418Z"
    }
   },
   "outputs": [
    {
     "data": {
      "text/plain": [
       "[<a class=\"sister brother\" href=\"http://example.com/elsie\" id=\"link1\">Elsie</a>,\n",
       " <a class=\"sister\" href=\"http://example.com/lacie\" id=\"link2\">Lacie</a>,\n",
       " <a class=\"sister\" href=\"http://example.com/tillie\" id=\"link3\">Tillie</a>]"
      ]
     },
     "execution_count": 23,
     "metadata": {},
     "output_type": "execute_result"
    }
   ],
   "source": [
    "soup.findAll('a', attrs={\"class\": \"sister\"})"
   ]
  },
  {
   "cell_type": "code",
   "execution_count": 12,
   "metadata": {
    "ExecuteTime": {
     "end_time": "2018-02-12T09:46:18.120583Z",
     "start_time": "2018-02-12T09:46:18.117900Z"
    }
   },
   "outputs": [
    {
     "name": "stdout",
     "output_type": "stream",
     "text": [
      "None\n"
     ]
    }
   ],
   "source": [
    "# Devuelve None en caso de no existir\n",
    "print(soup.find('a', attrs={\"class\": \"brother\"}))"
   ]
  },
  {
   "cell_type": "markdown",
   "metadata": {},
   "source": [
    "De esta forma, ya podemos extraer todos los enlaces de un documento en HTML"
   ]
  },
  {
   "cell_type": "code",
   "execution_count": 24,
   "metadata": {
    "ExecuteTime": {
     "end_time": "2018-02-13T10:27:30.051772Z",
     "start_time": "2018-02-13T10:27:30.048730Z"
    }
   },
   "outputs": [
    {
     "name": "stdout",
     "output_type": "stream",
     "text": [
      "http://example.com/elsie\n",
      "http://example.com/lacie\n",
      "http://example.com/tillie\n"
     ]
    }
   ],
   "source": [
    "links = soup.findAll('a')\n",
    "for l in links:\n",
    "    print(l['href'])"
   ]
  },
  {
   "cell_type": "markdown",
   "metadata": {
    "ExecuteTime": {
     "end_time": "2018-02-08T10:25:17.354285Z",
     "start_time": "2018-02-08T10:25:17.351958Z"
    }
   },
   "source": [
    "En realidad, existe una forma aún más interesante de realizar esto y es utilizando la función `select` (o `select_one`, si solo nos queremos quedar con el primero, que recibe como parámetro un selector CSS para decidir con qué elementos me quiero quedar "
   ]
  },
  {
   "cell_type": "code",
   "execution_count": 25,
   "metadata": {
    "ExecuteTime": {
     "end_time": "2018-02-13T10:30:36.738174Z",
     "start_time": "2018-02-13T10:30:36.734242Z"
    }
   },
   "outputs": [
    {
     "name": "stdout",
     "output_type": "stream",
     "text": [
      "Once upon a time there were three little sisters; and their names were\n",
      "Elsie,\n",
      "Lacie and\n",
      "Tillie;\n",
      "and they lived at the bottom of a well.\n",
      "...\n"
     ]
    }
   ],
   "source": [
    "# Ignoremos el párrafo de título\n",
    "stories = soup.select('p.story')\n",
    "for t in stories:\n",
    "    print (t.text)"
   ]
  },
  {
   "cell_type": "code",
   "execution_count": 26,
   "metadata": {
    "ExecuteTime": {
     "end_time": "2018-02-13T10:31:54.881880Z",
     "start_time": "2018-02-13T10:31:54.878994Z"
    }
   },
   "outputs": [
    {
     "name": "stdout",
     "output_type": "stream",
     "text": [
      "link1\n",
      "link2\n",
      "link3\n"
     ]
    }
   ],
   "source": [
    "# Ignoremos el párrafo de título\n",
    "stories = soup.select('p.story  a')\n",
    "for t in stories:\n",
    "    print (t['id'])"
   ]
  },
  {
   "cell_type": "markdown",
   "metadata": {},
   "source": [
    "# BS4 y request\n",
    "\n",
    "Para el objetivo de este taller, lo más interesante es combinar la descarga de una web con el uso de BS4. Para ello, proponemos el uso de la librería `request` de la siguiente manera:"
   ]
  },
  {
   "cell_type": "code",
   "execution_count": 27,
   "metadata": {
    "ExecuteTime": {
     "end_time": "2018-02-13T10:42:05.803687Z",
     "start_time": "2018-02-13T10:42:05.575737Z"
    }
   },
   "outputs": [],
   "source": [
    "from bs4 import BeautifulSoup\n",
    "import requests\n",
    "\n",
    "def procesarPagina(url):\n",
    "    \"\"\"\n",
    "    Carga y  procesa el contenido de una URL usando request\n",
    "    Muestra un mensaje de error en caso de no poder cargar la página\n",
    "    \"\"\"\n",
    "     # Realizamos la petición a la web\n",
    "    req = requests.get(url)\n",
    "\n",
    "    # Comprobamos que la petición nos devuelve un Status Code = 200\n",
    "    statusCode = req.status_code\n",
    "    if statusCode == 200:\n",
    "\n",
    "        # Pasamos el contenido HTML de la web a un objeto BeautifulSoup()\n",
    "        html = BeautifulSoup(req.text,\"lxml\")\n",
    "        \n",
    "        # Procesamos el HTML descargado\n",
    "        return procesaHTML(html,url)        \n",
    "        \n",
    "    else:\n",
    "        print (\"ERROR {}\".format(statusCode))\n",
    "\n",
    "def procesaHTML(html, url=\"\"):\n",
    "    \"\"\"\n",
    "    Procesa el contenido HTML de una página web\n",
    "    html es un objeto BS4\n",
    "    url es la URL de la página contenida en html_doc\n",
    "    \"\"\"\n",
    "    # Decide aquí lo que quieres hacer con el contenido \n",
    "    return"
   ]
  },
  {
   "cell_type": "markdown",
   "metadata": {},
   "source": [
    "## Ejemplo: Books to scrape\n",
    "\n",
    "Vamos a probar cómo hacer scraping con BS4 utilizando el sitio web [Books to scrape](http://books.toscrape.com). Como su nombre indica, es un _sandbox_ donde nos dejan  hacer pruebas de web scraping. Utilizando las herramientas de desarrollador del navegador podemos analizar cuál es la estructura de la web que queremos analizar.\n",
    "\n",
    "Vamos primeramente a entender cómo es la página de un producto para luego ver cómo extraeríamos el catálogo completo.\n",
    "\n",
    "### Organización de cada producto\n",
    "\n",
    "La estructura más importante de un producto es la que aquí aparece:\n",
    "\n",
    "```\n",
    "article.product_page\n",
    "    div.product_main\n",
    "        h1 \n",
    "            Texto = Título\n",
    "        p.price_color\n",
    "            Texto = Precio\n",
    "        p.star-rating\n",
    "            La otra clase representa la valoración (One, Two, Three, Four, Five)\n",
    "    div#product_description\n",
    "        sibling p --> descripción\n",
    "    \n",
    "    table\n",
    "        Cada fila tiene info adicional:\n",
    "        UPC\n",
    "        Product type\n",
    "        Price (excl. tax)\n",
    "        ...\n",
    "        \n",
    "```\n",
    "\n",
    "Por ejemplo, comencemos obteniendo el título del producto"
   ]
  },
  {
   "cell_type": "code",
   "execution_count": 29,
   "metadata": {
    "ExecuteTime": {
     "end_time": "2018-02-13T10:43:15.730230Z",
     "start_time": "2018-02-13T10:43:15.481883Z"
    }
   },
   "outputs": [
    {
     "name": "stdout",
     "output_type": "stream",
     "text": [
      "Título:A Light in the Attic\n"
     ]
    }
   ],
   "source": [
    "def procesaHTML(html, url=\"\"):\n",
    "    titulo = html.select_one(\".product_main h1\").text\n",
    "    print (\"Título:\"+ titulo)\n",
    "\n",
    "procesarPagina(\"http://books.toscrape.com/catalogue/a-light-in-the-attic_1000/index.html\")\n"
   ]
  },
  {
   "cell_type": "markdown",
   "metadata": {},
   "source": [
    "Vamos a ir creando un objeto con toda la información de la página"
   ]
  },
  {
   "cell_type": "code",
   "execution_count": 32,
   "metadata": {
    "ExecuteTime": {
     "end_time": "2018-02-13T10:48:27.076245Z",
     "start_time": "2018-02-13T10:48:26.950625Z"
    }
   },
   "outputs": [
    {
     "data": {
      "text/plain": [
       "{'precio': '53.74', 'titulo': 'Tipping the Velvet', 'valoracion': 1}"
      ]
     },
     "execution_count": 32,
     "metadata": {},
     "output_type": "execute_result"
    }
   ],
   "source": [
    "# Nombres de las clases que representan las valoraciones de un producto\n",
    "star = [\"One\", \"Two\", \"Three\", \"Four\", \"Five\"]\n",
    "\n",
    "def starToInt (rating):\n",
    "    \"\"\"\n",
    "    Convierte un rating en forma textual a un rating numérico\n",
    "    Devuelve el número equivalente, o 0, si el rating no es válido\n",
    "    \"\"\"\n",
    "    try:\n",
    "        return star.index(rating) + 1\n",
    "    except:\n",
    "        return 0\n",
    "\n",
    "def procesaHTML(html, url=\"\"):\n",
    "    libro = {}\n",
    "    \n",
    "    prodMain = html.select_one(\".product_main\")\n",
    "\n",
    "    # Título\n",
    "    titulo = prodMain.select_one(\"h1\").text\n",
    "    libro['titulo'] = titulo\n",
    "\n",
    "    # Precio (eliminamos los caracteres anteriores que representan las libras)\n",
    "    precio = prodMain.select_one(\"p.price_color\").text\n",
    "    libro['precio'] = precio[2:]\n",
    "    \n",
    "    # Valoración\n",
    "    # 1. Obtenemos las clases\n",
    "    ratingClasses = prodMain.select_one(\"p.star-rating\")[\"class\"]\n",
    "    \n",
    "    # 2. Nos quedamos con la intersección\n",
    "    ratingText = list(set(ratingClasses).intersection(set(star)))\n",
    "    \n",
    "    # 3. Lo convertimos a un valor numérico\n",
    "    if (len(ratingText)==1):\n",
    "        libro['valoracion'] = starToInt(ratingText[0])\n",
    "    else:\n",
    "        libro['valoracion'] = 0\n",
    "        \n",
    "\n",
    "    return libro\n",
    "\n",
    "    \n",
    "procesarPagina(\"http://books.toscrape.com/catalogue/tipping-the-velvet_999/index.html\")\n"
   ]
  },
  {
   "cell_type": "markdown",
   "metadata": {
    "ExecuteTime": {
     "end_time": "2018-02-08T08:41:21.970237Z",
     "start_time": "2018-02-08T08:41:21.954108Z"
    }
   },
   "source": [
    "Procesar la descripción nos hace buscar el hermano de un elemento:\n"
   ]
  },
  {
   "cell_type": "code",
   "execution_count": 33,
   "metadata": {
    "ExecuteTime": {
     "end_time": "2018-02-13T10:51:48.023145Z",
     "start_time": "2018-02-13T10:51:47.468206Z"
    }
   },
   "outputs": [
    {
     "data": {
      "text/plain": [
       "{'descripcion': \"It's hard to imagine a world without A Light in the Attic. This now-classic collection of poetry and drawings from Shel Silverstein celebrates its 20th anniversary with this special edition. Silverstein's humorous and creative verse can amuse the dowdiest of readers. Lemon-faced adults and fidgety kids sit still and read these rhythmic words and laugh and smile and love th It's hard to imagine a world without A Light in the Attic. This now-classic collection of poetry and drawings from Shel Silverstein celebrates its 20th anniversary with this special edition. Silverstein's humorous and creative verse can amuse the dowdiest of readers. Lemon-faced adults and fidgety kids sit still and read these rhythmic words and laugh and smile and love that Silverstein. Need proof of his genius? RockabyeRockabye baby, in the treetopDon't you know a treetopIs no safe place to rock?And who put you up there,And your cradle, too?Baby, I think someone down here'sGot it in for you. Shel, you never sounded so good. ...more\",\n",
       " 'precio': '51.77',\n",
       " 'titulo': 'A Light in the Attic',\n",
       " 'valoracion': 3}"
      ]
     },
     "execution_count": 33,
     "metadata": {},
     "output_type": "execute_result"
    }
   ],
   "source": [
    "def procesaHTML(html, url=\"\"):\n",
    "    libro = {}\n",
    "    \n",
    "    prodMain = html.select_one(\".product_main\")\n",
    "\n",
    "    # Título\n",
    "    titulo = prodMain.select_one(\"h1\").text\n",
    "    libro['titulo'] = titulo\n",
    "\n",
    "    # Precio (eliminamos los caracteres anteriores que representan las libras)\n",
    "    precio = prodMain.select_one(\"p.price_color\").text\n",
    "    libro['precio'] = precio[2:]\n",
    "    \n",
    "    # Valoración\n",
    "    # 1. Obtenemos las clases\n",
    "    ratingClasses = prodMain.select_one(\"p.star-rating\")[\"class\"]\n",
    "    \n",
    "    # 2. Nos quedamos con la intersección\n",
    "    ratingText = list(set(ratingClasses).intersection(set(star)))\n",
    "    \n",
    "    # 3. Lo convertimos a un valor numérico\n",
    "    if (len(ratingText)==1):\n",
    "        libro['valoracion'] = starToInt(ratingText[0])\n",
    "    else:\n",
    "        libro['valoracion'] = 0\n",
    "        \n",
    "    # Descripción del producto\n",
    "    # 1. Buscamos el elemento que hace de título\n",
    "    prodDescription = html.find(id=\"product_description\")\n",
    "    \n",
    "    # 2. Buscamos el siguiente hermano con etiqueta p\n",
    "    if prodDescription is None:\n",
    "        libro['descripcion'] = \"\"\n",
    "    else:\n",
    "        libro['descripcion'] = prodDescription.find_next_sibling('p').text\n",
    "    \n",
    "    return libro\n",
    "\n",
    "    \n",
    "procesarPagina(\"http://books.toscrape.com/catalogue/a-light-in-the-attic_1000/index.html\")"
   ]
  },
  {
   "cell_type": "markdown",
   "metadata": {
    "collapsed": true
   },
   "source": [
    "### Organización del catálogo\n",
    "\n",
    "Una vez que sabemos cómo procesar un producto vamos a intentar obtener el catálogo completo. La estructura de cada uno de los productos de la página de un catálogo es esta:\n",
    "\n",
    "```\n",
    "article.product_pod\n",
    "    img[src] = URL imagen\n",
    "    h3\n",
    "        Texto = Título del libro\n",
    "        a[href] = enlace\n",
    "``` \n",
    "\n",
    "Se muestran 20 por página y hay un botón `Next` para avanzar. Sin embargo, si nos fijamos un poco veremos que cada vez que pulsamos en el botón nos lleva a una nueva página con una URL del tipo `http://books.toscrape.com/catalogue/page-X.html`. Además, podemos ver que lanza un error 404 si llegamos al final del catálogo.\n",
    "\n",
    "De acuerdo a esto, vamos a ver cómo obtener los enlaces de cada uno de los productos y cómo crear una lista de libros:\n"
   ]
  },
  {
   "cell_type": "code",
   "execution_count": 34,
   "metadata": {
    "ExecuteTime": {
     "end_time": "2018-02-13T10:55:46.138278Z",
     "start_time": "2018-02-13T10:55:45.562355Z"
    }
   },
   "outputs": [
    {
     "name": "stdout",
     "output_type": "stream",
     "text": [
      "a-light-in-the-attic_1000/index.html\n",
      "tipping-the-velvet_999/index.html\n",
      "soumission_998/index.html\n",
      "sharp-objects_997/index.html\n",
      "sapiens-a-brief-history-of-humankind_996/index.html\n",
      "the-requiem-red_995/index.html\n",
      "the-dirty-little-secrets-of-getting-your-dream-job_994/index.html\n",
      "the-coming-woman-a-novel-based-on-the-life-of-the-infamous-feminist-victoria-woodhull_993/index.html\n",
      "the-boys-in-the-boat-nine-americans-and-their-epic-quest-for-gold-at-the-1936-berlin-olympics_992/index.html\n",
      "the-black-maria_991/index.html\n",
      "starving-hearts-triangular-trade-trilogy-1_990/index.html\n",
      "shakespeares-sonnets_989/index.html\n",
      "set-me-free_988/index.html\n",
      "scott-pilgrims-precious-little-life-scott-pilgrim-1_987/index.html\n",
      "rip-it-up-and-start-again_986/index.html\n",
      "our-band-could-be-your-life-scenes-from-the-american-indie-underground-1981-1991_985/index.html\n",
      "olio_984/index.html\n",
      "mesaerion-the-best-science-fiction-stories-1800-1849_983/index.html\n",
      "libertarianism-for-beginners_982/index.html\n",
      "its-only-the-himalayas_981/index.html\n"
     ]
    }
   ],
   "source": [
    "def procesaPaginaCatalogo(url):\n",
    "     # Realizamos la petición a la web\n",
    "    req = requests.get(url)\n",
    "\n",
    "    # Comprobamos que la petición nos devuelve un Status Code = 200\n",
    "    statusCode = req.status_code\n",
    "    if statusCode == 200:\n",
    "\n",
    "        # Pasamos el contenido HTML de la web a un objeto BeautifulSoup()\n",
    "        html = BeautifulSoup(req.text,\"lxml\")\n",
    "        \n",
    "        # Procesamos el HTML descargado\n",
    "        products = html.select('article.product_pod')\n",
    "        for prod in products:\n",
    "            enlace = prod.select_one('h3 > a')\n",
    "            print(enlace['href'])\n",
    "            \n",
    "procesaPaginaCatalogo(\"http://books.toscrape.com/catalogue/page-1.html\")\n",
    "    "
   ]
  },
  {
   "cell_type": "markdown",
   "metadata": {},
   "source": [
    "Los enlaces son relativos por lo que necesitamos definir la ruta completa. Si desde el navegador accedemos a uno de los productos vemos que el prefijo que usa es `http://books.toscrape.com/catalogue/`. Lo añadimos y procesamos cada enlace. Luego vamos componiendo una lista de productos con todos ellos."
   ]
  },
  {
   "cell_type": "code",
   "execution_count": 36,
   "metadata": {
    "ExecuteTime": {
     "end_time": "2018-02-13T10:57:08.085372Z",
     "start_time": "2018-02-13T10:57:05.661011Z"
    }
   },
   "outputs": [
    {
     "data": {
      "text/plain": [
       "20"
      ]
     },
     "execution_count": 36,
     "metadata": {},
     "output_type": "execute_result"
    }
   ],
   "source": [
    "def procesaPaginaCatalogo(url, prefix, productList):\n",
    "     # Realizamos la petición a la web\n",
    "    req = requests.get(url)\n",
    "\n",
    "    # Comprobamos que la petición nos devuelve un Status Code = 200\n",
    "    statusCode = req.status_code\n",
    "    if statusCode == 200:\n",
    "\n",
    "        # Pasamos el contenido HTML de la web a un objeto BeautifulSoup()\n",
    "        html = BeautifulSoup(req.text,\"lxml\")\n",
    "        \n",
    "        # Procesamos el HTML descargado\n",
    "        products = html.select('article.product_pod')\n",
    "        for prod in products:\n",
    "            enlace = prod.select_one('h3 > a')\n",
    "            productList.append(procesarPagina(prefix+enlace['href']))\n",
    "            \n",
    "listaProductos = []\n",
    "procesaPaginaCatalogo(\"http://books.toscrape.com/catalogue/page-1.html\", \"http://books.toscrape.com/catalogue/\", listaProductos)\n",
    "len(listaProductos)"
   ]
  },
  {
   "cell_type": "code",
   "execution_count": 37,
   "metadata": {
    "ExecuteTime": {
     "end_time": "2018-02-13T10:57:10.261120Z",
     "start_time": "2018-02-13T10:57:10.255843Z"
    }
   },
   "outputs": [
    {
     "data": {
      "text/plain": [
       "[{'descripcion': \"It's hard to imagine a world without A Light in the Attic. This now-classic collection of poetry and drawings from Shel Silverstein celebrates its 20th anniversary with this special edition. Silverstein's humorous and creative verse can amuse the dowdiest of readers. Lemon-faced adults and fidgety kids sit still and read these rhythmic words and laugh and smile and love th It's hard to imagine a world without A Light in the Attic. This now-classic collection of poetry and drawings from Shel Silverstein celebrates its 20th anniversary with this special edition. Silverstein's humorous and creative verse can amuse the dowdiest of readers. Lemon-faced adults and fidgety kids sit still and read these rhythmic words and laugh and smile and love that Silverstein. Need proof of his genius? RockabyeRockabye baby, in the treetopDon't you know a treetopIs no safe place to rock?And who put you up there,And your cradle, too?Baby, I think someone down here'sGot it in for you. Shel, you never sounded so good. ...more\",\n",
       "  'precio': '51.77',\n",
       "  'titulo': 'A Light in the Attic',\n",
       "  'valoracion': 3},\n",
       " {'descripcion': '\"Erotic and absorbing...Written with starling power.\"--\"The New York Times Book Review \" Nan King, an oyster girl, is captivated by the music hall phenomenon Kitty Butler, a male impersonator extraordinaire treading the boards in Canterbury. Through a friend at the box office, Nan manages to visit all her shows and finally meet her heroine. Soon after, she becomes Kitty\\'s \"Erotic and absorbing...Written with starling power.\"--\"The New York Times Book Review \" Nan King, an oyster girl, is captivated by the music hall phenomenon Kitty Butler, a male impersonator extraordinaire treading the boards in Canterbury. Through a friend at the box office, Nan manages to visit all her shows and finally meet her heroine. Soon after, she becomes Kitty\\'s dresser and the two head for the bright lights of Leicester Square where they begin a glittering career as music-hall stars in an all-singing and dancing double act. At the same time, behind closed doors, they admit their attraction to each other and their affair begins. ...more',\n",
       "  'precio': '53.74',\n",
       "  'titulo': 'Tipping the Velvet',\n",
       "  'valoracion': 1},\n",
       " {'descripcion': 'Dans une France assez proche de la nÃ´tre, un homme sâ\\x80\\x99engage dans la carriÃ¨re universitaire. Peu motivÃ© par lâ\\x80\\x99enseignement, il sâ\\x80\\x99attend Ã\\xa0 une vie ennuyeuse mais calme, protÃ©gÃ©e des grands drames historiques. Cependant les forces en jeu dans le pays ont fissurÃ© le systÃ¨me politique jusquâ\\x80\\x99Ã\\xa0 provoquer son effondrement. Cette implosion sans soubresauts, sans vraie rÃ©volution, s Dans une France assez proche de la nÃ´tre, un homme sâ\\x80\\x99engage dans la carriÃ¨re universitaire. Peu motivÃ© par lâ\\x80\\x99enseignement, il sâ\\x80\\x99attend Ã\\xa0 une vie ennuyeuse mais calme, protÃ©gÃ©e des grands drames historiques. Cependant les forces en jeu dans le pays ont fissurÃ© le systÃ¨me politique jusquâ\\x80\\x99Ã\\xa0 provoquer son effondrement. Cette implosion sans soubresauts, sans vraie rÃ©volution, se dÃ©veloppe comme un mauvais rÃªve.Le talent de lâ\\x80\\x99auteur, sa force visionnaire nous entraÃ®nent sur un terrain ambigu et glissant ; son regard sur notre civilisation vieillissante fait coexister dans ce roman les intuitions poÃ©tiques, les effets comiques, une mÃ©lancolie fataliste.Ce livre est une saisissante fable politique et morale. ...more',\n",
       "  'precio': '50.10',\n",
       "  'titulo': 'Soumission',\n",
       "  'valoracion': 1},\n",
       " {'descripcion': 'WICKED above her hipbone, GIRL across her heart Words are like a road map to reporter Camille Preakerâ\\x80\\x99s troubled past. Fresh from a brief stay at a psych hospital, Camilleâ\\x80\\x99s first assignment from the second-rate daily paper where she works brings her reluctantly back to her hometown to cover the murders of two preteen girls. NASTY on her kneecap, BABYDOLL on her leg Since WICKED above her hipbone, GIRL across her heart Words are like a road map to reporter Camille Preakerâ\\x80\\x99s troubled past. Fresh from a brief stay at a psych hospital, Camilleâ\\x80\\x99s first assignment from the second-rate daily paper where she works brings her reluctantly back to her hometown to cover the murders of two preteen girls. NASTY on her kneecap, BABYDOLL on her leg Since she left town eight years ago, Camille has hardly spoken to her neurotic, hypochondriac mother or to the half-sister she barely knows: a beautiful thirteen-year-old with an eerie grip on the town. Now, installed again in her familyâ\\x80\\x99s Victorian mansion, Camille is haunted by the childhood tragedy she has spent her whole life trying to cut from her memory. HARMFUL on her wrist, WHORE on her ankle As Camille works to uncover the truth about these violent crimes, she finds herself identifying with the young victimsâ\\x80\\x94a bit too strongly. Clues keep leading to dead ends, forcing Camille to unravel the psychological puzzle of her own past to get at the story. Dogged by her own demons, Camille will have to confront what happened to her years before if she wants to survive this homecoming.With its taut, crafted writing, Sharp Objects is addictive, haunting, and unforgettable. ...more',\n",
       "  'precio': '47.82',\n",
       "  'titulo': 'Sharp Objects',\n",
       "  'valoracion': 4},\n",
       " {'descripcion': 'From a renowned historian comes a groundbreaking narrative of humanityâ\\x80\\x99s creation and evolutionâ\\x80\\x94a #1 international bestsellerâ\\x80\\x94that explores the ways in which biology and history have defined us and enhanced our understanding of what it means to be â\\x80\\x9chuman.â\\x80\\x9dOne hundred thousand years ago, at least six different species of humans inhabited Earth. Yet today there is only oneâ\\x80\\x94h From a renowned historian comes a groundbreaking narrative of humanityâ\\x80\\x99s creation and evolutionâ\\x80\\x94a #1 international bestsellerâ\\x80\\x94that explores the ways in which biology and history have defined us and enhanced our understanding of what it means to be â\\x80\\x9chuman.â\\x80\\x9dOne hundred thousand years ago, at least six different species of humans inhabited Earth. Yet today there is only oneâ\\x80\\x94homo sapiens. What happened to the others? And what may happen to us?Most books about the history of humanity pursue either a historical or a biological approach, but Dr. Yuval Noah Harari breaks the mold with this highly original book that begins about 70,000 years ago with the appearance of modern cognition. From examining the role evolving humans have played in the global ecosystem to charting the rise of empires, Sapiens integrates history and science to reconsider accepted narratives, connect past developments with contemporary concerns, and examine specific events within the context of larger ideas.Dr. Harari also compels us to look ahead, because over the last few decades humans have begun to bend laws of natural selection that have governed life for the past four billion years. We are acquiring the ability to design not only the world around us, but also ourselves. Where is this leading us, and what do we want to become?Featuring 27 photographs, 6 maps, and 25 illustrations/diagrams, this provocative and insightful work is sure to spark debate and is essential reading for aficionados of Jared Diamond, James Gleick, Matt Ridley, Robert Wright, and Sharon Moalem. ...more',\n",
       "  'precio': '54.23',\n",
       "  'titulo': 'Sapiens: A Brief History of Humankind',\n",
       "  'valoracion': 5},\n",
       " {'descripcion': \"Patient Twenty-nine.A monster roams the halls of Soothing Hills Asylum. Three girls dead. 29 is endowed with the curseâ\\x80¦or gift of perception. She hears messages in music, sees lyrics in paintings. And the corn. A lifetime asylum resident, the orchestral corn music is the only constant in her life.Mason, a new, kind orderly, sees 29 as a woman, not a lunatic. And as his bel Patient Twenty-nine.A monster roams the halls of Soothing Hills Asylum. Three girls dead. 29 is endowed with the curseâ\\x80¦or gift of perception. She hears messages in music, sees lyrics in paintings. And the corn. A lifetime asylum resident, the orchestral corn music is the only constant in her life.Mason, a new, kind orderly, sees 29 as a woman, not a lunatic. And as his belief in her grows, so does her self- confidence. That perhaps she might escape, might see the outside world. But the monster has other plans. The missing girls share one common thread...each was twenty-nine's cell mate. Will she be next? ...more\",\n",
       "  'precio': '22.65',\n",
       "  'titulo': 'The Requiem Red',\n",
       "  'valoracion': 1},\n",
       " {'descripcion': \"Drawing on his extensive experience evaluating applicants for his marketing agency, and featuring stories based on real-life situations, sample cover letters, resumes, and straightforward advice, Don Raskinâ\\x80\\x99s The Dirty Little Secrets of Getting Your Dream Job offers all the necessary tools for navigating the tough job market and securing your dream job.Don Raskin owns and Drawing on his extensive experience evaluating applicants for his marketing agency, and featuring stories based on real-life situations, sample cover letters, resumes, and straightforward advice, Don Raskinâ\\x80\\x99s The Dirty Little Secrets of Getting Your Dream Job offers all the necessary tools for navigating the tough job market and securing your dream job.Don Raskin owns and operates MME, an advertising and marketing agency in New York City. During his twenty-five years at the agency he has interviewed hundreds of new college graduates for positions within his agency and has placed a strong emphasis on entry-level recruitment for positions in creative, account management, traffic, and production. Raskin has also mentored countless students and their parents on best practices for the job search. Over the years, Raskin has kept exceptionally detailed notes on the interviews he has conducted, observing the good, the bad, the ridiculous, the irreverent. He also has a treasure trove of over-the-top cover letters, resumes, interviews, and post interview follow-ups he has conducted and received. Now, he wants to share all the wisdom and insider secrets he has gathered to help students and first-time job seekers find a job in this economy.Based on his remarkable expertise, Raskin's book provides exclusive insight into the job search process and lets readers in on all of the dirty little secrets to landing their first jobâ\\x80\\x94or a new oneâ\\x80\\x94and finding career success. ...more\",\n",
       "  'precio': '33.34',\n",
       "  'titulo': 'The Dirty Little Secrets of Getting Your Dream Job',\n",
       "  'valoracion': 4},\n",
       " {'descripcion': '\"If you have a heart, if you have a soul, Karen Hicks\\' The Coming Woman will make you fall in love with Victoria Woodhull.\"-Kinky Friedman, author and Governor of the Heart of Texas \"What kind of confidence would it take for a woman to buck the old boy\\'s club of politics in 1872? More than 140 years pre-Hillary, there was Victoria Woodhull. This book takes you back with a \"If you have a heart, if you have a soul, Karen Hicks\\' The Coming Woman will make you fall in love with Victoria Woodhull.\"-Kinky Friedman, author and Governor of the Heart of Texas \"What kind of confidence would it take for a woman to buck the old boy\\'s club of politics in 1872? More than 140 years pre-Hillary, there was Victoria Woodhull. This book takes you back with a breathtaking, present-tense bird\\'s eye view into a time when women\\'s liberation was primarily confined to one woman\\'s very capable, independent mind. I couldn\\'t put it down.\"---Ruth Buzzi, Golden Globe Award winner and Television Hall of Fame inductee\"Sadly, too many Americans have never heard of Victoria Woodhull, let alone learned of her story: her revolutionary campaign for the presidency at a time when women weren\\'t even allowed to vote, her support for worker\\'s rights, or her feminist commitment to equality, a century before the official battle over the Equal Rights Amendment. But in The Coming Woman, Karen Hicks brings Woodhull\\'s efforts to life, and reminds us that some of our nation\\'s greatest figures aren\\'t always featured in the history books. It is a riveting account of an amazing woman and her struggle for justice and human dignity, told in an engaging and eminently readable style.\"-Tim Wise, author, \"White Like Me: Reflections on Race from a Privileged Son\"\"The Coming Woman\" is a novel based on the life of feminist Victoria Woodhull, the first woman to run for U.S. President, 50 years before women could even vote!Running for President wasn\\'t Victoria\\'s only first as a woman. She was also the first to own a successful Wall Street firm, the first to publish a successful national newspaper, and the first to head the two-million-member Spiritualist Association. She was the first woman to enter the Senate Judiciary Committee chambers to petition for woman\\'s suffrage, her argument changing the entire focus of the suffragist movement by pointing out that the 14th and 15th Amendments already gave women the vote.In her campaign for the Presidency, Victoria Woodhull boldly addressed many of the issues we still face today: equal pay for equal work; freedom in love; corporate greed and political corruption fueled by powerful lobbyists; and the increasing disparity between the rich and the poor, to name only a few. Her outspoken and common-sense ideas may shed a new perspective on the parallel conundrums of today\\'s world.This bold, beautiful, and sexually progressive woman dared to take on society and religion. To make an example of the hypocrisy in what Mark Twain dubbed The Gilded Age, she exposed the extramarital affairs of the most popular religious figure of the day (Henry Ward Beecher). This led to her persecution and imprisonment and the longest, most infamous trial of the 19th century. But it did not stop her fight for equality.Victoria\\'s epic story, set in the late 1800s, comes to life in a modern, fictional style, while staying true to the actual words and views of the many well-known characters. ...more',\n",
       "  'precio': '17.93',\n",
       "  'titulo': 'The Coming Woman: A Novel Based on the Life of the Infamous Feminist, Victoria Woodhull',\n",
       "  'valoracion': 3},\n",
       " {'descripcion': \"For readers of Laura Hillenbrand's Seabiscuit and Unbroken, the dramatic story of the American rowing team that stunned the world at Hitler's 1936 Berlin Olympics Daniel James Brownâ\\x80\\x99s robust book tells the story of the University of Washingtonâ\\x80\\x99s 1936 eight-oar crew and their epic quest for an Olympic gold medal, a team that transformed the sport and grabbed the attention o For readers of Laura Hillenbrand's Seabiscuit and Unbroken, the dramatic story of the American rowing team that stunned the world at Hitler's 1936 Berlin Olympics Daniel James Brownâ\\x80\\x99s robust book tells the story of the University of Washingtonâ\\x80\\x99s 1936 eight-oar crew and their epic quest for an Olympic gold medal, a team that transformed the sport and grabbed the attention of millions of Americans. The sons of loggers, shipyard workers, and farmers, the boys defeated elite rivals first from eastern and British universities and finally the German crew rowing for Adolf Hitler in the Olympic games in Berlin, 1936. The emotional heart of the story lies with one rower, Joe Rantz, a teenager without family or prospects, who rows not for glory, but to regain his shattered self-regard and to find a place he can call home. The crew is assembledÂ\\xa0 by an enigmatic coach and mentored by a visionary, eccentric British boat builder, but it is their trust in each other that makes them a victorious team. They remind the country of what can be done when everyone quite literally pulls togetherâ\\x80\\x94a perfect melding of commitment, determination, and optimism. Drawing on the boysâ\\x80\\x99 own diaries and journals, their photos and memories of a once-in-a-lifetime shared dream, The Boys in the Boat is an irresistible story about beating the odds and finding hope in the most desperate of timesâ\\x80\\x94the improbable, intimate story of nine working-class boys from the American west who, in the depths of the Great Depression, showed the world what true grit really meant. It will appeal to readers of Erik Larson, Timothy Egan, James Bradley, and David Halberstam's The Amateurs. ...more\",\n",
       "  'precio': '22.60',\n",
       "  'titulo': 'The Boys in the Boat: Nine Americans and Their Epic Quest for Gold at the 1936 Berlin Olympics',\n",
       "  'valoracion': 4},\n",
       " {'descripcion': 'Praise for Aracelis Girmay:\"[Girmay\\'s] every lossâ\\x80\\x94she calls them estrangementsâ\\x80\\x94is a yearning for connection across time and place; her every fragment is a bulwark against ruin.\" â\\x80\\x94 O, The Oprah Magazine \"In Aracelis Girmay we have a poet who collects, polishes, and shares stories with such brilliant invention, tenderness, and intellectual liveliness that it is understandabl Praise for Aracelis Girmay:\"[Girmay\\'s] every lossâ\\x80\\x94she calls them estrangementsâ\\x80\\x94is a yearning for connection across time and place; her every fragment is a bulwark against ruin.\" â\\x80\\x94 O, The Oprah Magazine \"In Aracelis Girmay we have a poet who collects, polishes, and shares stories with such brilliant invention, tenderness, and intellectual liveliness that it is understandable that we think of her as the blessed curator of our collective histories. There is in her art the vulnerability of one who lives inside of the stories that she gathers in this remarkable collection. Her poems set off alarms even as they transform the world she inhabits, showing us, in the process, exactly what she asks of Romare Beardenâ\\x80\\x99s art: â\\x80\\x98â\\x80¦how not to // assign all blackness near the sea / a captivity.â\\x80\\x99 This is one of the many sweet contradictions in the black maria, which â\\x80\\x98is a black flag / wounding the pastoral.â\\x80\\x99 I am deeply thankful that we have a poet of her unique and singular talent writing today.\" â\\x80\\x94Kwame DawesTaking its name from the moon\\'s dark plains, misidentified as seas by early astronomers, the black maria investigates African diasporic histories, the consequences of racism within American culture, and the question of human identity. Central to this project is a desire to recognize the lives of Eritrean refugees who have been made invisible by years of immigration crisis, refugee status, exile, and resulting statelessness. The recipient of a 2015 Whiting Award for Poetry, Girmay\\'s newest collection elegizes and celebrates life, while wrestling with the humanistic notion of seeing beyond: seeing violence, seeing grace, and seeing each other better.\"to the sea\"great storage house, historyon which we rode, we touchedthe brief pulse of your flutteringpages, spelled with salt & life,your rage, your indifferenceyour gentleness washing our feet,all of you going onwhether or not we live,to you we bring our carnationsyellow & pink, how they floatlike bright sentences atopyour memory\\'s dark hairAracelis Girmay is the author of three poetry collections, the black maria; Kingdom Animalia, which won the Isabella Gardner Award and was a finalist for the NBCC Award; and Teeth. The recipient of a 2015 Whiting Award, she has received grants and fellowships from the Jerome, Cave Canem, and Watson foundations, as well as Civitella Ranieri and the NEA. She currently teaches at Hampshire College\\'s School for Interdisciplinary Arts and in Drew University\\'s low residency MFA program. Originally from Santa Ana, California, she splits her time between New York and Amherst, Massachusetts. ...more',\n",
       "  'precio': '52.15',\n",
       "  'titulo': 'The Black Maria',\n",
       "  'valoracion': 1},\n",
       " {'descripcion': \"Since her assault, Miss Annette Chetwynd has been plagued by nightmares and worries about an arranged marriage. But she yearns to find her anonymous rescuer. Unfortunately, her health and intellect prevent it. Both repel suitors and cause Annette to doubt God's existence, at least until He answers her prayers in an unusual way ... Mr. Peter Adsley is joining the clergy, an Since her assault, Miss Annette Chetwynd has been plagued by nightmares and worries about an arranged marriage. But she yearns to find her anonymous rescuer. Unfortunately, her health and intellect prevent it. Both repel suitors and cause Annette to doubt God's existence, at least until He answers her prayers in an unusual way ... Mr. Peter Adsley is joining the clergy, and he desires a godly wife by his side. After his failed attempt to obtain one, he engages in a clandestine meeting with the bewitching young woman who keeps crossing his path. But she is so unsettling. Destined for disappointments, Peter and Annette endure disgraceful situations. Will Peter's faith sustain him through overwhelming setbacks? Can Annette overcome her doubts? Or will their starving hearts yield to the machinations of a mad man? ...more\",\n",
       "  'precio': '13.99',\n",
       "  'titulo': 'Starving Hearts (Triangular Trade Trilogy, #1)',\n",
       "  'valoracion': 2},\n",
       " {'descripcion': 'This book is an important and complete collection of the Sonnets of William Shakespeare. Most readers are aware of the great plays and manuscripts written for the stage, but are unaware of the magnificent Sonnets which were written around the same period. This is an excellent, complete collection of the Sonnets and poetry of William Shakespeare and should not be missed by This book is an important and complete collection of the Sonnets of William Shakespeare. Most readers are aware of the great plays and manuscripts written for the stage, but are unaware of the magnificent Sonnets which were written around the same period. This is an excellent, complete collection of the Sonnets and poetry of William Shakespeare and should not be missed by those interested in the completion of a collection of his writings and those interested in early poetic works. ...more',\n",
       "  'precio': '20.66',\n",
       "  'titulo': \"Shakespeare's Sonnets\",\n",
       "  'valoracion': 4},\n",
       " {'descripcion': 'Aaron Ledbetterâ\\x80\\x99s future had been planned out for him since before he was born. Each year, the Ledbetter family vacation on Tybee Island gave Aaron a chance to briefly free himself from his familyâ\\x80\\x99s expectations. When he meets Jonas â\\x80\\x9cLuckyâ\\x80\\x9d Luckett, a caricature artist in town with the traveling carnival, he must choose between the life thatâ\\x80\\x99s been mapped out for him, and Aaron Ledbetterâ\\x80\\x99s future had been planned out for him since before he was born. Each year, the Ledbetter family vacation on Tybee Island gave Aaron a chance to briefly free himself from his familyâ\\x80\\x99s expectations. When he meets Jonas â\\x80\\x9cLuckyâ\\x80\\x9d Luckett, a caricature artist in town with the traveling carnival, he must choose between the life thatâ\\x80\\x99s been mapped out for him, and the chance at true love. ...more',\n",
       "  'precio': '17.46',\n",
       "  'titulo': 'Set Me Free',\n",
       "  'valoracion': 5},\n",
       " {'descripcion': 'Scott Pilgrim\\'s life is totally sweet. He\\'s 23 years old, he\\'s in a rockband, he\\'s \"between jobs\" and he\\'s dating a cute high school girl. Nothing could possibly go wrong, unless a seriously mind-blowing, dangerously fashionable, rollerblading delivery girl named Ramona Flowers starts cruising through his dreams and sailing by him at parties. Will Scott\\'s awesome life get Scott Pilgrim\\'s life is totally sweet. He\\'s 23 years old, he\\'s in a rockband, he\\'s \"between jobs\" and he\\'s dating a cute high school girl. Nothing could possibly go wrong, unless a seriously mind-blowing, dangerously fashionable, rollerblading delivery girl named Ramona Flowers starts cruising through his dreams and sailing by him at parties. Will Scott\\'s awesome life get turned upside-down? Will he have to face Ramona\\'s seven evil ex-boyfriends in battle? The short answer is yes. The long answer is Scott Pilgrim, Volume 1: Scott Pilgrim\\'s Precious Little Life ...more',\n",
       "  'precio': '52.29',\n",
       "  'titulo': \"Scott Pilgrim's Precious Little Life (Scott Pilgrim #1)\",\n",
       "  'valoracion': 5},\n",
       " {'descripcion': \"Punk's raw power rejuvenated rock, but by the summer of 1977 the movement had become a parody of itself. RIP IT UP AND START AGAIN is a celebration of what happened next.Post-punk bands like PiL, Joy Division, Talking Heads, The Fall and The Human League dedicated themselves to fulfilling punk's unfinished musical revolution. The post-punk groups were fervent modernists; w Punk's raw power rejuvenated rock, but by the summer of 1977 the movement had become a parody of itself. RIP IT UP AND START AGAIN is a celebration of what happened next.Post-punk bands like PiL, Joy Division, Talking Heads, The Fall and The Human League dedicated themselves to fulfilling punk's unfinished musical revolution. The post-punk groups were fervent modernists; whether experimenting with electronics and machine rhythm or adapting ideas from dub reggae and disco, they were totally confident they could invent a whole new future for music. ...more\",\n",
       "  'precio': '35.02',\n",
       "  'titulo': 'Rip it Up and Start Again',\n",
       "  'valoracion': 5},\n",
       " {'descripcion': \"This is the never-before-told story of the musical revolution that happened right under the nose of the Reagan Eighties--when a small but sprawling network of bands, labels, fanzines, radio stations, and other subversives reenergized American rock with punk rock's do-it-yourself credo and created music that was deeply personal, often brilliant, always challenging, and imme This is the never-before-told story of the musical revolution that happened right under the nose of the Reagan Eighties--when a small but sprawling network of bands, labels, fanzines, radio stations, and other subversives reenergized American rock with punk rock's do-it-yourself credo and created music that was deeply personal, often brilliant, always challenging, and immensely influential. This sweeping chronicle of music, politics, drugs, fear, loathing, and faith has been recognized as an indie rock classic in its own right. Among the bands profiled: Mission of Burma, Butthole Surfers, The Minutemen, Sonic Youth, Black Flag, Big Black, HÃ¼sker DÃ¼, Fugazi, Minor Threat, Mudhoney, The Replacements, Beat Happening, and Dinosaur Jr. ...more\",\n",
       "  'precio': '57.25',\n",
       "  'titulo': 'Our Band Could Be Your Life: Scenes from the American Indie Underground, 1981-1991',\n",
       "  'valoracion': 3},\n",
       " {'descripcion': \"Part fact, part fiction, Tyehimba Jess's much anticipated second book weaves sonnet, song, and narrative to examine the lives of mostly unrecorded African American performers directly before and after the Civil War up to World War I. Olio is an effort to understand how they met, resisted, complicated, co-opted, and sometimes defeated attempts to minstrelize them.So, while Part fact, part fiction, Tyehimba Jess's much anticipated second book weaves sonnet, song, and narrative to examine the lives of mostly unrecorded African American performers directly before and after the Civil War up to World War I. Olio is an effort to understand how they met, resisted, complicated, co-opted, and sometimes defeated attempts to minstrelize them.So, while I lead this choir, I still find thatI'm being ledâ\\x80¦I'm a missionarymending my faith in the midst of this flockâ\\x80¦I toil in their fields of praise. When folks seethese freedmen stand and sing, they hear their Godspeak in tongues. These nine dark mouths sing shelter;they echo a hymn's haven from slavery's weather.Detroit native Tyehimba Jess' first book of poetry, leadbelly, was a winner of the 2004 National Poetry Series. Jess, a Cave Canem and NYU Alumni, has received fellowships from the Whiting Foundation, National Endowment for the Arts, Illinois Arts Council, and the Provincetown Fine Arts Work Center. Jess is also a veteran of the 2000 and 2001 Green Mill Poetry Slam Team. He exhibited his poetry at the 2011 TEDxNashville Conference. Jess is an Associate Professor of English at College of Staten Island. ...more\",\n",
       "  'precio': '23.88',\n",
       "  'titulo': 'Olio',\n",
       "  'valoracion': 1},\n",
       " {'descripcion': 'Andrew Barger, award-winning author and engineer, has extensively researched forgotten journals and magazines of the early 19th century to locate groundbreaking science fiction short stories in the English language. In doing so, he found what is possibly the first science fiction story by a female (and it is not from Mary Shelley). Andrew located the first steampunk short Andrew Barger, award-winning author and engineer, has extensively researched forgotten journals and magazines of the early 19th century to locate groundbreaking science fiction short stories in the English language. In doing so, he found what is possibly the first science fiction story by a female (and it is not from Mary Shelley). Andrew located the first steampunk short story, which has not been republished since 1844. There is the first voyage to the moon in a balloon, republished for the first time since 1820 that further tells of a darkness machine and a lunarian named Zuloc. Other sci-stories include the first robotic insect and an electricity gun. Once again, Andrew has searched old texts to find the very best science fiction stories from the period when the genre automated to life, some of the stories are published for the first time in nearly 200 years. Read these fantastic stories today!OUR OWN COUNTRY So mechanical has the age become, that men seriously talk of flying machines, to go by steam, --not your air-balloons, but real Daedalian wings, made of wood and joints, nailed to your shoulder, --not wings of feathers and wax like the wings of Icarus, who fell into the Cretan sea, but real, solid, substantial, rock-maple wings with wrought-iron hinges, and huge concavities, to propel us through the air. Knickerbocker Magazine, May 18 ...more',\n",
       "  'precio': '37.59',\n",
       "  'titulo': 'Mesaerion: The Best Science Fiction Stories 1800-1849',\n",
       "  'valoracion': 1},\n",
       " {'descripcion': 'Libertarianism isn\\'t about winning elections; it is first and foremost a political philosophy--a description of how, in the opinion of libertarians, free people ought to treat one another, at least when they use the law, which they regard as potentially dangerous. If libertarians are correct, the law should intrude into people\\'s lives as little as possible, rarely telling Libertarianism isn\\'t about winning elections; it is first and foremost a political philosophy--a description of how, in the opinion of libertarians, free people ought to treat one another, at least when they use the law, which they regard as potentially dangerous. If libertarians are correct, the law should intrude into people\\'s lives as little as possible, rarely telling them what to do or how to live.A political and economic philosophy as old as John Locke and John Stuart Mill, but as alive and timely as Rand Paul, the Tea Party, and the novels of Ayn Rand, libertarianism emphasizes individual rights and calls for a radical reduction in the power and size of government. \"Libertarianism For Beginners\" lays out the history and principles of this often-misunderstood philosophy in lucid, dispassionate terms that help illuminate today\\'s political dialogue.\" ...more',\n",
       "  'precio': '51.33',\n",
       "  'titulo': 'Libertarianism for Beginners',\n",
       "  'valoracion': 2},\n",
       " {'descripcion': 'â\\x80\\x9cWherever you go, whatever you do, just . . . donâ\\x80\\x99t do anything stupid.â\\x80\\x9d â\\x80\\x94My MotherDuring her yearlong adventure backpacking from South Africa to Singapore, S. Bedford definitely did a few things her mother might classify as \"stupid.\" She swam with great white sharks in South Africa, ran from lions in Zimbabwe, climbed a Himalayan mountain without training in Nepal, and wa â\\x80\\x9cWherever you go, whatever you do, just . . . donâ\\x80\\x99t do anything stupid.â\\x80\\x9d â\\x80\\x94My MotherDuring her yearlong adventure backpacking from South Africa to Singapore, S. Bedford definitely did a few things her mother might classify as \"stupid.\" She swam with great white sharks in South Africa, ran from lions in Zimbabwe, climbed a Himalayan mountain without training in Nepal, and watched as her friend was attacked by a monkey in Indonesia.But interspersed in those slightly more crazy moments, Sue Bedfored and her friend \"Sara the Stoic\" experienced the sights, sounds, life, and culture of fifteen countries. Joined along the way by a few friends and their aging fathers here and there, Sue and Sara experience the trip of a lifetime. They fall in love with the world, cultivate an appreciation for home, and discover who, or what, they want to become.It\\'s Only the Himalayas is the incredibly funny, sometimes outlandish, always entertaining confession of a young backpacker that will inspire you to take your own adventure. ...more',\n",
       "  'precio': '45.17',\n",
       "  'titulo': \"It's Only the Himalayas\",\n",
       "  'valoracion': 2}]"
      ]
     },
     "execution_count": 37,
     "metadata": {},
     "output_type": "execute_result"
    }
   ],
   "source": [
    "listaProductos"
   ]
  },
  {
   "cell_type": "markdown",
   "metadata": {},
   "source": [
    "Solo queda iterar por las páginas de los catálogos y parar si tenemos un error 404"
   ]
  },
  {
   "cell_type": "code",
   "execution_count": 38,
   "metadata": {
    "ExecuteTime": {
     "end_time": "2018-02-13T10:59:17.202888Z",
     "start_time": "2018-02-13T10:59:08.884095Z"
    }
   },
   "outputs": [
    {
     "data": {
      "text/plain": [
       "60"
      ]
     },
     "execution_count": 38,
     "metadata": {},
     "output_type": "execute_result"
    }
   ],
   "source": [
    "def procesaPaginaCatalogo(url, prefix, productList):\n",
    "    \"\"\"\n",
    "    Devuelve False si hemos llegado al final del catálogo, True en otro caso\n",
    "    \"\"\"\n",
    "     # Realizamos la petición a la web\n",
    "    req = requests.get(url)\n",
    "\n",
    "    # Comprobamos que la petición nos devuelve un Status Code = 200\n",
    "    statusCode = req.status_code\n",
    "    if statusCode == 200:\n",
    "\n",
    "        # Pasamos el contenido HTML de la web a un objeto BeautifulSoup()\n",
    "        html = BeautifulSoup(req.text,\"lxml\")\n",
    "        \n",
    "        # Procesamos el HTML descargado\n",
    "        products = html.select('article.product_pod')\n",
    "        for prod in products:\n",
    "            enlace = prod.select_one('h3 > a')\n",
    "            producto = procesarPagina(prefix+enlace['href'])\n",
    "            producto['enlace'] = prefix+enlace['href']\n",
    "            productList.append(producto)\n",
    "        return True\n",
    "    \n",
    "    if statusCode == 404:\n",
    "        return False\n",
    "        \n",
    "listaProductos = []\n",
    "# Probamos solo con las dos últimas páginas\n",
    "i=48\n",
    "while ( procesaPaginaCatalogo(\"http://books.toscrape.com/catalogue/page-{}.html\".format(i), \"http://books.toscrape.com/catalogue/\", listaProductos)):\n",
    "    i=i+1\n",
    "\n",
    "len(listaProductos)"
   ]
  },
  {
   "cell_type": "markdown",
   "metadata": {},
   "source": [
    "Finalmente cargaremos todos los datos en un dataframe de pandas para procesarlo, extraer información y guardarlo a un CSV\n"
   ]
  },
  {
   "cell_type": "code",
   "execution_count": 39,
   "metadata": {
    "ExecuteTime": {
     "end_time": "2018-02-13T11:00:16.296948Z",
     "start_time": "2018-02-13T11:00:15.924338Z"
    }
   },
   "outputs": [
    {
     "data": {
      "text/html": [
       "<div>\n",
       "<style scoped>\n",
       "    .dataframe tbody tr th:only-of-type {\n",
       "        vertical-align: middle;\n",
       "    }\n",
       "\n",
       "    .dataframe tbody tr th {\n",
       "        vertical-align: top;\n",
       "    }\n",
       "\n",
       "    .dataframe thead th {\n",
       "        text-align: right;\n",
       "    }\n",
       "</style>\n",
       "<table border=\"1\" class=\"dataframe\">\n",
       "  <thead>\n",
       "    <tr style=\"text-align: right;\">\n",
       "      <th></th>\n",
       "      <th>descripcion</th>\n",
       "      <th>enlace</th>\n",
       "      <th>precio</th>\n",
       "      <th>titulo</th>\n",
       "      <th>valoracion</th>\n",
       "    </tr>\n",
       "  </thead>\n",
       "  <tbody>\n",
       "    <tr>\n",
       "      <th>0</th>\n",
       "      <td>The Bhagavad Gita is an intensely spiritual wo...</td>\n",
       "      <td>http://books.toscrape.com/catalogue/the-bhagav...</td>\n",
       "      <td>57.49</td>\n",
       "      <td>The Bhagavad Gita</td>\n",
       "      <td>3</td>\n",
       "    </tr>\n",
       "    <tr>\n",
       "      <th>1</th>\n",
       "      <td>The morning of her nieceâs wedding, Margo Ju...</td>\n",
       "      <td>http://books.toscrape.com/catalogue/the-bette-...</td>\n",
       "      <td>30.66</td>\n",
       "      <td>The Bette Davis Club</td>\n",
       "      <td>3</td>\n",
       "    </tr>\n",
       "    <tr>\n",
       "      <th>2</th>\n",
       "      <td>Since her twin brother, Eddie, drowned five ye...</td>\n",
       "      <td>http://books.toscrape.com/catalogue/the-art-of...</td>\n",
       "      <td>40.83</td>\n",
       "      <td>The Art of Not Breathing</td>\n",
       "      <td>4</td>\n",
       "    </tr>\n",
       "    <tr>\n",
       "      <th>3</th>\n",
       "      <td>Elli Fisher has never thought she was good eno...</td>\n",
       "      <td>http://books.toscrape.com/catalogue/taking-sho...</td>\n",
       "      <td>18.88</td>\n",
       "      <td>Taking Shots (Assassins #1)</td>\n",
       "      <td>2</td>\n",
       "    </tr>\n",
       "    <tr>\n",
       "      <th>4</th>\n",
       "      <td>On the morning of her wedding, Roma awakens to...</td>\n",
       "      <td>http://books.toscrape.com/catalogue/starlark_5...</td>\n",
       "      <td>25.83</td>\n",
       "      <td>Starlark</td>\n",
       "      <td>3</td>\n",
       "    </tr>\n",
       "    <tr>\n",
       "      <th>5</th>\n",
       "      <td>Kyoko always thought that Sho, whose family to...</td>\n",
       "      <td>http://books.toscrape.com/catalogue/skip-beat-...</td>\n",
       "      <td>42.12</td>\n",
       "      <td>Skip Beat!, Vol. 01 (Skip Beat! #1)</td>\n",
       "      <td>3</td>\n",
       "    </tr>\n",
       "    <tr>\n",
       "      <th>6</th>\n",
       "      <td>THE FIRST TENET OF THE WIND: Do not get caught...</td>\n",
       "      <td>http://books.toscrape.com/catalogue/sister-sab...</td>\n",
       "      <td>13.33</td>\n",
       "      <td>Sister Sable (The Mad Queen #1)</td>\n",
       "      <td>3</td>\n",
       "    </tr>\n",
       "    <tr>\n",
       "      <th>7</th>\n",
       "      <td>I have a curseI have a giftI am a monsterI'm m...</td>\n",
       "      <td>http://books.toscrape.com/catalogue/shatter-me...</td>\n",
       "      <td>42.40</td>\n",
       "      <td>Shatter Me (Shatter Me #1)</td>\n",
       "      <td>1</td>\n",
       "    </tr>\n",
       "    <tr>\n",
       "      <th>8</th>\n",
       "      <td>***USA TODAY BESTSELLER***Bradyâ¦What the hel...</td>\n",
       "      <td>http://books.toscrape.com/catalogue/shameless_...</td>\n",
       "      <td>58.35</td>\n",
       "      <td>Shameless</td>\n",
       "      <td>3</td>\n",
       "    </tr>\n",
       "    <tr>\n",
       "      <th>9</th>\n",
       "      <td>Slaying vampires is childâs play for skinwal...</td>\n",
       "      <td>http://books.toscrape.com/catalogue/shadow-rit...</td>\n",
       "      <td>21.72</td>\n",
       "      <td>Shadow Rites (Jane Yellowrock #10)</td>\n",
       "      <td>4</td>\n",
       "    </tr>\n",
       "    <tr>\n",
       "      <th>10</th>\n",
       "      <td>From the USA TODAY Bestselling author of Scori...</td>\n",
       "      <td>http://books.toscrape.com/catalogue/settling-t...</td>\n",
       "      <td>44.91</td>\n",
       "      <td>Settling the Score (The Summer Games #1)</td>\n",
       "      <td>2</td>\n",
       "    </tr>\n",
       "    <tr>\n",
       "      <th>11</th>\n",
       "      <td>'The more I know of the world, the more am I c...</td>\n",
       "      <td>http://books.toscrape.com/catalogue/sense-and-...</td>\n",
       "      <td>37.46</td>\n",
       "      <td>Sense and Sensibility</td>\n",
       "      <td>1</td>\n",
       "    </tr>\n",
       "    <tr>\n",
       "      <th>12</th>\n",
       "      <td>When two soldiers from opposite sides of a nev...</td>\n",
       "      <td>http://books.toscrape.com/catalogue/saga-volum...</td>\n",
       "      <td>28.48</td>\n",
       "      <td>Saga, Volume 1 (Saga (Collected Editions) #1)</td>\n",
       "      <td>1</td>\n",
       "    </tr>\n",
       "    <tr>\n",
       "      <th>13</th>\n",
       "      <td>Twenty-six-year-old Gaby Barreto might be a lo...</td>\n",
       "      <td>http://books.toscrape.com/catalogue/rhythm-cho...</td>\n",
       "      <td>28.34</td>\n",
       "      <td>Rhythm, Chord &amp; Malykhin</td>\n",
       "      <td>2</td>\n",
       "    </tr>\n",
       "    <tr>\n",
       "      <th>14</th>\n",
       "      <td>Who are the Rat Queens? A pack of booze-guzzli...</td>\n",
       "      <td>http://books.toscrape.com/catalogue/rat-queens...</td>\n",
       "      <td>46.96</td>\n",
       "      <td>Rat Queens, Vol. 1: Sass &amp; Sorcery (Rat Queens...</td>\n",
       "      <td>5</td>\n",
       "    </tr>\n",
       "    <tr>\n",
       "      <th>15</th>\n",
       "      <td>âBetter to reign in Hell, than serve in Heav...</td>\n",
       "      <td>http://books.toscrape.com/catalogue/paradise-l...</td>\n",
       "      <td>24.96</td>\n",
       "      <td>Paradise Lost (Paradise #1)</td>\n",
       "      <td>1</td>\n",
       "    </tr>\n",
       "    <tr>\n",
       "      <th>16</th>\n",
       "      <td>In the early hours after Halloween of 1988, fo...</td>\n",
       "      <td>http://books.toscrape.com/catalogue/paper-girl...</td>\n",
       "      <td>21.71</td>\n",
       "      <td>Paper Girls, Vol. 1 (Paper Girls #1-5)</td>\n",
       "      <td>4</td>\n",
       "    </tr>\n",
       "    <tr>\n",
       "      <th>17</th>\n",
       "      <td>One day, Haruhi, a scholarship student at excl...</td>\n",
       "      <td>http://books.toscrape.com/catalogue/ouran-high...</td>\n",
       "      <td>29.87</td>\n",
       "      <td>Ouran High School Host Club, Vol. 1 (Ouran Hig...</td>\n",
       "      <td>3</td>\n",
       "    </tr>\n",
       "    <tr>\n",
       "      <th>18</th>\n",
       "      <td>From Ilona Andrewsâ#1 New York Times bestsel...</td>\n",
       "      <td>http://books.toscrape.com/catalogue/origins-al...</td>\n",
       "      <td>28.99</td>\n",
       "      <td>Origins (Alphas 0.5)</td>\n",
       "      <td>1</td>\n",
       "    </tr>\n",
       "    <tr>\n",
       "      <th>19</th>\n",
       "      <td>***USA TODAY BESTSELLING SERIES*** EXPLOSIVE F...</td>\n",
       "      <td>http://books.toscrape.com/catalogue/one-second...</td>\n",
       "      <td>52.94</td>\n",
       "      <td>One Second (Seven #7)</td>\n",
       "      <td>2</td>\n",
       "    </tr>\n",
       "    <tr>\n",
       "      <th>20</th>\n",
       "      <td>On the Road chronicles Jack Kerouac's years tr...</td>\n",
       "      <td>http://books.toscrape.com/catalogue/on-the-roa...</td>\n",
       "      <td>32.36</td>\n",
       "      <td>On the Road (Duluoz Legend)</td>\n",
       "      <td>3</td>\n",
       "    </tr>\n",
       "    <tr>\n",
       "      <th>21</th>\n",
       "      <td>Foreword by Wilco's Jeff Tweedy\"Memories are f...</td>\n",
       "      <td>http://books.toscrape.com/catalogue/old-record...</td>\n",
       "      <td>55.66</td>\n",
       "      <td>Old Records Never Die: One Man's Quest for His...</td>\n",
       "      <td>2</td>\n",
       "    </tr>\n",
       "    <tr>\n",
       "      <th>22</th>\n",
       "      <td>âI'm not sure what possessed me to do it. Ma...</td>\n",
       "      <td>http://books.toscrape.com/catalogue/off-sides-...</td>\n",
       "      <td>39.45</td>\n",
       "      <td>Off Sides (Off #1)</td>\n",
       "      <td>5</td>\n",
       "    </tr>\n",
       "    <tr>\n",
       "      <th>23</th>\n",
       "      <td>The compelling story of two outsiders striving...</td>\n",
       "      <td>http://books.toscrape.com/catalogue/of-mice-an...</td>\n",
       "      <td>47.11</td>\n",
       "      <td>Of Mice and Men</td>\n",
       "      <td>2</td>\n",
       "    </tr>\n",
       "    <tr>\n",
       "      <th>24</th>\n",
       "      <td>Alternate Cover Edition: 14783849642016 Revise...</td>\n",
       "      <td>http://books.toscrape.com/catalogue/myriad-pre...</td>\n",
       "      <td>58.75</td>\n",
       "      <td>Myriad (Prentor #1)</td>\n",
       "      <td>4</td>\n",
       "    </tr>\n",
       "    <tr>\n",
       "      <th>25</th>\n",
       "      <td>What happens in Aspenis definitely not staying...</td>\n",
       "      <td>http://books.toscrape.com/catalogue/my-perfect...</td>\n",
       "      <td>38.92</td>\n",
       "      <td>My Perfect Mistake (Over the Top #1)</td>\n",
       "      <td>2</td>\n",
       "    </tr>\n",
       "    <tr>\n",
       "      <th>26</th>\n",
       "      <td>Marvel Comics presents the new Ms. Marvel, the...</td>\n",
       "      <td>http://books.toscrape.com/catalogue/ms-marvel-...</td>\n",
       "      <td>39.39</td>\n",
       "      <td>Ms. Marvel, Vol. 1: No Normal (Ms. Marvel (201...</td>\n",
       "      <td>4</td>\n",
       "    </tr>\n",
       "    <tr>\n",
       "      <th>27</th>\n",
       "      <td>Written in Greek, without any intention of pub...</td>\n",
       "      <td>http://books.toscrape.com/catalogue/meditation...</td>\n",
       "      <td>25.89</td>\n",
       "      <td>Meditations</td>\n",
       "      <td>2</td>\n",
       "    </tr>\n",
       "    <tr>\n",
       "      <th>28</th>\n",
       "      <td>Matilda is a little girl who is far too good t...</td>\n",
       "      <td>http://books.toscrape.com/catalogue/matilda_32...</td>\n",
       "      <td>28.34</td>\n",
       "      <td>Matilda</td>\n",
       "      <td>1</td>\n",
       "    </tr>\n",
       "    <tr>\n",
       "      <th>29</th>\n",
       "      <td>England, 1921. Three years after her husband, ...</td>\n",
       "      <td>http://books.toscrape.com/catalogue/lost-among...</td>\n",
       "      <td>27.70</td>\n",
       "      <td>Lost Among the Living</td>\n",
       "      <td>4</td>\n",
       "    </tr>\n",
       "    <tr>\n",
       "      <th>30</th>\n",
       "      <td>Since it was first published in 1954, William ...</td>\n",
       "      <td>http://books.toscrape.com/catalogue/lord-of-th...</td>\n",
       "      <td>24.89</td>\n",
       "      <td>Lord of the Flies</td>\n",
       "      <td>3</td>\n",
       "    </tr>\n",
       "    <tr>\n",
       "      <th>31</th>\n",
       "      <td>In New York Times and USA Today bestselling au...</td>\n",
       "      <td>http://books.toscrape.com/catalogue/listen-to-...</td>\n",
       "      <td>58.99</td>\n",
       "      <td>Listen to Me (Fusion #1)</td>\n",
       "      <td>3</td>\n",
       "    </tr>\n",
       "    <tr>\n",
       "      <th>32</th>\n",
       "      <td>âA sweet and savory treat.â âPeopleâAn...</td>\n",
       "      <td>http://books.toscrape.com/catalogue/kitchens-o...</td>\n",
       "      <td>57.20</td>\n",
       "      <td>Kitchens of the Great Midwest</td>\n",
       "      <td>5</td>\n",
       "    </tr>\n",
       "    <tr>\n",
       "      <th>33</th>\n",
       "      <td>Orphaned into the household of her Aunt Reed a...</td>\n",
       "      <td>http://books.toscrape.com/catalogue/jane-eyre_...</td>\n",
       "      <td>38.43</td>\n",
       "      <td>Jane Eyre</td>\n",
       "      <td>5</td>\n",
       "    </tr>\n",
       "    <tr>\n",
       "      <th>34</th>\n",
       "      <td>Imperfect harmony can still be beautifulâ¦Joh...</td>\n",
       "      <td>http://books.toscrape.com/catalogue/imperfect-...</td>\n",
       "      <td>34.74</td>\n",
       "      <td>Imperfect Harmony</td>\n",
       "      <td>4</td>\n",
       "    </tr>\n",
       "    <tr>\n",
       "      <th>35</th>\n",
       "      <td>Hailed by Jami Davenport as her âgo-to autho...</td>\n",
       "      <td>http://books.toscrape.com/catalogue/icing-aces...</td>\n",
       "      <td>40.44</td>\n",
       "      <td>Icing (Aces Hockey #2)</td>\n",
       "      <td>4</td>\n",
       "    </tr>\n",
       "    <tr>\n",
       "      <th>36</th>\n",
       "      <td>The breakout star of this summer's blockbuster...</td>\n",
       "      <td>http://books.toscrape.com/catalogue/hawkeye-vo...</td>\n",
       "      <td>45.24</td>\n",
       "      <td>Hawkeye, Vol. 1: My Life as a Weapon (Hawkeye #1)</td>\n",
       "      <td>3</td>\n",
       "    </tr>\n",
       "    <tr>\n",
       "      <th>37</th>\n",
       "      <td>Meganâs ready to give birth, but sheâs not...</td>\n",
       "      <td>http://books.toscrape.com/catalogue/having-the...</td>\n",
       "      <td>34.96</td>\n",
       "      <td>Having the Barbarian's Baby (Ice Planet Barbar...</td>\n",
       "      <td>4</td>\n",
       "    </tr>\n",
       "    <tr>\n",
       "      <th>38</th>\n",
       "      <td>Susan, Esther, and Daisy started at university...</td>\n",
       "      <td>http://books.toscrape.com/catalogue/giant-days...</td>\n",
       "      <td>56.76</td>\n",
       "      <td>Giant Days, Vol. 1 (Giant Days #1-4)</td>\n",
       "      <td>4</td>\n",
       "    </tr>\n",
       "    <tr>\n",
       "      <th>39</th>\n",
       "      <td>A family with an ancient curse...And the girl ...</td>\n",
       "      <td>http://books.toscrape.com/catalogue/fruits-bas...</td>\n",
       "      <td>40.28</td>\n",
       "      <td>Fruits Basket, Vol. 1 (Fruits Basket #1)</td>\n",
       "      <td>5</td>\n",
       "    </tr>\n",
       "    <tr>\n",
       "      <th>40</th>\n",
       "      <td>Mary Shelley began writing Frankenstein when s...</td>\n",
       "      <td>http://books.toscrape.com/catalogue/frankenste...</td>\n",
       "      <td>38.00</td>\n",
       "      <td>Frankenstein</td>\n",
       "      <td>2</td>\n",
       "    </tr>\n",
       "    <tr>\n",
       "      <th>41</th>\n",
       "      <td>My Happily Ever After was turning into a livin...</td>\n",
       "      <td>http://books.toscrape.com/catalogue/forever-ro...</td>\n",
       "      <td>28.80</td>\n",
       "      <td>Forever Rockers (The Rocker #12)</td>\n",
       "      <td>3</td>\n",
       "    </tr>\n",
       "    <tr>\n",
       "      <th>42</th>\n",
       "      <td>***BONUS CONTENT: The first two chapters of JB...</td>\n",
       "      <td>http://books.toscrape.com/catalogue/fighting-f...</td>\n",
       "      <td>39.24</td>\n",
       "      <td>Fighting Fate (Fighting #6)</td>\n",
       "      <td>3</td>\n",
       "    </tr>\n",
       "    <tr>\n",
       "      <th>43</th>\n",
       "      <td>'I never have been in love; it is not my way, ...</td>\n",
       "      <td>http://books.toscrape.com/catalogue/emma_17/in...</td>\n",
       "      <td>32.93</td>\n",
       "      <td>Emma</td>\n",
       "      <td>2</td>\n",
       "    </tr>\n",
       "    <tr>\n",
       "      <th>44</th>\n",
       "      <td>In her early thirties, Elizabeth Gilbert had e...</td>\n",
       "      <td>http://books.toscrape.com/catalogue/eat-pray-l...</td>\n",
       "      <td>51.32</td>\n",
       "      <td>Eat, Pray, Love</td>\n",
       "      <td>3</td>\n",
       "    </tr>\n",
       "    <tr>\n",
       "      <th>45</th>\n",
       "      <td>Alternate cover edition for 9781682302262Myla ...</td>\n",
       "      <td>http://books.toscrape.com/catalogue/deep-under...</td>\n",
       "      <td>47.09</td>\n",
       "      <td>Deep Under (Walker Security #1)</td>\n",
       "      <td>5</td>\n",
       "    </tr>\n",
       "    <tr>\n",
       "      <th>46</th>\n",
       "      <td>To the dismay of religious leaders, study afte...</td>\n",
       "      <td>http://books.toscrape.com/catalogue/choosing-o...</td>\n",
       "      <td>28.42</td>\n",
       "      <td>Choosing Our Religion: The Spiritual Lives of ...</td>\n",
       "      <td>4</td>\n",
       "    </tr>\n",
       "    <tr>\n",
       "      <th>47</th>\n",
       "      <td>Complete with stunning new movie art for the c...</td>\n",
       "      <td>http://books.toscrape.com/catalogue/charlie-an...</td>\n",
       "      <td>22.85</td>\n",
       "      <td>Charlie and the Chocolate Factory (Charlie Buc...</td>\n",
       "      <td>3</td>\n",
       "    </tr>\n",
       "    <tr>\n",
       "      <th>48</th>\n",
       "      <td>From the Winner of 2015's Inspirational Reader...</td>\n",
       "      <td>http://books.toscrape.com/catalogue/charitys-c...</td>\n",
       "      <td>41.24</td>\n",
       "      <td>Charity's Cross (Charles Towne Belles #4)</td>\n",
       "      <td>1</td>\n",
       "    </tr>\n",
       "    <tr>\n",
       "      <th>49</th>\n",
       "      <td>A vibrant debut novel, set in Brooklyn and Ban...</td>\n",
       "      <td>http://books.toscrape.com/catalogue/bright-lin...</td>\n",
       "      <td>39.07</td>\n",
       "      <td>Bright Lines</td>\n",
       "      <td>5</td>\n",
       "    </tr>\n",
       "    <tr>\n",
       "      <th>50</th>\n",
       "      <td>Meet Bridget Jonesâa 30-something Singleton ...</td>\n",
       "      <td>http://books.toscrape.com/catalogue/bridget-jo...</td>\n",
       "      <td>29.82</td>\n",
       "      <td>Bridget Jones's Diary (Bridget Jones #1)</td>\n",
       "      <td>1</td>\n",
       "    </tr>\n",
       "    <tr>\n",
       "      <th>51</th>\n",
       "      <td>Justice Lonesome has enjoyed a life of bounty....</td>\n",
       "      <td>http://books.toscrape.com/catalogue/bounty-col...</td>\n",
       "      <td>37.26</td>\n",
       "      <td>Bounty (Colorado Mountain #7)</td>\n",
       "      <td>4</td>\n",
       "    </tr>\n",
       "    <tr>\n",
       "      <th>52</th>\n",
       "      <td>First in a new series from bestselling author ...</td>\n",
       "      <td>http://books.toscrape.com/catalogue/blood-defe...</td>\n",
       "      <td>20.30</td>\n",
       "      <td>Blood Defense (Samantha Brinkman #1)</td>\n",
       "      <td>3</td>\n",
       "    </tr>\n",
       "    <tr>\n",
       "      <th>53</th>\n",
       "      <td>Hot-tempered 15-year-old Ichigo Kurosaki, the ...</td>\n",
       "      <td>http://books.toscrape.com/catalogue/bleach-vol...</td>\n",
       "      <td>34.65</td>\n",
       "      <td>Bleach, Vol. 1: Strawberry and the Soul Reaper...</td>\n",
       "      <td>5</td>\n",
       "    </tr>\n",
       "    <tr>\n",
       "      <th>54</th>\n",
       "      <td>Friedrich Nietzsche's Beyond Good and Evil is ...</td>\n",
       "      <td>http://books.toscrape.com/catalogue/beyond-goo...</td>\n",
       "      <td>43.38</td>\n",
       "      <td>Beyond Good and Evil</td>\n",
       "      <td>1</td>\n",
       "    </tr>\n",
       "    <tr>\n",
       "      <th>55</th>\n",
       "      <td></td>\n",
       "      <td>http://books.toscrape.com/catalogue/alice-in-w...</td>\n",
       "      <td>55.53</td>\n",
       "      <td>Alice in Wonderland (Alice's Adventures in Won...</td>\n",
       "      <td>1</td>\n",
       "    </tr>\n",
       "    <tr>\n",
       "      <th>56</th>\n",
       "      <td>High school student Kei Nagai is struck dead i...</td>\n",
       "      <td>http://books.toscrape.com/catalogue/ajin-demi-...</td>\n",
       "      <td>57.06</td>\n",
       "      <td>Ajin: Demi-Human, Volume 1 (Ajin: Demi-Human #1)</td>\n",
       "      <td>4</td>\n",
       "    </tr>\n",
       "    <tr>\n",
       "      <th>57</th>\n",
       "      <td>In Englandâs Regency era, manners and elegan...</td>\n",
       "      <td>http://books.toscrape.com/catalogue/a-spys-dev...</td>\n",
       "      <td>16.97</td>\n",
       "      <td>A Spy's Devotion (The Regency Spies of London #1)</td>\n",
       "      <td>5</td>\n",
       "    </tr>\n",
       "    <tr>\n",
       "      <th>58</th>\n",
       "      <td>James Patterson, bestselling author of the Ale...</td>\n",
       "      <td>http://books.toscrape.com/catalogue/1st-to-die...</td>\n",
       "      <td>53.98</td>\n",
       "      <td>1st to Die (Women's Murder Club #1)</td>\n",
       "      <td>1</td>\n",
       "    </tr>\n",
       "    <tr>\n",
       "      <th>59</th>\n",
       "      <td>Around the World, continent by continent, here...</td>\n",
       "      <td>http://books.toscrape.com/catalogue/1000-place...</td>\n",
       "      <td>26.08</td>\n",
       "      <td>1,000 Places to See Before You Die</td>\n",
       "      <td>5</td>\n",
       "    </tr>\n",
       "  </tbody>\n",
       "</table>\n",
       "</div>"
      ],
      "text/plain": [
       "                                          descripcion  \\\n",
       "0   The Bhagavad Gita is an intensely spiritual wo...   \n",
       "1   The morning of her nieceâs wedding, Margo Ju...   \n",
       "2   Since her twin brother, Eddie, drowned five ye...   \n",
       "3   Elli Fisher has never thought she was good eno...   \n",
       "4   On the morning of her wedding, Roma awakens to...   \n",
       "5   Kyoko always thought that Sho, whose family to...   \n",
       "6   THE FIRST TENET OF THE WIND: Do not get caught...   \n",
       "7   I have a curseI have a giftI am a monsterI'm m...   \n",
       "8   ***USA TODAY BESTSELLER***Bradyâ¦What the hel...   \n",
       "9   Slaying vampires is childâs play for skinwal...   \n",
       "10  From the USA TODAY Bestselling author of Scori...   \n",
       "11  'The more I know of the world, the more am I c...   \n",
       "12  When two soldiers from opposite sides of a nev...   \n",
       "13  Twenty-six-year-old Gaby Barreto might be a lo...   \n",
       "14  Who are the Rat Queens? A pack of booze-guzzli...   \n",
       "15  âBetter to reign in Hell, than serve in Heav...   \n",
       "16  In the early hours after Halloween of 1988, fo...   \n",
       "17  One day, Haruhi, a scholarship student at excl...   \n",
       "18  From Ilona Andrewsâ#1 New York Times bestsel...   \n",
       "19  ***USA TODAY BESTSELLING SERIES*** EXPLOSIVE F...   \n",
       "20  On the Road chronicles Jack Kerouac's years tr...   \n",
       "21  Foreword by Wilco's Jeff Tweedy\"Memories are f...   \n",
       "22  âI'm not sure what possessed me to do it. Ma...   \n",
       "23  The compelling story of two outsiders striving...   \n",
       "24  Alternate Cover Edition: 14783849642016 Revise...   \n",
       "25  What happens in Aspenis definitely not staying...   \n",
       "26  Marvel Comics presents the new Ms. Marvel, the...   \n",
       "27  Written in Greek, without any intention of pub...   \n",
       "28  Matilda is a little girl who is far too good t...   \n",
       "29  England, 1921. Three years after her husband, ...   \n",
       "30  Since it was first published in 1954, William ...   \n",
       "31  In New York Times and USA Today bestselling au...   \n",
       "32  âA sweet and savory treat.â âPeopleâAn...   \n",
       "33  Orphaned into the household of her Aunt Reed a...   \n",
       "34  Imperfect harmony can still be beautifulâ¦Joh...   \n",
       "35  Hailed by Jami Davenport as her âgo-to autho...   \n",
       "36  The breakout star of this summer's blockbuster...   \n",
       "37  Meganâs ready to give birth, but sheâs not...   \n",
       "38  Susan, Esther, and Daisy started at university...   \n",
       "39  A family with an ancient curse...And the girl ...   \n",
       "40  Mary Shelley began writing Frankenstein when s...   \n",
       "41  My Happily Ever After was turning into a livin...   \n",
       "42  ***BONUS CONTENT: The first two chapters of JB...   \n",
       "43  'I never have been in love; it is not my way, ...   \n",
       "44  In her early thirties, Elizabeth Gilbert had e...   \n",
       "45  Alternate cover edition for 9781682302262Myla ...   \n",
       "46  To the dismay of religious leaders, study afte...   \n",
       "47  Complete with stunning new movie art for the c...   \n",
       "48  From the Winner of 2015's Inspirational Reader...   \n",
       "49  A vibrant debut novel, set in Brooklyn and Ban...   \n",
       "50  Meet Bridget Jonesâa 30-something Singleton ...   \n",
       "51  Justice Lonesome has enjoyed a life of bounty....   \n",
       "52  First in a new series from bestselling author ...   \n",
       "53  Hot-tempered 15-year-old Ichigo Kurosaki, the ...   \n",
       "54  Friedrich Nietzsche's Beyond Good and Evil is ...   \n",
       "55                                                      \n",
       "56  High school student Kei Nagai is struck dead i...   \n",
       "57  In Englandâs Regency era, manners and elegan...   \n",
       "58  James Patterson, bestselling author of the Ale...   \n",
       "59  Around the World, continent by continent, here...   \n",
       "\n",
       "                                               enlace precio  \\\n",
       "0   http://books.toscrape.com/catalogue/the-bhagav...  57.49   \n",
       "1   http://books.toscrape.com/catalogue/the-bette-...  30.66   \n",
       "2   http://books.toscrape.com/catalogue/the-art-of...  40.83   \n",
       "3   http://books.toscrape.com/catalogue/taking-sho...  18.88   \n",
       "4   http://books.toscrape.com/catalogue/starlark_5...  25.83   \n",
       "5   http://books.toscrape.com/catalogue/skip-beat-...  42.12   \n",
       "6   http://books.toscrape.com/catalogue/sister-sab...  13.33   \n",
       "7   http://books.toscrape.com/catalogue/shatter-me...  42.40   \n",
       "8   http://books.toscrape.com/catalogue/shameless_...  58.35   \n",
       "9   http://books.toscrape.com/catalogue/shadow-rit...  21.72   \n",
       "10  http://books.toscrape.com/catalogue/settling-t...  44.91   \n",
       "11  http://books.toscrape.com/catalogue/sense-and-...  37.46   \n",
       "12  http://books.toscrape.com/catalogue/saga-volum...  28.48   \n",
       "13  http://books.toscrape.com/catalogue/rhythm-cho...  28.34   \n",
       "14  http://books.toscrape.com/catalogue/rat-queens...  46.96   \n",
       "15  http://books.toscrape.com/catalogue/paradise-l...  24.96   \n",
       "16  http://books.toscrape.com/catalogue/paper-girl...  21.71   \n",
       "17  http://books.toscrape.com/catalogue/ouran-high...  29.87   \n",
       "18  http://books.toscrape.com/catalogue/origins-al...  28.99   \n",
       "19  http://books.toscrape.com/catalogue/one-second...  52.94   \n",
       "20  http://books.toscrape.com/catalogue/on-the-roa...  32.36   \n",
       "21  http://books.toscrape.com/catalogue/old-record...  55.66   \n",
       "22  http://books.toscrape.com/catalogue/off-sides-...  39.45   \n",
       "23  http://books.toscrape.com/catalogue/of-mice-an...  47.11   \n",
       "24  http://books.toscrape.com/catalogue/myriad-pre...  58.75   \n",
       "25  http://books.toscrape.com/catalogue/my-perfect...  38.92   \n",
       "26  http://books.toscrape.com/catalogue/ms-marvel-...  39.39   \n",
       "27  http://books.toscrape.com/catalogue/meditation...  25.89   \n",
       "28  http://books.toscrape.com/catalogue/matilda_32...  28.34   \n",
       "29  http://books.toscrape.com/catalogue/lost-among...  27.70   \n",
       "30  http://books.toscrape.com/catalogue/lord-of-th...  24.89   \n",
       "31  http://books.toscrape.com/catalogue/listen-to-...  58.99   \n",
       "32  http://books.toscrape.com/catalogue/kitchens-o...  57.20   \n",
       "33  http://books.toscrape.com/catalogue/jane-eyre_...  38.43   \n",
       "34  http://books.toscrape.com/catalogue/imperfect-...  34.74   \n",
       "35  http://books.toscrape.com/catalogue/icing-aces...  40.44   \n",
       "36  http://books.toscrape.com/catalogue/hawkeye-vo...  45.24   \n",
       "37  http://books.toscrape.com/catalogue/having-the...  34.96   \n",
       "38  http://books.toscrape.com/catalogue/giant-days...  56.76   \n",
       "39  http://books.toscrape.com/catalogue/fruits-bas...  40.28   \n",
       "40  http://books.toscrape.com/catalogue/frankenste...  38.00   \n",
       "41  http://books.toscrape.com/catalogue/forever-ro...  28.80   \n",
       "42  http://books.toscrape.com/catalogue/fighting-f...  39.24   \n",
       "43  http://books.toscrape.com/catalogue/emma_17/in...  32.93   \n",
       "44  http://books.toscrape.com/catalogue/eat-pray-l...  51.32   \n",
       "45  http://books.toscrape.com/catalogue/deep-under...  47.09   \n",
       "46  http://books.toscrape.com/catalogue/choosing-o...  28.42   \n",
       "47  http://books.toscrape.com/catalogue/charlie-an...  22.85   \n",
       "48  http://books.toscrape.com/catalogue/charitys-c...  41.24   \n",
       "49  http://books.toscrape.com/catalogue/bright-lin...  39.07   \n",
       "50  http://books.toscrape.com/catalogue/bridget-jo...  29.82   \n",
       "51  http://books.toscrape.com/catalogue/bounty-col...  37.26   \n",
       "52  http://books.toscrape.com/catalogue/blood-defe...  20.30   \n",
       "53  http://books.toscrape.com/catalogue/bleach-vol...  34.65   \n",
       "54  http://books.toscrape.com/catalogue/beyond-goo...  43.38   \n",
       "55  http://books.toscrape.com/catalogue/alice-in-w...  55.53   \n",
       "56  http://books.toscrape.com/catalogue/ajin-demi-...  57.06   \n",
       "57  http://books.toscrape.com/catalogue/a-spys-dev...  16.97   \n",
       "58  http://books.toscrape.com/catalogue/1st-to-die...  53.98   \n",
       "59  http://books.toscrape.com/catalogue/1000-place...  26.08   \n",
       "\n",
       "                                               titulo  valoracion  \n",
       "0                                   The Bhagavad Gita           3  \n",
       "1                                The Bette Davis Club           3  \n",
       "2                            The Art of Not Breathing           4  \n",
       "3                         Taking Shots (Assassins #1)           2  \n",
       "4                                            Starlark           3  \n",
       "5                 Skip Beat!, Vol. 01 (Skip Beat! #1)           3  \n",
       "6                     Sister Sable (The Mad Queen #1)           3  \n",
       "7                          Shatter Me (Shatter Me #1)           1  \n",
       "8                                           Shameless           3  \n",
       "9                  Shadow Rites (Jane Yellowrock #10)           4  \n",
       "10           Settling the Score (The Summer Games #1)           2  \n",
       "11                              Sense and Sensibility           1  \n",
       "12      Saga, Volume 1 (Saga (Collected Editions) #1)           1  \n",
       "13                           Rhythm, Chord & Malykhin           2  \n",
       "14  Rat Queens, Vol. 1: Sass & Sorcery (Rat Queens...           5  \n",
       "15                        Paradise Lost (Paradise #1)           1  \n",
       "16             Paper Girls, Vol. 1 (Paper Girls #1-5)           4  \n",
       "17  Ouran High School Host Club, Vol. 1 (Ouran Hig...           3  \n",
       "18                               Origins (Alphas 0.5)           1  \n",
       "19                              One Second (Seven #7)           2  \n",
       "20                        On the Road (Duluoz Legend)           3  \n",
       "21  Old Records Never Die: One Man's Quest for His...           2  \n",
       "22                                 Off Sides (Off #1)           5  \n",
       "23                                    Of Mice and Men           2  \n",
       "24                                Myriad (Prentor #1)           4  \n",
       "25               My Perfect Mistake (Over the Top #1)           2  \n",
       "26  Ms. Marvel, Vol. 1: No Normal (Ms. Marvel (201...           4  \n",
       "27                                        Meditations           2  \n",
       "28                                            Matilda           1  \n",
       "29                              Lost Among the Living           4  \n",
       "30                                  Lord of the Flies           3  \n",
       "31                           Listen to Me (Fusion #1)           3  \n",
       "32                      Kitchens of the Great Midwest           5  \n",
       "33                                          Jane Eyre           5  \n",
       "34                                  Imperfect Harmony           4  \n",
       "35                             Icing (Aces Hockey #2)           4  \n",
       "36  Hawkeye, Vol. 1: My Life as a Weapon (Hawkeye #1)           3  \n",
       "37  Having the Barbarian's Baby (Ice Planet Barbar...           4  \n",
       "38               Giant Days, Vol. 1 (Giant Days #1-4)           4  \n",
       "39           Fruits Basket, Vol. 1 (Fruits Basket #1)           5  \n",
       "40                                       Frankenstein           2  \n",
       "41                   Forever Rockers (The Rocker #12)           3  \n",
       "42                        Fighting Fate (Fighting #6)           3  \n",
       "43                                               Emma           2  \n",
       "44                                    Eat, Pray, Love           3  \n",
       "45                    Deep Under (Walker Security #1)           5  \n",
       "46  Choosing Our Religion: The Spiritual Lives of ...           4  \n",
       "47  Charlie and the Chocolate Factory (Charlie Buc...           3  \n",
       "48          Charity's Cross (Charles Towne Belles #4)           1  \n",
       "49                                       Bright Lines           5  \n",
       "50           Bridget Jones's Diary (Bridget Jones #1)           1  \n",
       "51                      Bounty (Colorado Mountain #7)           4  \n",
       "52               Blood Defense (Samantha Brinkman #1)           3  \n",
       "53  Bleach, Vol. 1: Strawberry and the Soul Reaper...           5  \n",
       "54                               Beyond Good and Evil           1  \n",
       "55  Alice in Wonderland (Alice's Adventures in Won...           1  \n",
       "56   Ajin: Demi-Human, Volume 1 (Ajin: Demi-Human #1)           4  \n",
       "57  A Spy's Devotion (The Regency Spies of London #1)           5  \n",
       "58                1st to Die (Women's Murder Club #1)           1  \n",
       "59                 1,000 Places to See Before You Die           5  "
      ]
     },
     "execution_count": 39,
     "metadata": {},
     "output_type": "execute_result"
    }
   ],
   "source": [
    "import pandas as pd\n",
    "df = pd.DataFrame(listaProductos)\n",
    "df.to_csv(\"listaProductos.csv\", sep=\";\", index=False)\n",
    "df"
   ]
  },
  {
   "cell_type": "markdown",
   "metadata": {},
   "source": [
    "## Extra: Municipios y habitantes de Madrid\n",
    "\n",
    "Para terminar y a modo de ejemplo extra, extraeremos los municipios y número de habitantes de la Comunidad de Madrid de la Wikipedia. Así mismo, extraeremos el enlace a la página de la Wikipedia de cada municipio."
   ]
  },
  {
   "cell_type": "code",
   "execution_count": 1,
   "metadata": {
    "ExecuteTime": {
     "end_time": "2018-02-13T11:02:12.715346Z",
     "start_time": "2018-02-13T11:02:12.296159Z"
    }
   },
   "outputs": [
    {
     "data": {
      "text/html": [
       "<div>\n",
       "<style scoped>\n",
       "    .dataframe tbody tr th:only-of-type {\n",
       "        vertical-align: middle;\n",
       "    }\n",
       "\n",
       "    .dataframe tbody tr th {\n",
       "        vertical-align: top;\n",
       "    }\n",
       "\n",
       "    .dataframe thead th {\n",
       "        text-align: right;\n",
       "    }\n",
       "</style>\n",
       "<table border=\"1\" class=\"dataframe\">\n",
       "  <thead>\n",
       "    <tr style=\"text-align: right;\">\n",
       "      <th></th>\n",
       "      <th>Nombre</th>\n",
       "      <th>Habitantes</th>\n",
       "      <th>enlace</th>\n",
       "    </tr>\n",
       "  </thead>\n",
       "  <tbody>\n",
       "    <tr>\n",
       "      <th>0</th>\n",
       "      <td>La Acebeda</td>\n",
       "      <td>66</td>\n",
       "      <td>https://es.wikipedia.org/wiki/La_Acebeda</td>\n",
       "    </tr>\n",
       "    <tr>\n",
       "      <th>1</th>\n",
       "      <td>Ajalvir</td>\n",
       "      <td>4455</td>\n",
       "      <td>https://es.wikipedia.org/wiki/Ajalvir</td>\n",
       "    </tr>\n",
       "    <tr>\n",
       "      <th>2</th>\n",
       "      <td>Alameda del Valle</td>\n",
       "      <td>199</td>\n",
       "      <td>https://es.wikipedia.org/wiki/Alameda_del_Valle</td>\n",
       "    </tr>\n",
       "    <tr>\n",
       "      <th>3</th>\n",
       "      <td>El Álamo (Madrid)</td>\n",
       "      <td>9149</td>\n",
       "      <td>https://es.wikipedia.org/wiki/El_%C3%81lamo_(M...</td>\n",
       "    </tr>\n",
       "    <tr>\n",
       "      <th>4</th>\n",
       "      <td>Alcalá de Henares</td>\n",
       "      <td>194310</td>\n",
       "      <td>https://es.wikipedia.org/wiki/Alcal%C3%A1_de_H...</td>\n",
       "    </tr>\n",
       "    <tr>\n",
       "      <th>5</th>\n",
       "      <td>Alcobendas</td>\n",
       "      <td>114864</td>\n",
       "      <td>https://es.wikipedia.org/wiki/Alcobendas</td>\n",
       "    </tr>\n",
       "    <tr>\n",
       "      <th>6</th>\n",
       "      <td>Alcorcón</td>\n",
       "      <td>168141</td>\n",
       "      <td>https://es.wikipedia.org/wiki/Alcorc%C3%B3n</td>\n",
       "    </tr>\n",
       "    <tr>\n",
       "      <th>7</th>\n",
       "      <td>Aldea del Fresno</td>\n",
       "      <td>2616</td>\n",
       "      <td>https://es.wikipedia.org/wiki/Aldea_del_Fresno</td>\n",
       "    </tr>\n",
       "    <tr>\n",
       "      <th>8</th>\n",
       "      <td>Algete</td>\n",
       "      <td>20419</td>\n",
       "      <td>https://es.wikipedia.org/wiki/Algete</td>\n",
       "    </tr>\n",
       "    <tr>\n",
       "      <th>9</th>\n",
       "      <td>Alpedrete</td>\n",
       "      <td>14240</td>\n",
       "      <td>https://es.wikipedia.org/wiki/Alpedrete</td>\n",
       "    </tr>\n",
       "    <tr>\n",
       "      <th>10</th>\n",
       "      <td>Ambite</td>\n",
       "      <td>677</td>\n",
       "      <td>https://es.wikipedia.org/wiki/Ambite</td>\n",
       "    </tr>\n",
       "    <tr>\n",
       "      <th>11</th>\n",
       "      <td>Anchuelo</td>\n",
       "      <td>1238</td>\n",
       "      <td>https://es.wikipedia.org/wiki/Anchuelo</td>\n",
       "    </tr>\n",
       "    <tr>\n",
       "      <th>12</th>\n",
       "      <td>Aranjuez</td>\n",
       "      <td>58213</td>\n",
       "      <td>https://es.wikipedia.org/wiki/Aranjuez</td>\n",
       "    </tr>\n",
       "    <tr>\n",
       "      <th>13</th>\n",
       "      <td>Arganda del Rey</td>\n",
       "      <td>53821</td>\n",
       "      <td>https://es.wikipedia.org/wiki/Arganda_del_Rey</td>\n",
       "    </tr>\n",
       "    <tr>\n",
       "      <th>14</th>\n",
       "      <td>Arroyomolinos (Madrid)</td>\n",
       "      <td>29128</td>\n",
       "      <td>https://es.wikipedia.org/wiki/Arroyomolinos_(M...</td>\n",
       "    </tr>\n",
       "    <tr>\n",
       "      <th>15</th>\n",
       "      <td>El Atazar</td>\n",
       "      <td>97</td>\n",
       "      <td>https://es.wikipedia.org/wiki/El_Atazar</td>\n",
       "    </tr>\n",
       "    <tr>\n",
       "      <th>16</th>\n",
       "      <td>Batres</td>\n",
       "      <td>1610</td>\n",
       "      <td>https://es.wikipedia.org/wiki/Batres</td>\n",
       "    </tr>\n",
       "    <tr>\n",
       "      <th>17</th>\n",
       "      <td>Becerril de la Sierra</td>\n",
       "      <td>5457</td>\n",
       "      <td>https://es.wikipedia.org/wiki/Becerril_de_la_S...</td>\n",
       "    </tr>\n",
       "    <tr>\n",
       "      <th>18</th>\n",
       "      <td>Belmonte de Tajo</td>\n",
       "      <td>1628</td>\n",
       "      <td>https://es.wikipedia.org/wiki/Belmonte_de_Tajo</td>\n",
       "    </tr>\n",
       "    <tr>\n",
       "      <th>19</th>\n",
       "      <td>El Berrueco</td>\n",
       "      <td>743</td>\n",
       "      <td>https://es.wikipedia.org/wiki/El_Berrueco</td>\n",
       "    </tr>\n",
       "    <tr>\n",
       "      <th>20</th>\n",
       "      <td>Berzosa del Lozoya</td>\n",
       "      <td>203</td>\n",
       "      <td>https://es.wikipedia.org/wiki/Berzosa_del_Lozoya</td>\n",
       "    </tr>\n",
       "    <tr>\n",
       "      <th>21</th>\n",
       "      <td>Boadilla del Monte</td>\n",
       "      <td>51463</td>\n",
       "      <td>https://es.wikipedia.org/wiki/Boadilla_del_Monte</td>\n",
       "    </tr>\n",
       "    <tr>\n",
       "      <th>22</th>\n",
       "      <td>El Boalo</td>\n",
       "      <td>7358</td>\n",
       "      <td>https://es.wikipedia.org/wiki/El_Boalo</td>\n",
       "    </tr>\n",
       "    <tr>\n",
       "      <th>23</th>\n",
       "      <td>Braojos de la Sierra</td>\n",
       "      <td>208</td>\n",
       "      <td>https://es.wikipedia.org/wiki/Braojos_de_la_Si...</td>\n",
       "    </tr>\n",
       "    <tr>\n",
       "      <th>24</th>\n",
       "      <td>Brea de Tajo</td>\n",
       "      <td>539</td>\n",
       "      <td>https://es.wikipedia.org/wiki/Brea_de_Tajo</td>\n",
       "    </tr>\n",
       "    <tr>\n",
       "      <th>25</th>\n",
       "      <td>Brunete</td>\n",
       "      <td>10373</td>\n",
       "      <td>https://es.wikipedia.org/wiki/Brunete</td>\n",
       "    </tr>\n",
       "    <tr>\n",
       "      <th>26</th>\n",
       "      <td>Buitrago del Lozoya</td>\n",
       "      <td>1854</td>\n",
       "      <td>https://es.wikipedia.org/wiki/Buitrago_del_Lozoya</td>\n",
       "    </tr>\n",
       "    <tr>\n",
       "      <th>27</th>\n",
       "      <td>Bustarviejo</td>\n",
       "      <td>2399</td>\n",
       "      <td>https://es.wikipedia.org/wiki/Bustarviejo</td>\n",
       "    </tr>\n",
       "    <tr>\n",
       "      <th>28</th>\n",
       "      <td>Cabanillas de la Sierra</td>\n",
       "      <td>712</td>\n",
       "      <td>https://es.wikipedia.org/wiki/Cabanillas_de_la...</td>\n",
       "    </tr>\n",
       "    <tr>\n",
       "      <th>29</th>\n",
       "      <td>La Cabrera (Madrid)</td>\n",
       "      <td>2570</td>\n",
       "      <td>https://es.wikipedia.org/wiki/La_Cabrera_(Madrid)</td>\n",
       "    </tr>\n",
       "    <tr>\n",
       "      <th>...</th>\n",
       "      <td>...</td>\n",
       "      <td>...</td>\n",
       "      <td>...</td>\n",
       "    </tr>\n",
       "    <tr>\n",
       "      <th>149</th>\n",
       "      <td>Tres Cantos</td>\n",
       "      <td>46046</td>\n",
       "      <td>https://es.wikipedia.org/wiki/Tres_Cantos</td>\n",
       "    </tr>\n",
       "    <tr>\n",
       "      <th>150</th>\n",
       "      <td>Valdaracete</td>\n",
       "      <td>643</td>\n",
       "      <td>https://es.wikipedia.org/wiki/Valdaracete</td>\n",
       "    </tr>\n",
       "    <tr>\n",
       "      <th>151</th>\n",
       "      <td>Valdeavero</td>\n",
       "      <td>1450</td>\n",
       "      <td>https://es.wikipedia.org/wiki/Valdeavero</td>\n",
       "    </tr>\n",
       "    <tr>\n",
       "      <th>152</th>\n",
       "      <td>Valdelaguna</td>\n",
       "      <td>867</td>\n",
       "      <td>https://es.wikipedia.org/wiki/Valdelaguna</td>\n",
       "    </tr>\n",
       "    <tr>\n",
       "      <th>153</th>\n",
       "      <td>Valdemanco</td>\n",
       "      <td>916</td>\n",
       "      <td>https://es.wikipedia.org/wiki/Valdemanco</td>\n",
       "    </tr>\n",
       "    <tr>\n",
       "      <th>154</th>\n",
       "      <td>Valdemaqueda</td>\n",
       "      <td>768</td>\n",
       "      <td>https://es.wikipedia.org/wiki/Valdemaqueda</td>\n",
       "    </tr>\n",
       "    <tr>\n",
       "      <th>155</th>\n",
       "      <td>Valdemorillo</td>\n",
       "      <td>12300</td>\n",
       "      <td>https://es.wikipedia.org/wiki/Valdemorillo</td>\n",
       "    </tr>\n",
       "    <tr>\n",
       "      <th>156</th>\n",
       "      <td>Valdemoro</td>\n",
       "      <td>73976</td>\n",
       "      <td>https://es.wikipedia.org/wiki/Valdemoro</td>\n",
       "    </tr>\n",
       "    <tr>\n",
       "      <th>157</th>\n",
       "      <td>Valdeolmos-Alalpardo</td>\n",
       "      <td>3906</td>\n",
       "      <td>https://es.wikipedia.org/wiki/Valdeolmos-Alalp...</td>\n",
       "    </tr>\n",
       "    <tr>\n",
       "      <th>158</th>\n",
       "      <td>Valdepiélagos</td>\n",
       "      <td>587</td>\n",
       "      <td>https://es.wikipedia.org/wiki/Valdepi%C3%A9lagos</td>\n",
       "    </tr>\n",
       "    <tr>\n",
       "      <th>159</th>\n",
       "      <td>Valdetorres de Jarama</td>\n",
       "      <td>4316</td>\n",
       "      <td>https://es.wikipedia.org/wiki/Valdetorres_de_J...</td>\n",
       "    </tr>\n",
       "    <tr>\n",
       "      <th>160</th>\n",
       "      <td>Valdilecha</td>\n",
       "      <td>2755</td>\n",
       "      <td>https://es.wikipedia.org/wiki/Valdilecha</td>\n",
       "    </tr>\n",
       "    <tr>\n",
       "      <th>161</th>\n",
       "      <td>Valverde de Alcalá</td>\n",
       "      <td>427</td>\n",
       "      <td>https://es.wikipedia.org/wiki/Valverde_de_Alca...</td>\n",
       "    </tr>\n",
       "    <tr>\n",
       "      <th>162</th>\n",
       "      <td>Velilla de San Antonio</td>\n",
       "      <td>12111</td>\n",
       "      <td>https://es.wikipedia.org/wiki/Velilla_de_San_A...</td>\n",
       "    </tr>\n",
       "    <tr>\n",
       "      <th>163</th>\n",
       "      <td>El Vellón</td>\n",
       "      <td>1834</td>\n",
       "      <td>https://es.wikipedia.org/wiki/El_Vell%C3%B3n</td>\n",
       "    </tr>\n",
       "    <tr>\n",
       "      <th>164</th>\n",
       "      <td>Venturada</td>\n",
       "      <td>2032</td>\n",
       "      <td>https://es.wikipedia.org/wiki/Venturada</td>\n",
       "    </tr>\n",
       "    <tr>\n",
       "      <th>165</th>\n",
       "      <td>Villa del Prado</td>\n",
       "      <td>6337</td>\n",
       "      <td>https://es.wikipedia.org/wiki/Villa_del_Prado</td>\n",
       "    </tr>\n",
       "    <tr>\n",
       "      <th>166</th>\n",
       "      <td>Villaconejos</td>\n",
       "      <td>3350</td>\n",
       "      <td>https://es.wikipedia.org/wiki/Villaconejos</td>\n",
       "    </tr>\n",
       "    <tr>\n",
       "      <th>167</th>\n",
       "      <td>Villalbilla</td>\n",
       "      <td>13038</td>\n",
       "      <td>https://es.wikipedia.org/wiki/Villalbilla</td>\n",
       "    </tr>\n",
       "    <tr>\n",
       "      <th>168</th>\n",
       "      <td>Villamanrique de Tajo</td>\n",
       "      <td>694</td>\n",
       "      <td>https://es.wikipedia.org/wiki/Villamanrique_de...</td>\n",
       "    </tr>\n",
       "    <tr>\n",
       "      <th>169</th>\n",
       "      <td>Villamanta</td>\n",
       "      <td>2491</td>\n",
       "      <td>https://es.wikipedia.org/wiki/Villamanta</td>\n",
       "    </tr>\n",
       "    <tr>\n",
       "      <th>170</th>\n",
       "      <td>Villamantilla</td>\n",
       "      <td>1382</td>\n",
       "      <td>https://es.wikipedia.org/wiki/Villamantilla</td>\n",
       "    </tr>\n",
       "    <tr>\n",
       "      <th>171</th>\n",
       "      <td>Villanueva de la Cañada</td>\n",
       "      <td>20320</td>\n",
       "      <td>https://es.wikipedia.org/wiki/Villanueva_de_la...</td>\n",
       "    </tr>\n",
       "    <tr>\n",
       "      <th>172</th>\n",
       "      <td>Villanueva de Perales</td>\n",
       "      <td>1519</td>\n",
       "      <td>https://es.wikipedia.org/wiki/Villanueva_de_Pe...</td>\n",
       "    </tr>\n",
       "    <tr>\n",
       "      <th>173</th>\n",
       "      <td>Villanueva del Pardillo</td>\n",
       "      <td>17025</td>\n",
       "      <td>https://es.wikipedia.org/wiki/Villanueva_del_P...</td>\n",
       "    </tr>\n",
       "    <tr>\n",
       "      <th>174</th>\n",
       "      <td>Villar del Olmo</td>\n",
       "      <td>1997</td>\n",
       "      <td>https://es.wikipedia.org/wiki/Villar_del_Olmo</td>\n",
       "    </tr>\n",
       "    <tr>\n",
       "      <th>175</th>\n",
       "      <td>Villarejo de Salvanés</td>\n",
       "      <td>7245</td>\n",
       "      <td>https://es.wikipedia.org/wiki/Villarejo_de_Sal...</td>\n",
       "    </tr>\n",
       "    <tr>\n",
       "      <th>176</th>\n",
       "      <td>Villaviciosa de Odón</td>\n",
       "      <td>27504</td>\n",
       "      <td>https://es.wikipedia.org/wiki/Villaviciosa_de_...</td>\n",
       "    </tr>\n",
       "    <tr>\n",
       "      <th>177</th>\n",
       "      <td>Villavieja del Lozoya</td>\n",
       "      <td>267</td>\n",
       "      <td>https://es.wikipedia.org/wiki/Villavieja_del_L...</td>\n",
       "    </tr>\n",
       "    <tr>\n",
       "      <th>178</th>\n",
       "      <td>Zarzalejo</td>\n",
       "      <td>1596</td>\n",
       "      <td>https://es.wikipedia.org/wiki/Zarzalejo</td>\n",
       "    </tr>\n",
       "  </tbody>\n",
       "</table>\n",
       "<p>179 rows × 3 columns</p>\n",
       "</div>"
      ],
      "text/plain": [
       "                      Nombre Habitantes  \\\n",
       "0                 La Acebeda         66   \n",
       "1                    Ajalvir       4455   \n",
       "2          Alameda del Valle        199   \n",
       "3          El Álamo (Madrid)       9149   \n",
       "4          Alcalá de Henares     194310   \n",
       "5                 Alcobendas     114864   \n",
       "6                   Alcorcón     168141   \n",
       "7           Aldea del Fresno       2616   \n",
       "8                     Algete      20419   \n",
       "9                  Alpedrete      14240   \n",
       "10                    Ambite        677   \n",
       "11                  Anchuelo       1238   \n",
       "12                  Aranjuez      58213   \n",
       "13           Arganda del Rey      53821   \n",
       "14    Arroyomolinos (Madrid)      29128   \n",
       "15                 El Atazar         97   \n",
       "16                    Batres       1610   \n",
       "17     Becerril de la Sierra       5457   \n",
       "18          Belmonte de Tajo       1628   \n",
       "19               El Berrueco        743   \n",
       "20        Berzosa del Lozoya        203   \n",
       "21        Boadilla del Monte      51463   \n",
       "22                  El Boalo       7358   \n",
       "23      Braojos de la Sierra        208   \n",
       "24              Brea de Tajo        539   \n",
       "25                   Brunete      10373   \n",
       "26       Buitrago del Lozoya       1854   \n",
       "27               Bustarviejo       2399   \n",
       "28   Cabanillas de la Sierra        712   \n",
       "29       La Cabrera (Madrid)       2570   \n",
       "..                       ...        ...   \n",
       "149              Tres Cantos      46046   \n",
       "150              Valdaracete        643   \n",
       "151               Valdeavero       1450   \n",
       "152              Valdelaguna        867   \n",
       "153               Valdemanco        916   \n",
       "154             Valdemaqueda        768   \n",
       "155             Valdemorillo      12300   \n",
       "156                Valdemoro      73976   \n",
       "157     Valdeolmos-Alalpardo       3906   \n",
       "158            Valdepiélagos        587   \n",
       "159    Valdetorres de Jarama       4316   \n",
       "160               Valdilecha       2755   \n",
       "161       Valverde de Alcalá        427   \n",
       "162   Velilla de San Antonio      12111   \n",
       "163                El Vellón       1834   \n",
       "164                Venturada       2032   \n",
       "165          Villa del Prado       6337   \n",
       "166             Villaconejos       3350   \n",
       "167              Villalbilla      13038   \n",
       "168    Villamanrique de Tajo        694   \n",
       "169               Villamanta       2491   \n",
       "170            Villamantilla       1382   \n",
       "171  Villanueva de la Cañada      20320   \n",
       "172    Villanueva de Perales       1519   \n",
       "173  Villanueva del Pardillo      17025   \n",
       "174          Villar del Olmo       1997   \n",
       "175    Villarejo de Salvanés       7245   \n",
       "176     Villaviciosa de Odón      27504   \n",
       "177    Villavieja del Lozoya        267   \n",
       "178                Zarzalejo       1596   \n",
       "\n",
       "                                                enlace  \n",
       "0             https://es.wikipedia.org/wiki/La_Acebeda  \n",
       "1                https://es.wikipedia.org/wiki/Ajalvir  \n",
       "2      https://es.wikipedia.org/wiki/Alameda_del_Valle  \n",
       "3    https://es.wikipedia.org/wiki/El_%C3%81lamo_(M...  \n",
       "4    https://es.wikipedia.org/wiki/Alcal%C3%A1_de_H...  \n",
       "5             https://es.wikipedia.org/wiki/Alcobendas  \n",
       "6          https://es.wikipedia.org/wiki/Alcorc%C3%B3n  \n",
       "7       https://es.wikipedia.org/wiki/Aldea_del_Fresno  \n",
       "8                 https://es.wikipedia.org/wiki/Algete  \n",
       "9              https://es.wikipedia.org/wiki/Alpedrete  \n",
       "10                https://es.wikipedia.org/wiki/Ambite  \n",
       "11              https://es.wikipedia.org/wiki/Anchuelo  \n",
       "12              https://es.wikipedia.org/wiki/Aranjuez  \n",
       "13       https://es.wikipedia.org/wiki/Arganda_del_Rey  \n",
       "14   https://es.wikipedia.org/wiki/Arroyomolinos_(M...  \n",
       "15             https://es.wikipedia.org/wiki/El_Atazar  \n",
       "16                https://es.wikipedia.org/wiki/Batres  \n",
       "17   https://es.wikipedia.org/wiki/Becerril_de_la_S...  \n",
       "18      https://es.wikipedia.org/wiki/Belmonte_de_Tajo  \n",
       "19           https://es.wikipedia.org/wiki/El_Berrueco  \n",
       "20    https://es.wikipedia.org/wiki/Berzosa_del_Lozoya  \n",
       "21    https://es.wikipedia.org/wiki/Boadilla_del_Monte  \n",
       "22              https://es.wikipedia.org/wiki/El_Boalo  \n",
       "23   https://es.wikipedia.org/wiki/Braojos_de_la_Si...  \n",
       "24          https://es.wikipedia.org/wiki/Brea_de_Tajo  \n",
       "25               https://es.wikipedia.org/wiki/Brunete  \n",
       "26   https://es.wikipedia.org/wiki/Buitrago_del_Lozoya  \n",
       "27           https://es.wikipedia.org/wiki/Bustarviejo  \n",
       "28   https://es.wikipedia.org/wiki/Cabanillas_de_la...  \n",
       "29   https://es.wikipedia.org/wiki/La_Cabrera_(Madrid)  \n",
       "..                                                 ...  \n",
       "149          https://es.wikipedia.org/wiki/Tres_Cantos  \n",
       "150          https://es.wikipedia.org/wiki/Valdaracete  \n",
       "151           https://es.wikipedia.org/wiki/Valdeavero  \n",
       "152          https://es.wikipedia.org/wiki/Valdelaguna  \n",
       "153           https://es.wikipedia.org/wiki/Valdemanco  \n",
       "154         https://es.wikipedia.org/wiki/Valdemaqueda  \n",
       "155         https://es.wikipedia.org/wiki/Valdemorillo  \n",
       "156            https://es.wikipedia.org/wiki/Valdemoro  \n",
       "157  https://es.wikipedia.org/wiki/Valdeolmos-Alalp...  \n",
       "158   https://es.wikipedia.org/wiki/Valdepi%C3%A9lagos  \n",
       "159  https://es.wikipedia.org/wiki/Valdetorres_de_J...  \n",
       "160           https://es.wikipedia.org/wiki/Valdilecha  \n",
       "161  https://es.wikipedia.org/wiki/Valverde_de_Alca...  \n",
       "162  https://es.wikipedia.org/wiki/Velilla_de_San_A...  \n",
       "163       https://es.wikipedia.org/wiki/El_Vell%C3%B3n  \n",
       "164            https://es.wikipedia.org/wiki/Venturada  \n",
       "165      https://es.wikipedia.org/wiki/Villa_del_Prado  \n",
       "166         https://es.wikipedia.org/wiki/Villaconejos  \n",
       "167          https://es.wikipedia.org/wiki/Villalbilla  \n",
       "168  https://es.wikipedia.org/wiki/Villamanrique_de...  \n",
       "169           https://es.wikipedia.org/wiki/Villamanta  \n",
       "170        https://es.wikipedia.org/wiki/Villamantilla  \n",
       "171  https://es.wikipedia.org/wiki/Villanueva_de_la...  \n",
       "172  https://es.wikipedia.org/wiki/Villanueva_de_Pe...  \n",
       "173  https://es.wikipedia.org/wiki/Villanueva_del_P...  \n",
       "174      https://es.wikipedia.org/wiki/Villar_del_Olmo  \n",
       "175  https://es.wikipedia.org/wiki/Villarejo_de_Sal...  \n",
       "176  https://es.wikipedia.org/wiki/Villaviciosa_de_...  \n",
       "177  https://es.wikipedia.org/wiki/Villavieja_del_L...  \n",
       "178            https://es.wikipedia.org/wiki/Zarzalejo  \n",
       "\n",
       "[179 rows x 3 columns]"
      ]
     },
     "execution_count": 1,
     "metadata": {},
     "output_type": "execute_result"
    }
   ],
   "source": [
    "from bs4 import BeautifulSoup\n",
    "import requests\n",
    "import pandas as pd\n",
    "\n",
    "url = \"https://es.wikipedia.org/wiki/Anexo:Municipios_de_la_Comunidad_de_Madrid\"\n",
    "baseUrl = 'https://es.wikipedia.org'\n",
    "\n",
    "# Realizamos la petición a la web\n",
    "req = requests.get(url)\n",
    "\n",
    "# Comprobamos que la petición nos devuelve un Status Code = 200\n",
    "statusCode = req.status_code\n",
    "if statusCode == 200:\n",
    "\n",
    "    # Pasamos el contenido HTML de la web a un objeto BeautifulSoup()\n",
    "    html = BeautifulSoup(req.text, 'html.parser')\n",
    "    \n",
    "\n",
    "    # Obtenemos cada una de las filas de la tabla\n",
    "    content = []\n",
    "    rows = html.find_all('tr')\n",
    "    for r in rows:\n",
    "        celdas=r.find_all('td')\n",
    "        # Nos quedamos con el contenido\n",
    "        if len(celdas)>0:\n",
    "            # En lugar de un separador de miles, se ha usado un caracter parecido a un espacio en blanco\n",
    "            # por lo que en la celda de habitantes hay que eliminar todos los caracteres que no sean números\n",
    "            celdaNombre = celdas[0]\n",
    "            \n",
    "            content.append([celdaNombre.a['title'],\n",
    "                            ''.join(c for c in celdas[1].string if c.isdigit()),\n",
    "                            baseUrl+celdaNombre.a['href']])\n",
    "        \n",
    "\n",
    "else:\n",
    "    print (statusCode)\n",
    "\n",
    "df = pd.DataFrame(content, columns= ['Nombre', 'Habitantes', 'enlace'])\n",
    "df"
   ]
  },
  {
   "cell_type": "code",
   "execution_count": null,
   "metadata": {
    "collapsed": true
   },
   "outputs": [],
   "source": []
  }
 ],
 "metadata": {
  "kernelspec": {
   "display_name": "Python 3",
   "language": "python",
   "name": "python3"
  },
  "language_info": {
   "codemirror_mode": {
    "name": "ipython",
    "version": 3
   },
   "file_extension": ".py",
   "mimetype": "text/x-python",
   "name": "python",
   "nbconvert_exporter": "python",
   "pygments_lexer": "ipython3",
   "version": "3.6.6"
  },
  "toc": {
   "colors": {
    "hover_highlight": "#DAA520",
    "navigate_num": "#000000",
    "navigate_text": "#333333",
    "running_highlight": "#FF0000",
    "selected_highlight": "#FFD700",
    "sidebar_border": "#EEEEEE",
    "wrapper_background": "#FFFFFF"
   },
   "moveMenuLeft": true,
   "nav_menu": {
    "height": "68px",
    "width": "252px"
   },
   "navigate_menu": true,
   "number_sections": true,
   "sideBar": true,
   "threshold": 4,
   "toc_cell": false,
   "toc_section_display": "block",
   "toc_window_display": false,
   "widenNotebook": false
  },
  "varInspector": {
   "cols": {
    "lenName": 16,
    "lenType": 16,
    "lenVar": 40
   },
   "kernels_config": {
    "python": {
     "delete_cmd_postfix": "",
     "delete_cmd_prefix": "del ",
     "library": "var_list.py",
     "varRefreshCmd": "print(var_dic_list())"
    },
    "r": {
     "delete_cmd_postfix": ") ",
     "delete_cmd_prefix": "rm(",
     "library": "var_list.r",
     "varRefreshCmd": "cat(var_dic_list()) "
    }
   },
   "types_to_exclude": [
    "module",
    "function",
    "builtin_function_or_method",
    "instance",
    "_Feature"
   ],
   "window_display": false
  }
 },
 "nbformat": 4,
 "nbformat_minor": 1
}
