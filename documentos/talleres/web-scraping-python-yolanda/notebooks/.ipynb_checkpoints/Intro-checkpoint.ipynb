{
 "cells": [
  {
   "cell_type": "markdown",
   "metadata": {},
   "source": [
    "# MEDIALAB-PRADO MADRID\n",
    "\n",
    " <img src=\"./HTML_examples/pd.png\" alt=\" \" style=\"width: 800px;\"/>\n",
    "\n",
    "\n",
    "## Periodismo de datos 2019\n",
    "\n",
    "En este repositorio están los notebooks interactivos utilizados en el taller. Para ejecutarlos es necesario tener instalado Jupyter Notebook (una forma sencilla es instalando [la suite de Anaconda](https://www.anaconda.com/download/)) y el driver de Selenium para [Chrome](https://sites.google.com/a/chromium.org/chromedriver/) o [Firefox](https://github.com/mozilla/geckodriver/).\n",
    "\n",
    "## Organización\n",
    "\n",
    "El repositorio está oganizado en torno a dos directorios:\n",
    "\n",
    "- `notebooks`: Contiene dos Jupyter Notebooks sobre los que se desarrollará el taller, uno para la parte de Beautiful Soup y otro para la parte de Selenium.\n",
    "- `seleniumDrivers`: Este directorio contiene los drivers que utilicemos para Selenium. \n",
    "\n",
    "## Buenas prácticas al hacer web scraping\n",
    "\n",
    "Extraído del artículo [Web Scraping: Best Practices to Follow](https://www.promptcloud.com/blog/web-scraping-best-practices) de Prompt Cloud.\n",
    "\n",
    "- Respeta los [robots.txt](https://en.wikipedia.org/wiki/Robots.txt): Aquí tienes algunos ejemplos:\n",
    "    + <https://www.facebook.com/robots.txt>\n",
    "    + <https://www.fnac.es/robots.txt>\n",
    "    + <https://www.imdb.com/robots.txt>\n",
    "    + <https://www.amazon.es/robots.txt>\n",
    "    + <https://www.yummly.com/robots.txt>\n",
    "    + <https://www.filmin.es/robots.txt> (nos dan permiso para acceder a todo)\n",
    "    + <https://www.megustairalsuper.com/robots.txt>\n",
    "    \n",
    "    \n",
    "- No hagas que tus robots accedan demasiado a menudo ni muchos en paralelo al sitio web para no ralentizarlo ni tirarlo abajo.\n",
    "- Intenta que tus robots no accedan a los sitios en horas punta del uso humano.\n",
    "- Hazlo con responsabilidad: no lo uses para republicar los datos extraídos (seguramente infringirás leyes de copyright) y revisa los Términos y Condiciones de Uso del sitio para saber si está permitido.\n",
    "- Sé paciente: si vas a utilizarlo de manera continuada, seguramente tendrás que realizar un mantenimiento constante ante los cambios que sufra el sitio web que estás procesando.\n",
    "\n",
    "\n",
    "\n"
   ]
  },
  {
   "cell_type": "markdown",
   "metadata": {},
   "source": [
    "----"
   ]
  }
 ],
 "metadata": {
  "kernelspec": {
   "display_name": "Python 3",
   "language": "python",
   "name": "python3"
  },
  "language_info": {
   "codemirror_mode": {
    "name": "ipython",
    "version": 3
   },
   "file_extension": ".py",
   "mimetype": "text/x-python",
   "name": "python",
   "nbconvert_exporter": "python",
   "pygments_lexer": "ipython3",
   "version": "3.6.6"
  },
  "toc": {
   "nav_menu": {},
   "number_sections": true,
   "sideBar": true,
   "skip_h1_title": false,
   "title_cell": "Table of Contents",
   "title_sidebar": "Contents",
   "toc_cell": false,
   "toc_position": {
    "height": "calc(100% - 180px)",
    "left": "10px",
    "top": "150px",
    "width": "165px"
   },
   "toc_section_display": true,
   "toc_window_display": true
  }
 },
 "nbformat": 4,
 "nbformat_minor": 2
}
