{
 "cells": [
  {
   "cell_type": "markdown",
   "metadata": {},
   "source": [
    "# Acceso a los datos de la web"
   ]
  },
  {
   "cell_type": "markdown",
   "metadata": {},
   "source": [
    "## ¿Qué es Web Scraping?"
   ]
  },
  {
   "cell_type": "markdown",
   "metadata": {},
   "source": [
    "El __Web Scraping__ (o Scraping) son un conjunto de técnicas que se utilizan para obtener de forma automática el contenido que hay en páginas web a través de su código HTML. \n",
    "* Es una opción cuando no hay API's para extraer datos de la web\n",
    "* Otros términos:\n",
    "    * \"Spydering the web\"\n",
    "    * \"Web crawling\"\n",
    "\n",
    "Las técnicas de Scraping se pueden enmarcar dentro del campo del Big Data en la primera fase de recolección de datos para su posterior almacenamiento, tratamiento y visualización.\n",
    "\n",
    "En este taller introduciremos cómo realizar web scraping utilizando el lenguaje Python. Se pondrán en práctica dos técnicas de scraping diferentes y las ejemplificaremos usando las librerías __Beautiful Soup__ y __Selenium__. Para finalizar el taller, hablaremos sobre los problemas éticos que conlleva el web scraping."
   ]
  },
  {
   "cell_type": "markdown",
   "metadata": {},
   "source": [
    "## Documentos en formato HTML y XML"
   ]
  },
  {
   "cell_type": "markdown",
   "metadata": {},
   "source": [
    "Para sacar el máximo partido a esta técnica es recomendable estar familiarizado o familiarizarse con el formato interno de las páginas web, es decir, conocer el formato [HTML](https://en.wikipedia.org/wiki/HTML) y las reglas CSS.\n",
    "\n",
    "Para comenzar vamos a trabajar con una página web muy sencilla. Puedes verla pinchando en el siguiente enlace: [ejemplo.html](./HTML_examples/example.html)\n",
    "\n",
    "* Una página web tiene asociado un documento en formato HTML. \n",
    "* Los navegadores (FireFox, Chrome, etc. ) reciben un documento HTML y lo interpretan mostrando la página web. \n",
    "* Un documento HTML describe la estructura y la apariencia de la página web.\n",
    "\n",
    "![dimagen](./HTML_examples/html_web.png)\n",
    "\n",
    "\n",
    "Una característica que tienen los documentos HTML es que se pueden representar mediante una estructura en forma de árbol, donde cada elemento del árbol (tag) representa una parte del documento.\n",
    "\n",
    "* Cada elemento está contenido en otro elemento (su padre), excepto la raíz.\n",
    "* Cada elemento puede contener otros elementos (sus hijos)\n",
    "\n",
    "![dimagen](./HTML_examples/DOM.png)\n",
    "\n",
    "Como podemos ver en la figura, hay dos tipos de elementos: los elementos sombreados y los elementos de texto. Estos últimos nunca tienen hijos.\n",
    "\n",
    "Conocer la estructura del árbol nos ayudará a buscar y seleccionar la información que aparece en la página web."
   ]
  },
  {
   "cell_type": "markdown",
   "metadata": {},
   "source": [
    "## Recuperación de información "
   ]
  },
  {
   "cell_type": "markdown",
   "metadata": {},
   "source": [
    "### Beautiful Soup (BS4)"
   ]
  },
  {
   "cell_type": "markdown",
   "metadata": {},
   "source": [
    "BS4 es una librería para extraer información de documentos  HTML o XML. Permite navegar por el árbol del documento, extraer datos, modificar dicho árbol, etc. Aquí está la [documentación completa de Beautiful Soup 4.](https://www.crummy.com/software/BeautifulSoup/bs4/doc/).\n",
    "\n",
    "La versión de BS4 en éste documentos es la 4.6.3.\n",
    "\n",
    "Para mostrar su funcionamiento con nuestra página de juguete, lo primero que tenemos que hacer es cargar el documetno HTML asociado en memoria:"
   ]
  },
  {
   "cell_type": "code",
   "execution_count": 1,
   "metadata": {},
   "outputs": [],
   "source": [
    "from bs4 import BeautifulSoup\n",
    "import bs4"
   ]
  },
  {
   "cell_type": "code",
   "execution_count": 2,
   "metadata": {},
   "outputs": [
    {
     "data": {
      "text/plain": [
       "'4.7.1'"
      ]
     },
     "execution_count": 2,
     "metadata": {},
     "output_type": "execute_result"
    }
   ],
   "source": [
    "bs4.__version__"
   ]
  },
  {
   "cell_type": "code",
   "execution_count": 6,
   "metadata": {},
   "outputs": [],
   "source": [
    "# carga de la página web de prueba en memoria : (carga del documentos html)\n",
    "with open(\"./HTML_examples/example.html\") as html_doc:\n",
    "    soup = BeautifulSoup(html_doc)"
   ]
  },
  {
   "cell_type": "markdown",
   "metadata": {},
   "source": [
    "La variable `html_doc` contiene el texto interno de la página web. Buscar la información directamente en éste documento puede ser muy laborioso. Para ello utilizamos Beautiful Soup, que parsea dicho documento y lo transforma en un árbol de elementos (lo llamamos `soup`). Además BS nos proporciona herramientas para localizar información de una manera sencilla y eficaz. "
   ]
  },
  {
   "cell_type": "code",
   "execution_count": 7,
   "metadata": {},
   "outputs": [
    {
     "name": "stdout",
     "output_type": "stream",
     "text": [
      "<html>\n",
      " <head>\n",
      "  <title>\n",
      "   Recipes\n",
      "  </title>\n",
      " </head>\n",
      " <body>\n",
      "  <h1>\n",
      "   Over 100 Quick and Easy Recipes\n",
      "  </h1>\n",
      "  <p class=\"intro\">\n",
      "   The majority of recipes we offer can be both prepared and cooked in 30 minutes or less, \n",
      "\t\tfrom start to finish. Examples are\n",
      "   <a class=\"breakfast desserts\" href=\"http://example.com/Breakfast \">\n",
      "    Breakfast\n",
      "   </a>\n",
      "   ,\n",
      "   <a class=\"salad\" href=\"http://example.com/salad\">\n",
      "    Salad Entrees\n",
      "   </a>\n",
      "   and\n",
      "   <a class=\"salad soups\" href=\"http://example.com/soup\">\n",
      "    Soups\n",
      "   </a>\n",
      "   .\n",
      "  </p>\n",
      "  <p class=\"listado\">\n",
      "  </p>\n",
      "  <h3 id=\"vbreakfast\">\n",
      "   Breakfast\n",
      "  </h3>\n",
      "  <p class=\"info\">\n",
      "   Try this easy-to-prepare version for a breakfast.\n",
      "  </p>\n",
      "  <ul class=\"vbreakfast\">\n",
      "   <li>\n",
      "    <a href=\"http://example.com/breakfast_huevos\">\n",
      "     10-Minute Huevos Rancheros\n",
      "    </a>\n",
      "   </li>\n",
      "   <li>\n",
      "    <a href=\"http://example.com/breakfast_bagel\">\n",
      "     Breakfast Bagel\n",
      "    </a>\n",
      "   </li>\n",
      "   <li>\n",
      "    <a href=\"http://example.com/breakfast_poached_huevos\">\n",
      "     Poached Huevos\n",
      "    </a>\n",
      "   </li>\n",
      "  </ul>\n",
      "  <h3 id=\"vsalad\">\n",
      "   Salad Entrees\n",
      "  </h3>\n",
      "  <p class=\"info\">\n",
      "   The spicy dressing with adds a little extra zest to this salads.\n",
      "  </p>\n",
      "  <ul class=\"vsalad\">\n",
      "   <li>\n",
      "    <a href=\"http://example.com/salad_1\">\n",
      "     Healthyyy Veggie Salad\n",
      "    </a>\n",
      "   </li>\n",
      "   <li>\n",
      "    <a href=\"http://example.com/cheese_salad_2\">\n",
      "     Mexican Cheese Salad\n",
      "    </a>\n",
      "   </li>\n",
      "  </ul>\n",
      "  <h3 id=\"vsalad\">\n",
      "   Traditional Salads\n",
      "  </h3>\n",
      "  <p class=\"info\">\n",
      "   Mas salads.\n",
      "  </p>\n",
      "  <ul class=\"vsalad\">\n",
      "   <li>\n",
      "    <a href=\"http://example.com/veggie_salad_3\">\n",
      "     Healthy Veggie Salad\n",
      "    </a>\n",
      "   </li>\n",
      "   <li>\n",
      "    <a href=\"http://example.com/mex_salad_4\">\n",
      "     Mexican Cheese Salad\n",
      "    </a>\n",
      "   </li>\n",
      "  </ul>\n",
      "  <p class=\"table\">\n",
      "  </p>\n",
      "  <h4 id=\"resume\">\n",
      "   Resume:\n",
      "  </h4>\n",
      "  <table align=\"center\" border=\"1\" class=\"dataframe\">\n",
      "   <thead>\n",
      "    <tr style=\"text-align: center;\">\n",
      "     <th>\n",
      "      # Recipes\n",
      "     </th>\n",
      "     <th>\n",
      "      Type\n",
      "     </th>\n",
      "    </tr>\n",
      "   </thead>\n",
      "   <tbody>\n",
      "    <tr>\n",
      "     <td>\n",
      "      3\n",
      "     </td>\n",
      "     <td>\n",
      "      Breakfast\n",
      "     </td>\n",
      "    </tr>\n",
      "    <tr>\n",
      "     <td>\n",
      "      2\n",
      "     </td>\n",
      "     <td>\n",
      "      Salad Entrees\n",
      "     </td>\n",
      "    </tr>\n",
      "    <tr>\n",
      "     <td>\n",
      "      0\n",
      "     </td>\n",
      "     <td>\n",
      "      Soup\n",
      "     </td>\n",
      "    </tr>\n",
      "   </tbody>\n",
      "  </table>\n",
      "  <div style=\"text-align:center\">\n",
      "   <a href=\"http://www.whfoods.com\">\n",
      "    2001-2019 The George Mateljan Foundation, All Rights Reserved\n",
      "   </a>\n",
      "  </div>\n",
      " </body>\n",
      "</html>\n"
     ]
    }
   ],
   "source": [
    "print(soup.prettify())"
   ]
  },
  {
   "cell_type": "markdown",
   "metadata": {},
   "source": [
    "Para buscar información en la página web, es necesario conocer el nombre de los elementos ó __tag__ que contienen la información qeu buscamos. El acceso a los elementos del documento se realiza mediante __expresiones de ruta__ usando la notación usanda habitualmente cuando navegamos por un árbol de directorios con la __notación punto__. \n",
    "\n",
    "Por ejemplo, para recuperar el título de la página web, utilizaremos la siguiente expresión:"
   ]
  },
  {
   "cell_type": "code",
   "execution_count": 8,
   "metadata": {},
   "outputs": [
    {
     "data": {
      "text/plain": [
       "<h1>Over 100 Quick and Easy Recipes</h1>"
      ]
     },
     "execution_count": 8,
     "metadata": {},
     "output_type": "execute_result"
    }
   ],
   "source": [
    "soup.h1        # navegamos por el árbol buscando un elemento con nombre 'h1'"
   ]
  },
  {
   "cell_type": "markdown",
   "metadata": {},
   "source": [
    "Si queremos buscar el primer párrafo de la página:"
   ]
  },
  {
   "cell_type": "code",
   "execution_count": 9,
   "metadata": {},
   "outputs": [
    {
     "data": {
      "text/plain": [
       "<p class=\"intro\">\n",
       "\t\tThe majority of recipes we offer can be both prepared and cooked in 30 minutes or less, \n",
       "\t\tfrom start to finish. Examples are\n",
       "\t\t<a class=\"breakfast desserts\" href=\"http://example.com/Breakfast \">Breakfast</a>, \n",
       "\t\t<a class=\"salad\" href=\"http://example.com/salad\">Salad Entrees</a> and\n",
       "\t\t<a class=\"salad soups\" href=\"http://example.com/soup\">Soups </a>.\t\t\n",
       "\t  </p>"
      ]
     },
     "execution_count": 9,
     "metadata": {},
     "output_type": "execute_result"
    }
   ],
   "source": [
    "soup.p"
   ]
  },
  {
   "cell_type": "code",
   "execution_count": 10,
   "metadata": {},
   "outputs": [
    {
     "data": {
      "text/plain": [
       "'Over 100 Quick and Easy Recipes'"
      ]
     },
     "execution_count": 10,
     "metadata": {},
     "output_type": "execute_result"
    }
   ],
   "source": [
    "soup.h1.string"
   ]
  },
  {
   "cell_type": "markdown",
   "metadata": {},
   "source": [
    "La búsqueda del primer enlace (elemento `a`, atributo `href`):"
   ]
  },
  {
   "cell_type": "code",
   "execution_count": 11,
   "metadata": {},
   "outputs": [
    {
     "data": {
      "text/plain": [
       "{'href': 'http://example.com/Breakfast ', 'class': ['breakfast', 'desserts']}"
      ]
     },
     "execution_count": 11,
     "metadata": {},
     "output_type": "execute_result"
    }
   ],
   "source": [
    "# Lista de atributos\n",
    "soup.p.a.attrs"
   ]
  },
  {
   "cell_type": "code",
   "execution_count": 12,
   "metadata": {},
   "outputs": [
    {
     "data": {
      "text/plain": [
       "'http://example.com/Breakfast '"
      ]
     },
     "execution_count": 12,
     "metadata": {},
     "output_type": "execute_result"
    }
   ],
   "source": [
    "# valor del atributo 'href'\n",
    "soup.p.a['href']\n",
    "# Equivalente a soup.a.attrs['href']"
   ]
  },
  {
   "cell_type": "markdown",
   "metadata": {},
   "source": [
    "Podemos recuperar la lista de hijos de un elemento. Por ejemplo los hijos del elemento `ul`:"
   ]
  },
  {
   "cell_type": "code",
   "execution_count": 13,
   "metadata": {},
   "outputs": [
    {
     "data": {
      "text/plain": [
       "['\\n',\n",
       " <li><a href=\"http://example.com/breakfast_huevos\">10-Minute Huevos Rancheros</a></li>,\n",
       " '\\n',\n",
       " <li><a href=\"http://example.com/breakfast_bagel\">Breakfast Bagel</a></li>,\n",
       " '\\n',\n",
       " <li><a href=\"http://example.com/breakfast_poached_huevos\">Poached Huevos</a></li>,\n",
       " '\\n']"
      ]
     },
     "execution_count": 13,
     "metadata": {},
     "output_type": "execute_result"
    }
   ],
   "source": [
    "list(soup.ul.children)"
   ]
  },
  {
   "cell_type": "markdown",
   "metadata": {},
   "source": [
    "Realmente, la parte más interesante es la de encontrar todos los elementos de un determinado tipo (por ejemplo, tag `h3`), o que sean de una determinada clase (por ejemplo tag `p` con `class = listado`), o en el que alguno de sus atributos tenga algún valor especial. Esto lo haremos con los métodos:\n",
    "\n",
    "- `find`: encuentra el primer elemento\n",
    "- `find_all`: genera una lista con todos los elementos que cumplen la condición."
   ]
  },
  {
   "cell_type": "code",
   "execution_count": 14,
   "metadata": {},
   "outputs": [
    {
     "data": {
      "text/plain": [
       "[<h3 id=\"vbreakfast\">Breakfast</h3>,\n",
       " <h3 id=\"vsalad\">Salad Entrees</h3>,\n",
       " <h3 id=\"vsalad\">Traditional Salads</h3>]"
      ]
     },
     "execution_count": 14,
     "metadata": {},
     "output_type": "execute_result"
    }
   ],
   "source": [
    "soup.find_all('h3')"
   ]
  },
  {
   "cell_type": "markdown",
   "metadata": {},
   "source": [
    "También se pueden añadir filtros:"
   ]
  },
  {
   "cell_type": "code",
   "execution_count": 15,
   "metadata": {},
   "outputs": [
    {
     "data": {
      "text/plain": [
       "[<h3 id=\"vsalad\">Salad Entrees</h3>, <h3 id=\"vsalad\">Traditional Salads</h3>]"
      ]
     },
     "execution_count": 15,
     "metadata": {},
     "output_type": "execute_result"
    }
   ],
   "source": [
    "soup.find_all('h3', attrs = {'id':\"vsalad\"})"
   ]
  },
  {
   "cell_type": "markdown",
   "metadata": {},
   "source": [
    "Devuelve la lista vacía si no encuentra ningún elemento que cumpla las condiciones."
   ]
  },
  {
   "cell_type": "code",
   "execution_count": 16,
   "metadata": {},
   "outputs": [
    {
     "data": {
      "text/plain": [
       "[]"
      ]
     },
     "execution_count": 16,
     "metadata": {},
     "output_type": "execute_result"
    }
   ],
   "source": [
    "soup.find_all('h3',attrs = {'idsssss':\"vfoo\"})"
   ]
  },
  {
   "cell_type": "markdown",
   "metadata": {},
   "source": [
    "__Ejercicio:__\n",
    "\n",
    "Extraer todos los enlaces que aparecen en el documento. Buscamos el valor del atributo `href` de los elementos con tag `a`."
   ]
  },
  {
   "cell_type": "code",
   "execution_count": 17,
   "metadata": {
    "scrolled": true
   },
   "outputs": [
    {
     "name": "stdout",
     "output_type": "stream",
     "text": [
      "http://example.com/Breakfast \n",
      "http://example.com/salad\n",
      "http://example.com/soup\n",
      "http://example.com/breakfast_huevos\n",
      "http://example.com/breakfast_bagel\n",
      "http://example.com/breakfast_poached_huevos\n",
      "http://example.com/salad_1\n",
      "http://example.com/cheese_salad_2\n",
      "http://example.com/veggie_salad_3\n",
      "http://example.com/mex_salad_4\n",
      "http://www.whfoods.com\n"
     ]
    }
   ],
   "source": [
    "# Sol:\n",
    "a_elem = soup.find_all('a')\n",
    "for elem in a_elem:\n",
    "    print(elem['href'])"
   ]
  },
  {
   "cell_type": "markdown",
   "metadata": {},
   "source": [
    "Aún más interesante...\n",
    "\n",
    "   Utilizar la función `select` (o `select_one`, si solo nos queremos quedar con el primero), que recibe como parámetro un selector CSS para decidir con qué elementos me quiero quedar:"
   ]
  },
  {
   "cell_type": "code",
   "execution_count": 18,
   "metadata": {},
   "outputs": [
    {
     "name": "stdout",
     "output_type": "stream",
     "text": [
      "Try this easy-to-prepare version for a breakfast.\n",
      "The spicy dressing with adds a little extra zest to this salads.\n",
      "Mas salads.\n"
     ]
    }
   ],
   "source": [
    "# Selección de elementos por selector 'class' \n",
    "infos = soup.select('p.info')\n",
    "for t in infos:\n",
    "    print (t.string)"
   ]
  },
  {
   "cell_type": "code",
   "execution_count": 19,
   "metadata": {},
   "outputs": [
    {
     "data": {
      "text/plain": [
       "[<a href=\"http://example.com/salad_1\">Healthyyy Veggie Salad</a>,\n",
       " <a href=\"http://example.com/cheese_salad_2\">Mexican Cheese Salad</a>,\n",
       " <a href=\"http://example.com/veggie_salad_3\">Healthy Veggie Salad</a>,\n",
       " <a href=\"http://example.com/mex_salad_4\">Mexican Cheese Salad</a>]"
      ]
     },
     "execution_count": 19,
     "metadata": {},
     "output_type": "execute_result"
    }
   ],
   "source": [
    "# Selección de elementos por selector 'class' \n",
    "links = soup.select('ul.vsalad  a' )\n",
    "links"
   ]
  },
  {
   "cell_type": "code",
   "execution_count": 20,
   "metadata": {},
   "outputs": [
    {
     "name": "stdout",
     "output_type": "stream",
     "text": [
      "http://example.com/salad_1\n",
      "http://example.com/cheese_salad_2\n",
      "http://example.com/veggie_salad_3\n",
      "http://example.com/mex_salad_4\n"
     ]
    }
   ],
   "source": [
    "for l in links:\n",
    "    print(l['href'])"
   ]
  },
  {
   "cell_type": "markdown",
   "metadata": {},
   "source": [
    "## BS4 y request"
   ]
  },
  {
   "cell_type": "markdown",
   "metadata": {},
   "source": [
    "Una vez introducida la librería Beutiful Soup y parte de su funcionalidad, vamos a ver su funcionamiento con una página web con algo más de entidad. Para ello vamos a ver cómo descargar una página web y posteriormente cómo extraer información. Combinamos por tanto dos técnicas: descarga (con la librería `request`) y búsqueda (con BS4).\n",
    "\n",
    "En primer lugar imortamos las librerías:"
   ]
  },
  {
   "cell_type": "code",
   "execution_count": 21,
   "metadata": {},
   "outputs": [],
   "source": [
    "from bs4 import BeautifulSoup\n",
    "import requests"
   ]
  },
  {
   "cell_type": "markdown",
   "metadata": {},
   "source": [
    "Escribimos dos funciones: la primera para descargar la página web y la segunda para procesar el documento HTML."
   ]
  },
  {
   "cell_type": "code",
   "execution_count": 85,
   "metadata": {},
   "outputs": [],
   "source": [
    "def descargarPagina(url):\n",
    "    \"\"\"\n",
    "    Carga y  procesa el contenido de una URL usando la librería request\n",
    "    Muestra un mensaje de error en caso de no poder cargar la página\n",
    "    \"\"\"\n",
    "    # Realizamos la petición a la web\n",
    "    req = requests.get(url)\n",
    "\n",
    "    # Comprobamos que la petición nos devuelve un Status Code = 200\n",
    "    statusCode = req.status_code\n",
    "    # la petición ha ido bien\n",
    "    if statusCode == 200:   \n",
    "\n",
    "        # Pasamos el contenido HTML de la web a un objeto BeautifulSoup()\n",
    "        soup = BeautifulSoup(req.text,\"lxml\")\n",
    "        \n",
    "        # Procesamos el HTML descargado\n",
    "        #return procesaHTML(html,url)  \n",
    "        return exito, soup\n",
    "    \n",
    "    # la petición ha ido mal     \n",
    "    else:   \n",
    "        return exito, print (\"ERROR {}\".format(statusCode))"
   ]
  },
  {
   "cell_type": "code",
   "execution_count": 23,
   "metadata": {},
   "outputs": [],
   "source": [
    "def procesaHTML_doc(html_doc, url=\"\"):\n",
    "    \"\"\"\n",
    "    Procesa el contenido HTML de una página web\n",
    "    html_doc es un objeto BS4\n",
    "    url es la URL de la página contenida en html_doc\n",
    "    \"\"\"\n",
    "    # Decide aquí lo que quieres hacer con el contenido \n",
    "    return"
   ]
  },
  {
   "cell_type": "markdown",
   "metadata": {},
   "source": [
    "### Ejemplo 1: Aslan Blue Planet"
   ]
  },
  {
   "cell_type": "markdown",
   "metadata": {},
   "source": [
    "Vamos a probar cómo hacer scraping con BS4 utilizando el sitio web [Aslan Blue Planet](https://aslan-blue-planet.es/tienda-vegana/). La estructura de esta página es bastante más compleja, aunque utilizando las __herramientas de desarrollador__ del navegador podemos visualizar y navegar por dicha estructura."
   ]
  },
  {
   "cell_type": "code",
   "execution_count": 57,
   "metadata": {},
   "outputs": [],
   "source": [
    "url = 'https://aslan-blue-planet.es/tienda-vegana/'"
   ]
  },
  {
   "cell_type": "markdown",
   "metadata": {},
   "source": [
    "#### Información de la página de un producto concreto"
   ]
  },
  {
   "cell_type": "markdown",
   "metadata": {},
   "source": [
    "Entramos en la página de un producto concreto, para ver cómo está estructurada. Posteriormente analizamos el catálogo completo.\n",
    "\n",
    "Por ejemplo: https://aslan-blue-planet.es/tienda/vego-bio-chocolate-blanco-con-almendras/"
   ]
  },
  {
   "cell_type": "code",
   "execution_count": 87,
   "metadata": {},
   "outputs": [
    {
     "data": {
      "text/plain": [
       "True"
      ]
     },
     "execution_count": 87,
     "metadata": {},
     "output_type": "execute_result"
    }
   ],
   "source": [
    "url_1 = 'https://aslan-blue-planet.es/tienda/vego-bio-chocolate-blanco-con-almendras/'\n",
    "exito, soup = descargarPagina(url_1)\n",
    "exito"
   ]
  },
  {
   "cell_type": "markdown",
   "metadata": {},
   "source": [
    "Si inspeccionamos el elemento y hacemos: `copy element`:"
   ]
  },
  {
   "cell_type": "code",
   "execution_count": 34,
   "metadata": {},
   "outputs": [
    {
     "ename": "IndentationError",
     "evalue": "unindent does not match any outer indentation level (<tokenize>, line 14)",
     "output_type": "error",
     "traceback": [
      "\u001b[1;36m  File \u001b[1;32m\"<tokenize>\"\u001b[1;36m, line \u001b[1;32m14\u001b[0m\n\u001b[1;33m    <span class=\"icon-googleplus\"></span>\u001b[0m\n\u001b[1;37m    ^\u001b[0m\n\u001b[1;31mIndentationError\u001b[0m\u001b[1;31m:\u001b[0m unindent does not match any outer indentation level\n"
     ]
    }
   ],
   "source": [
    "<div class=\"summary entry-summary\">\n",
    "\t\t\t\t\t\t\t\t\t\t\t\t\t<span class=\"ci-clear\"></span>\n",
    "<div class=\"ci-product-content-header\">\n",
    "\t<div class=\"ci-title-area\">\n",
    "\t\t<h1 itemprop=\"name\" class=\"product_title entry-title\">VEGO Bio Chocolate Blanco con Almendras</h1>\n",
    "\t\t<div class=\"ci-single-breadcrumb\"><nav class=\"woocommerce-breadcrumb\" itemprop=\"breadcrumb\"><a href=\"https://aslan-blue-planet.es\">Inicio</a>&nbsp;/&nbsp;<a href=\"https://aslan-blue-planet.es/categoria-producto/libre-de-y-ecologicos-por-favor-leer-etiqueta-por-si-trazos/\">Libre de... y ecológicos (por favor leer etiqueta por si trazos)</a>&nbsp;/&nbsp;<a href=\"https://aslan-blue-planet.es/categoria-producto/libre-de-y-ecologicos-por-favor-leer-etiqueta-por-si-trazos/productos-sin-soja/\">Productos sin soja</a>&nbsp;/&nbsp;VEGO Bio Chocolate Blanco con Almendras</nav></div>\n",
    "\t</div>\n",
    "</div><div class=\"ci-simple-price\">\n",
    "  <p class=\"price\"><span class=\"amount\">2.39&nbsp;€</span></p>\n",
    "   <p style=\"border:0px solid red; width:100%;\" class=\"stock in-stock\">En stock</p></div>\n",
    "\t\t<div class=\"row share-button\">\n",
    "\t\t\t<div class=\"col-md-6 share\">\n",
    "\t\t\t\t<span class=\"ci-share-hl\">Share it:</span>  <a href=\"https://plus.google.com/share?url=http://aslan-blue-planet.es/tienda/vego-bio-chocolate-blanco-con-almendras/\" target=\"_blank\">\n",
    "\t <span class=\"icon-googleplus\"></span>\n",
    "  </a>\n",
    "  <a href=\"http://pinterest.com/pin/create/button/?url=http://aslan-blue-planet.es/tienda/vego-bio-chocolate-blanco-con-almendras/\" class=\"pin-it-button\" count-layout=\"horizontal\" target=\"_blank\">\n",
    "\t\t<span class=\"icon-pinterest\"></span>\n",
    "  </a>\n",
    "  <a href=\"https://www.facebook.com/sharer/sharer.php?u=http://aslan-blue-planet.es/tienda/vego-bio-chocolate-blanco-con-almendras/\" target=\"_blank\">\n",
    "\t <span class=\"icon-facebook\"></span>\n",
    "  </a>\n",
    "  <a href=\"https://twitter.com/intent/tweet?url=http://aslan-blue-planet.es/tienda/vego-bio-chocolate-blanco-con-almendras/\" target=\"_blank\">\n",
    "\t\t<span class=\"icon-twitter\"></span>\n",
    "  </a>\n",
    "  <span class=\"ci-clear\"></span>\t\t   \t</div>\n",
    "\t\t\n",
    "        \t<div class=\"col-md-6\">\n",
    "\t\t\t\t\t<div class=\"ci-simple-product-button\">\n",
    "                \n",
    "               \n",
    "\n",
    "\t\t\t\t\t\t\t\n",
    "\t\t\t\t\t\n",
    "\n",
    "\t\t\t\t\t\t\n",
    "\t\t\t\t\t\t<form class=\"cart\" method=\"post\" enctype=\"multipart/form-data\">\n",
    "\t\t\t\t\t\t \t\n",
    "\t\t\t\t\t\t \t<input type=\"hidden\" name=\"add-to-cart\" value=\"5088\">\n",
    "\n",
    "\t\t\t\t\t\t \t<button type=\"submit\" class=\"single_add_to_cart_button button alt\">Añadir al carrito</button>\n",
    "\t\t\t\t\t\t \t\t\t\t\t\t \t\n",
    "\n",
    "\t\t\t\t\t\t \t<div class=\"quantity\"><input type=\"number\" step=\"1\" min=\"1\" max=\"10\" name=\"quantity\" value=\"1\" title=\"Cantidad\" class=\"input-text qty text\" size=\"4\"></div>\n",
    "\n",
    "\t\t\t\t\t\t\t\t\t\t\t\t\t</form>\n",
    "\n",
    "\t\t\t\t\t\t\n",
    "\t\t\t\t\t\t\t\t\t\t</div>\n",
    "\t\t\t</div>\n",
    "\t\t</div>\n",
    "        \n",
    "        \n",
    "        \n",
    "\n",
    "\t\t<div class=\"ci-meta-description\">\n",
    "\t\t\t<div class=\"product_meta\">\n",
    "\t\t\t\t\t\t\t\t\t\t\t\t<ul class=\"meta-data\">\n",
    "\t\t\t\t\t<li>\n",
    "\t\t\t\t\t\t<span class=\"sku_wrapper\"><span class=\"sku-txt\">Código: </span>\n",
    "\t\t\t\t\t\t\t<span class=\"sku\" itemprop=\"sku\">0172</span>\n",
    "\t\t\t\t\t\t</span>\n",
    "\t\t\t\t\t</li>\n",
    "\t\t\t\t\t<li>\n",
    "\t\t\t\t\t\t<span class=\"posted_in\"><span>Categories:</span> <a href=\"https://aslan-blue-planet.es/categoria-producto/libre-de-y-ecologicos-por-favor-leer-etiqueta-por-si-trazos/\" rel=\"tag\">Libre de... y ecológicos (por favor leer etiqueta por si trazos)</a>, <a href=\"https://aslan-blue-planet.es/categoria-producto/libre-de-y-ecologicos-por-favor-leer-etiqueta-por-si-trazos/productos-ecologicos/\" rel=\"tag\">Productos ecológicos</a>, <a href=\"https://aslan-blue-planet.es/categoria-producto/libre-de-y-ecologicos-por-favor-leer-etiqueta-por-si-trazos/productos-sin-gluten/\" rel=\"tag\">Productos sin gluten</a>, <a href=\"https://aslan-blue-planet.es/categoria-producto/libre-de-y-ecologicos-por-favor-leer-etiqueta-por-si-trazos/productos-sin-soja/\" rel=\"tag\">Productos sin soja</a>, <a href=\"https://aslan-blue-planet.es/categoria-producto/bolleria-galletas-dulces-helados/chocolates-veganos/\" rel=\"tag\">Chocolates veganos</a>, <a href=\"https://aslan-blue-planet.es/categoria-producto/bolleria-galletas-dulces-helados/golosinas/\" rel=\"tag\">Golosinas</a></span>\t\t\t\t\t</li>\n",
    "\t\t\t\t\t<li>\n",
    "\t\t\t\t\t\t<span class=\"tagged_as\"><span>Etiqueta:</span> <a href=\"https://aslan-blue-planet.es/etiqueta-producto/vego/\" rel=\"tag\">Vego</a></span>\t\t\t\t\t</li>\n",
    "\t\t\t\t</ul>\n",
    "\t\t</div>\n",
    "\t</div><div class=\"ci-clear\"></div>\n",
    "\t\t\t\t\t\t\t\t\t\t\t\t\n",
    "\t<div class=\"woocommerce-tabs wc-tabs-wrapper\">\n",
    "\t\t<ul class=\"tabs wc-tabs\">\n",
    "\t\t\t\t\t\t\t<li class=\"description_tab active\">\n",
    "\t\t\t\t\t<a href=\"#tab-description\">Descripción</a>\n",
    "\t\t\t\t</li>\n",
    "\t\t\t\t\t\t\t<li class=\"additional_information_tab\">\n",
    "\t\t\t\t\t<a href=\"#tab-additional_information\">Información adicional</a>\n",
    "\t\t\t\t</li>\n",
    "\t\t\t\t\t\t\t<li class=\"reviews_tab\">\n",
    "\t\t\t\t\t<a href=\"#tab-reviews\">Comentarios (0)</a>\n",
    "\t\t\t\t</li>\n",
    "\t\t\t\t\t</ul>\n",
    "\t\t\t\t\t<div class=\"panel entry-content wc-tab\" id=\"tab-description\" style=\"display: block;\">\n",
    "\t\t\t\t\n",
    "\n",
    "<p><img class=\"\" src=\"https://aslan-blue-planet.es/wp-content/uploads/2015/11/vegano.png\" width=\"52\" height=\"52\"><img class=\"alignnone wp-image-761\" src=\"https://aslan-blue-planet.es/wp-content/uploads/2015/11/bio-e1447354592719.jpg\" alt=\"Certificado ecológico europeo\" width=\"49\" height=\"33\"><img class=\"alignnone wp-image-4819\" title=\"Fairtrade\" src=\"https://aslan-blue-planet.es/wp-content/uploads/2016/05/Fairtrade-1-150x150.png\" alt=\"\" width=\"40\" height=\"40\" srcset=\"https://aslan-blue-planet.es/wp-content/uploads/2016/05/Fairtrade-1-150x150.png 150w, https://aslan-blue-planet.es/wp-content/uploads/2016/05/Fairtrade-1-90x90.png 90w\" sizes=\"(max-width: 40px) 100vw, 40px\"><img class=\"alignnone wp-image-4824\" src=\"https://aslan-blue-planet.es/wp-content/uploads/2016/05/logo-vego.jpg\" alt=\"logo vego\" width=\"60\" height=\"40\"></p>\n",
    "<p>&nbsp;</p>\n",
    "<blockquote><p>CHOCOLATINA ORGÁNICA DE CHOCOLATE BLANCO CON ALMENDRAS</p></blockquote>\n",
    "<p><strong>Ingredientes</strong>: Azúcar de caña*, manteca de cacao* (26%), inulina*, sal marina, vainilla en polvo*<strong> ( *cultivo orgánico controlado/ Certif. DE-OKO-003)<br>\n",
    "</strong></p>\n",
    "<p><strong>Alérgenos</strong>: Puede contener trazas de leche y avellanas. SIN GLUTEN.</p>\n",
    "<p><strong>Valor nutritivo por 100 g:</strong><br>\n",
    "Energía 2350 KJ / 567 kcal<br>\n",
    "Grasas&nbsp; 41 g de las cuáles saturadas 17 g<br>\n",
    "Carbohidratos 35 g de los cuáles azúcar&nbsp; 35 g<br>\n",
    "Proteína 6 g<br>\n",
    "Sal&nbsp; 0,22 g</p>\n",
    "<p><strong>Contenido:</strong> 50g</p>\n",
    "<p><strong>Procedencia:</strong> Alemania</p>\n",
    "<p><strong>Conservación:</strong> en lugar fresco y seco.</p>\n",
    "<div class=\"shareaholic-canvas shareaholic-ui shareaholic-resolved-canvas ng-scope\" data-app=\"share_buttons\" data-title=\"VEGO Bio Chocolate Blanco con Almendras\" data-link=\"https://aslan-blue-planet.es/tienda/vego-bio-chocolate-blanco-con-almendras/\" data-app-id=\"25872839\" data-app-id-name=\"post_below_content\" id=\"shr_canvas2\"><div ng-show=\"ready\" ng-class=\"containerClasses\" ng-controller=\"AppCtrl as appCtrl\" shr-overflow-limit=\"5\" shr-overflow-child=\".shareaholic-share-button, .shareaholic-total-count\" shr-overflow-last=\"true\" shr-overflow-enabled=\"\" shr-overflow-wiggle=\"5\" shr-auto-size=\"\" shr-auto-size-trigger=\"5\" shr-auto-size-target=\".shareaholic-share-button .shareaholic-share-button-sizing, .shareaholic-total-count\" shr-auto-size-mobile=\"config.isMobile\" shr-auto-size-use-window=\"true\" shr-auto-size-min-size=\"44\" translate=\"no\" orientation=\"\" ng-hide=\"disabled\" class=\"ng-scope shareaholic-share_buttons\">\n",
    "  <!-- ngIf: headlineConfig.style[\"font-family\"] && headlineConfig.text && headlineConfig.loadFont === true -->\n",
    "  <div class=\"shareaholic-share-buttons-container shareaholic-ui shareaholic-no-print shareaholic- shareaholic-badge-counter\" ng-style=\"(config.verticalOffset &amp;&amp; config.appName === 'floated_share_buttons') ? {top: config.verticalOffset} : {}\" ng-class=\"canvasClasses\">\n",
    "\n",
    "    <div class=\"shareaholic-show-container ng-hide\" ng-class=\"{'shareaholic-right-alignment': !config.isLeftAligment}\" ng-click=\"containerHidden = false; triggerHidden = false\" ng-show=\"config.showHideEnabled &amp;&amp; containerHidden\">\n",
    "      <img alt=\"\" class=\"shareaholic-show-hide-arrow\" ng-class=\"{'shareaholic-orientation-left': config.isRightAligment}\" src=\"data:image/png;base64,iVBORw0KGgoAAAANSUhEUgAAADAAAABQCAMAAABoKAbvAAAAS1BMVEUAAAAAAAAAAAAAAAAAAAAAAAAAAAAAAAAAAAAAAAAAAAAAAAAAAAAAAAAAAAAAAAAAAAAAAAAAAAAAAAAAAAAAAAAAAAAAAAD////m3hxmAAAAF3RSTlMAAwUOESQpPURmb3OMkZm0u9bb6u76/EQ4+xQAAAABYktHRBibaYUeAAABLElEQVRIx5XXRxLCMBBEUUROIsPc/6YU2BiFCd29/1V+YIM8O6YZN7ksyUBuazKQx5YM5LUnA5HTnAwI+hjg9F8A06cApUsxiF4GEL0KEHodAPQmiOnSLaD3QUBXAp+uBS5dDTy6GDPpVmDSzcCi24FBdwKdLu4Uuh8o9CDo6VHQ0cOgpQuwio4EFR0KSjoWFHQw+NMF3kjHg5FOBAOdCb50KvjQyeDABfcNd0nXFYc+L7iPNSfqi3vuuFvjw2WCL5cIBi4e5EQ9ohMXDP5cLCi4UFBykSAn6se44YZBy42CjhsEPdcPcqL+dlWuE+hcOzC4ZmBxrSAn6oDlcNXA42qBy1UCn9sHOVFH6ZDbBDG3DgBuFSDcMsj4+yLBnQKU+wtg7hjg3GGZfD1+A48urIHzHtL7AAAAAElFTkSuQmCC\">\n",
    "    </div>\n",
    "\n",
    "\n",
    "    <div class=\"shareaholic-share-buttons-wrapper shareaholic-ui\" ng-mouseenter=\"onHover=true\" ng-mouseleave=\"onHover=false\" ng-class=\"{'shareaholic-share-buttons-wrapper-with-headline' : config.appName !== 'floated_share_buttons' &amp;&amp; headlineConfig.arrow}\">\n",
    "\n",
    "      <div class=\"shareaholic-share-buttons-animation-wrapper\" ng-class=\"{'shareaholic-item-quit-left-animation': config.appName === 'floated_share_buttons' &amp;&amp; containerHidden &amp;&amp; config.isLeftAligment,\n",
    "                    'shareaholic-item-enter-left-animation': config.appName === 'floated_share_buttons' &amp;&amp; !containerHidden &amp;&amp; config.isLeftAligment,\n",
    "                    'shareaholic-item-quit-right-animation': config.appName === 'floated_share_buttons' &amp;&amp; containerHidden &amp;&amp; !config.isLeftAligment,\n",
    "                    'shareaholic-item-enter-right-animation': config.appName === 'floated_share_buttons' &amp;&amp; !containerHidden &amp;&amp; !config.isLeftAligment,\n",
    "          }\">\n",
    "        <div class=\"shareaholic-share-buttons-heading shareaholic-custom\">\n",
    "          <!-- ngIf: headlineConfig.arrow -->\n",
    "\n",
    "          <div class=\"shareaholic-share-buttons-heading-text ng-binding\" ng-style=\"\n",
    "                {\n",
    "                  'font-weight': headlineConfig.style['font-weight'],\n",
    "                  'font-style' : headlineConfig.style['font-style'],\n",
    "                  'font-size' : headlineConfig.style['font-size'],\n",
    "                  'font-family' : headlineConfig.style['font-family'],\n",
    "                  'color' : headlineConfig.style.color,\n",
    "                  'line-height' : 'normal'\n",
    "                }\n",
    "              \" style=\"line-height: normal;\">\n",
    "            \n",
    "          </div>\n",
    "        </div>\n",
    "        <ul class=\"shareaholic-share-buttons shareaholic-no-margin-padding-important\" ng-class=\"{\n",
    "              'shareaholic-no-margin-padding-important': (config.appName === 'shareable_images') || !(headlineConfig.arrow || headlineConfig.text),\n",
    "              'shr-share-button-invisible' : config.appName === 'floated_share_buttons' &amp;&amp; config.display_options &amp;&amp; triggerHidden\n",
    "            }\">\n",
    "          <!-- ngIf: config.total_share_count && shareCountTotal -->\n",
    "\n",
    "          <!-- data-service is used for styles TODO remove!-->\n",
    "          <!-- ngRepeat: sb in sharebuttons track by sb.service --><li ng-repeat=\"sb in sharebuttons track by sb.service\" data-service=\"twitter\" class=\"shareaholic-share-button ng-scope\" ng-attr-style=\"display: list-item; {{listItemStyle}};\n",
    "                 opacity: {{ (config.customColorsEnabled &amp;&amp; config.appName === 'floated_share_buttons') ? config.customColors.opacity+'!important':''}};\n",
    "                \" title=\"Twitter\" ng-class=\"{'shareaholic-has-shares': sb.shares &amp;&amp; config.counter, 'shareaholic-share-button-all' : sb.service === 'all'}\" style=\"display: list-item; opacity: 1;\">\n",
    "            <div class=\"shareaholic-share-button-container\" ng-click=\"sb.click($event)\" ng-attr-style=\"color:{{config.customColorsEnabled &amp;&amp; config.appName === 'floated_share_buttons' ? config.customColors.color : ''}} !important;\n",
    "                        background:{{ (config.customColorsEnabled &amp;&amp; config.appName === 'floated_share_buttons') &amp;&amp; !(isMobile || isMini) ? config.customColors.background : ''}} !important;\" style=\"color: !important;\n",
    "                        background: !important;\">\n",
    "              <!-- ngIf: config.counter --><span class=\"shareaholic-share-button-counter ng-binding ng-scope\" ng-if=\"config.counter\" ng-attr-style=\"\n",
    "                    color:{{config.customColorsEnabled &amp;&amp; config.appName === 'floated_share_buttons' ? config.customColors.color : ''}} !important;\n",
    "                    background:{{config.customColorsEnabled &amp;&amp; config.appName === 'floated_share_buttons' ? config.customColors.background : ''}} !important;\n",
    "                    \" style=\"color: !important;\n",
    "                    background: !important;\">0</span><!-- end ngIf: config.counter -->\n",
    "              <div class=\"shareaholic-share-button-sizing\" ng-style=\"config.customColorsEnabled &amp;&amp; config.appName === 'floated_share_buttons' &amp;&amp; ((sb.shares &amp;&amp; config.counter) || isMobile) ? config.customColors : {}\" ng-class=\"sb.userClasses\">\n",
    "\n",
    "                <!-- ngIf: !sb.customInnerHTML --><i class=\"shareaholic-service-icon shareaholic-service-twitter\" ng-style=\"iconStyle\" ng-if=\"!sb.customInnerHTML\">\n",
    "                </i><!-- end ngIf: !sb.customInnerHTML -->\n",
    "\n",
    "                <!-- ngIf: sb.customInnerHTML -->\n",
    "                <span class=\"shareaholic-share-button-verb ng-binding\" ng-attr-style=\"color:{{config.customColorsEnabled ? config.customColors.color : '#fff'}} !important;\" style=\"color:#fff !important;\">\n",
    "                  <b class=\"ng-binding\">Tweet</b>\n",
    "                  \n",
    "\n",
    "                </span>\n",
    "              </div>\n",
    "            </div>\n",
    "          </li><!-- end ngRepeat: sb in sharebuttons track by sb.service --><li ng-repeat=\"sb in sharebuttons track by sb.service\" data-service=\"facebook\" class=\"shareaholic-share-button ng-scope\" ng-attr-style=\"display: list-item; {{listItemStyle}};\n",
    "                 opacity: {{ (config.customColorsEnabled &amp;&amp; config.appName === 'floated_share_buttons') ? config.customColors.opacity+'!important':''}};\n",
    "                \" title=\"Facebook\" ng-class=\"{'shareaholic-has-shares': sb.shares &amp;&amp; config.counter, 'shareaholic-share-button-all' : sb.service === 'all'}\" style=\"display: list-item; opacity: 1;\">\n",
    "            <div class=\"shareaholic-share-button-container\" ng-click=\"sb.click($event)\" ng-attr-style=\"color:{{config.customColorsEnabled &amp;&amp; config.appName === 'floated_share_buttons' ? config.customColors.color : ''}} !important;\n",
    "                        background:{{ (config.customColorsEnabled &amp;&amp; config.appName === 'floated_share_buttons') &amp;&amp; !(isMobile || isMini) ? config.customColors.background : ''}} !important;\" style=\"color: !important;\n",
    "                        background: !important;\">\n",
    "              <!-- ngIf: config.counter --><span class=\"shareaholic-share-button-counter ng-binding ng-scope\" ng-if=\"config.counter\" ng-attr-style=\"\n",
    "                    color:{{config.customColorsEnabled &amp;&amp; config.appName === 'floated_share_buttons' ? config.customColors.color : ''}} !important;\n",
    "                    background:{{config.customColorsEnabled &amp;&amp; config.appName === 'floated_share_buttons' ? config.customColors.background : ''}} !important;\n",
    "                    \" style=\"color: !important;\n",
    "                    background: !important;\">0</span><!-- end ngIf: config.counter -->\n",
    "              <div class=\"shareaholic-share-button-sizing\" ng-style=\"config.customColorsEnabled &amp;&amp; config.appName === 'floated_share_buttons' &amp;&amp; ((sb.shares &amp;&amp; config.counter) || isMobile) ? config.customColors : {}\" ng-class=\"sb.userClasses\">\n",
    "\n",
    "                <!-- ngIf: !sb.customInnerHTML --><i class=\"shareaholic-service-icon shareaholic-service-facebook\" ng-style=\"iconStyle\" ng-if=\"!sb.customInnerHTML\">\n",
    "                </i><!-- end ngIf: !sb.customInnerHTML -->\n",
    "\n",
    "                <!-- ngIf: sb.customInnerHTML -->\n",
    "                <span class=\"shareaholic-share-button-verb ng-binding\" ng-attr-style=\"color:{{config.customColorsEnabled ? config.customColors.color : '#fff'}} !important;\" style=\"color:#fff !important;\">\n",
    "                  <b class=\"ng-binding\">Share</b>\n",
    "                  \n",
    "\n",
    "                </span>\n",
    "              </div>\n",
    "            </div>\n",
    "          </li><!-- end ngRepeat: sb in sharebuttons track by sb.service --><li ng-repeat=\"sb in sharebuttons track by sb.service\" data-service=\"google_plus\" class=\"shareaholic-share-button ng-scope\" ng-attr-style=\"display: list-item; {{listItemStyle}};\n",
    "                 opacity: {{ (config.customColorsEnabled &amp;&amp; config.appName === 'floated_share_buttons') ? config.customColors.opacity+'!important':''}};\n",
    "                \" title=\"Google+\" ng-class=\"{'shareaholic-has-shares': sb.shares &amp;&amp; config.counter, 'shareaholic-share-button-all' : sb.service === 'all'}\" style=\"display: list-item; opacity: 1;\">\n",
    "            <div class=\"shareaholic-share-button-container\" ng-click=\"sb.click($event)\" ng-attr-style=\"color:{{config.customColorsEnabled &amp;&amp; config.appName === 'floated_share_buttons' ? config.customColors.color : ''}} !important;\n",
    "                        background:{{ (config.customColorsEnabled &amp;&amp; config.appName === 'floated_share_buttons') &amp;&amp; !(isMobile || isMini) ? config.customColors.background : ''}} !important;\" style=\"color: !important;\n",
    "                        background: !important;\">\n",
    "              <!-- ngIf: config.counter --><span class=\"shareaholic-share-button-counter ng-binding ng-scope\" ng-if=\"config.counter\" ng-attr-style=\"\n",
    "                    color:{{config.customColorsEnabled &amp;&amp; config.appName === 'floated_share_buttons' ? config.customColors.color : ''}} !important;\n",
    "                    background:{{config.customColorsEnabled &amp;&amp; config.appName === 'floated_share_buttons' ? config.customColors.background : ''}} !important;\n",
    "                    \" style=\"color: !important;\n",
    "                    background: !important;\">0</span><!-- end ngIf: config.counter -->\n",
    "              <div class=\"shareaholic-share-button-sizing\" ng-style=\"config.customColorsEnabled &amp;&amp; config.appName === 'floated_share_buttons' &amp;&amp; ((sb.shares &amp;&amp; config.counter) || isMobile) ? config.customColors : {}\" ng-class=\"sb.userClasses\">\n",
    "\n",
    "                <!-- ngIf: !sb.customInnerHTML --><i class=\"shareaholic-service-icon shareaholic-service-google_plus\" ng-style=\"iconStyle\" ng-if=\"!sb.customInnerHTML\">\n",
    "                </i><!-- end ngIf: !sb.customInnerHTML -->\n",
    "\n",
    "                <!-- ngIf: sb.customInnerHTML -->\n",
    "                <span class=\"shareaholic-share-button-verb ng-binding\" ng-attr-style=\"color:{{config.customColorsEnabled ? config.customColors.color : '#fff'}} !important;\" style=\"color:#fff !important;\">\n",
    "                  <b class=\"ng-binding\">Share</b>\n",
    "                  \n",
    "\n",
    "                </span>\n",
    "              </div>\n",
    "            </div>\n",
    "          </li><!-- end ngRepeat: sb in sharebuttons track by sb.service --><li ng-repeat=\"sb in sharebuttons track by sb.service\" data-service=\"pinterest\" class=\"shareaholic-share-button ng-scope\" ng-attr-style=\"display: list-item; {{listItemStyle}};\n",
    "                 opacity: {{ (config.customColorsEnabled &amp;&amp; config.appName === 'floated_share_buttons') ? config.customColors.opacity+'!important':''}};\n",
    "                \" title=\"Pinterest\" ng-class=\"{'shareaholic-has-shares': sb.shares &amp;&amp; config.counter, 'shareaholic-share-button-all' : sb.service === 'all'}\" style=\"display: list-item; opacity: 1;\">\n",
    "            <div class=\"shareaholic-share-button-container\" ng-click=\"sb.click($event)\" ng-attr-style=\"color:{{config.customColorsEnabled &amp;&amp; config.appName === 'floated_share_buttons' ? config.customColors.color : ''}} !important;\n",
    "                        background:{{ (config.customColorsEnabled &amp;&amp; config.appName === 'floated_share_buttons') &amp;&amp; !(isMobile || isMini) ? config.customColors.background : ''}} !important;\" style=\"color: !important;\n",
    "                        background: !important;\">\n",
    "              <!-- ngIf: config.counter --><span class=\"shareaholic-share-button-counter ng-binding ng-scope\" ng-if=\"config.counter\" ng-attr-style=\"\n",
    "                    color:{{config.customColorsEnabled &amp;&amp; config.appName === 'floated_share_buttons' ? config.customColors.color : ''}} !important;\n",
    "                    background:{{config.customColorsEnabled &amp;&amp; config.appName === 'floated_share_buttons' ? config.customColors.background : ''}} !important;\n",
    "                    \" style=\"color: !important;\n",
    "                    background: !important;\">0</span><!-- end ngIf: config.counter -->\n",
    "              <div class=\"shareaholic-share-button-sizing\" ng-style=\"config.customColorsEnabled &amp;&amp; config.appName === 'floated_share_buttons' &amp;&amp; ((sb.shares &amp;&amp; config.counter) || isMobile) ? config.customColors : {}\" ng-class=\"sb.userClasses\">\n",
    "\n",
    "                <!-- ngIf: !sb.customInnerHTML --><i class=\"shareaholic-service-icon shareaholic-service-pinterest\" ng-style=\"iconStyle\" ng-if=\"!sb.customInnerHTML\">\n",
    "                </i><!-- end ngIf: !sb.customInnerHTML -->\n",
    "\n",
    "                <!-- ngIf: sb.customInnerHTML -->\n",
    "                <span class=\"shareaholic-share-button-verb ng-binding\" ng-attr-style=\"color:{{config.customColorsEnabled ? config.customColors.color : '#fff'}} !important;\" style=\"color:#fff !important;\">\n",
    "                  <b class=\"ng-binding\">Pin</b>\n",
    "                  \n",
    "\n",
    "                </span>\n",
    "              </div>\n",
    "            </div>\n",
    "          </li><!-- end ngRepeat: sb in sharebuttons track by sb.service --><li ng-repeat=\"sb in sharebuttons track by sb.service\" data-service=\"email_this\" class=\"shareaholic-share-button ng-scope\" ng-attr-style=\"display: list-item; {{listItemStyle}};\n",
    "                 opacity: {{ (config.customColorsEnabled &amp;&amp; config.appName === 'floated_share_buttons') ? config.customColors.opacity+'!important':''}};\n",
    "                \" title=\"Email This\" ng-class=\"{'shareaholic-has-shares': sb.shares &amp;&amp; config.counter, 'shareaholic-share-button-all' : sb.service === 'all'}\" style=\"display: none; opacity: 1;\">\n",
    "            <div class=\"shareaholic-share-button-container\" ng-click=\"sb.click($event)\" ng-attr-style=\"color:{{config.customColorsEnabled &amp;&amp; config.appName === 'floated_share_buttons' ? config.customColors.color : ''}} !important;\n",
    "                        background:{{ (config.customColorsEnabled &amp;&amp; config.appName === 'floated_share_buttons') &amp;&amp; !(isMobile || isMini) ? config.customColors.background : ''}} !important;\" style=\"color: !important;\n",
    "                        background: !important;\">\n",
    "              <!-- ngIf: config.counter --><span class=\"shareaholic-share-button-counter ng-binding ng-scope\" ng-if=\"config.counter\" ng-attr-style=\"\n",
    "                    color:{{config.customColorsEnabled &amp;&amp; config.appName === 'floated_share_buttons' ? config.customColors.color : ''}} !important;\n",
    "                    background:{{config.customColorsEnabled &amp;&amp; config.appName === 'floated_share_buttons' ? config.customColors.background : ''}} !important;\n",
    "                    \" style=\"color: !important;\n",
    "                    background: !important;\">0</span><!-- end ngIf: config.counter -->\n",
    "              <div class=\"shareaholic-share-button-sizing\" ng-style=\"config.customColorsEnabled &amp;&amp; config.appName === 'floated_share_buttons' &amp;&amp; ((sb.shares &amp;&amp; config.counter) || isMobile) ? config.customColors : {}\" ng-class=\"sb.userClasses\">\n",
    "\n",
    "                <!-- ngIf: !sb.customInnerHTML --><i class=\"shareaholic-service-icon shareaholic-service-email_this\" ng-style=\"iconStyle\" ng-if=\"!sb.customInnerHTML\">\n",
    "                </i><!-- end ngIf: !sb.customInnerHTML -->\n",
    "\n",
    "                <!-- ngIf: sb.customInnerHTML -->\n",
    "                <span class=\"shareaholic-share-button-verb ng-binding\" ng-attr-style=\"color:{{config.customColorsEnabled ? config.customColors.color : '#fff'}} !important;\" style=\"color:#fff !important;\">\n",
    "                  <b class=\"ng-binding\">Mail</b>\n",
    "                  \n",
    "\n",
    "                </span>\n",
    "              </div>\n",
    "            </div>\n",
    "          </li><!-- end ngRepeat: sb in sharebuttons track by sb.service --><li ng-repeat=\"sb in sharebuttons track by sb.service\" data-service=\"all\" class=\"shareaholic-share-button ng-scope shareaholic-share-button-all\" ng-attr-style=\"display: list-item; {{listItemStyle}};\n",
    "                 opacity: {{ (config.customColorsEnabled &amp;&amp; config.appName === 'floated_share_buttons') ? config.customColors.opacity+'!important':''}};\n",
    "                \" title=\"More Options\" ng-class=\"{'shareaholic-has-shares': sb.shares &amp;&amp; config.counter, 'shareaholic-share-button-all' : sb.service === 'all'}\" style=\"display: list-item; opacity: 1;\">\n",
    "            <div class=\"shareaholic-share-button-container\" ng-click=\"sb.click($event)\" ng-attr-style=\"color:{{config.customColorsEnabled &amp;&amp; config.appName === 'floated_share_buttons' ? config.customColors.color : ''}} !important;\n",
    "                        background:{{ (config.customColorsEnabled &amp;&amp; config.appName === 'floated_share_buttons') &amp;&amp; !(isMobile || isMini) ? config.customColors.background : ''}} !important;\" style=\"color: !important;\n",
    "                        background: !important;\">\n",
    "              <!-- ngIf: config.counter --><span class=\"shareaholic-share-button-counter ng-binding ng-scope\" ng-if=\"config.counter\" ng-attr-style=\"\n",
    "                    color:{{config.customColorsEnabled &amp;&amp; config.appName === 'floated_share_buttons' ? config.customColors.color : ''}} !important;\n",
    "                    background:{{config.customColorsEnabled &amp;&amp; config.appName === 'floated_share_buttons' ? config.customColors.background : ''}} !important;\n",
    "                    \" style=\"color: !important;\n",
    "                    background: !important;\">0</span><!-- end ngIf: config.counter -->\n",
    "              <div class=\"shareaholic-share-button-sizing\" ng-style=\"config.customColorsEnabled &amp;&amp; config.appName === 'floated_share_buttons' &amp;&amp; ((sb.shares &amp;&amp; config.counter) || isMobile) ? config.customColors : {}\" ng-class=\"sb.userClasses\">\n",
    "\n",
    "                <!-- ngIf: !sb.customInnerHTML --><i class=\"shareaholic-service-icon shareaholic-service-all\" ng-style=\"iconStyle\" ng-if=\"!sb.customInnerHTML\">\n",
    "                </i><!-- end ngIf: !sb.customInnerHTML -->\n",
    "\n",
    "                <!-- ngIf: sb.customInnerHTML -->\n",
    "                <span class=\"shareaholic-share-button-verb ng-binding\" ng-attr-style=\"color:{{config.customColorsEnabled ? config.customColors.color : '#fff'}} !important;\" style=\"color:#fff !important;\">\n",
    "                  <b class=\"ng-binding\">Share</b>\n",
    "                  \n",
    "\n",
    "                </span>\n",
    "              </div>\n",
    "            </div>\n",
    "          </li><!-- end ngRepeat: sb in sharebuttons track by sb.service -->\n",
    "        </ul>\n",
    "      </div>\n",
    "      <div ng-show=\"onHover &amp;&amp; !containerHidden &amp;&amp; config.showHideEnabled &amp;&amp; !isMobile\" class=\"shareaholic-hide-container shareaholic-left-alignment ng-hide\" ng-class=\"{'shareaholic-left-alignment': config.isLeftAligment}\" ng-click=\"containerHidden = true\">\n",
    "        <img alt=\"\" class=\"shareaholic-show-hide-arrow shareaholic-orientation-left\" ng-class=\"{'shareaholic-orientation-left': !config.isRightAligment}\" src=\"data:image/png;base64,iVBORw0KGgoAAAANSUhEUgAAADAAAABQCAMAAABoKAbvAAAAS1BMVEUAAAAAAAAAAAAAAAAAAAAAAAAAAAAAAAAAAAAAAAAAAAAAAAAAAAAAAAAAAAAAAAAAAAAAAAAAAAAAAAAAAAAAAAAAAAAAAAD////m3hxmAAAAF3RSTlMAAwUOESQpPURmb3OMkZm0u9bb6u76/EQ4+xQAAAABYktHRBibaYUeAAABLElEQVRIx5XXRxLCMBBEUUROIsPc/6YU2BiFCd29/1V+YIM8O6YZN7ksyUBuazKQx5YM5LUnA5HTnAwI+hjg9F8A06cApUsxiF4GEL0KEHodAPQmiOnSLaD3QUBXAp+uBS5dDTy6GDPpVmDSzcCi24FBdwKdLu4Uuh8o9CDo6VHQ0cOgpQuwio4EFR0KSjoWFHQw+NMF3kjHg5FOBAOdCb50KvjQyeDABfcNd0nXFYc+L7iPNSfqi3vuuFvjw2WCL5cIBi4e5EQ9ohMXDP5cLCi4UFBykSAn6se44YZBy42CjhsEPdcPcqL+dlWuE+hcOzC4ZmBxrSAn6oDlcNXA42qBy1UCn9sHOVFH6ZDbBDG3DgBuFSDcMsj4+yLBnQKU+wtg7hjg3GGZfD1+A48urIHzHtL7AAAAAElFTkSuQmCC\">\n",
    "      </div>\n",
    "    </div>\n",
    "  </div>\n",
    "</div>\n",
    "</div>\t\t\t</div>\n",
    "\t\t\t\t\t<div class=\"panel entry-content wc-tab\" id=\"tab-additional_information\" style=\"display: none;\">\n",
    "\t\t\t\t\n",
    "\n",
    "<table class=\"shop_attributes\">\n",
    "\n",
    "\t\n",
    "\t\t\t\t\t<tbody><tr class=\"\">\n",
    "\t\t\t\t<th>Peso</th>\n",
    "\t\t\t\t<td class=\"product_weight\">0.050 kg</td>\n",
    "\t\t\t</tr>\n",
    "\t\t\n",
    "\t\t\n",
    "\t\n",
    "\t\n",
    "</tbody></table>\n",
    "\t\t\t</div>\n",
    "\t\t\t\t\t<div class=\"panel entry-content wc-tab\" id=\"tab-reviews\" style=\"display: none;\">\n",
    "\t\t\t\t<div id=\"reviews\">\n",
    "\t<div id=\"comments\">\n",
    "\t\t\n",
    "\t\t\t<p class=\"woocommerce-noreviews\">No hay reseñas todavía.</p>\n",
    "\n",
    "\t\t\t</div>\n",
    "\n",
    "\t\n",
    "\t\t<div id=\"review_form_wrapper\">\n",
    "\t\t\t<div id=\"review_form\">\n",
    "\t\t\t\t\t<div id=\"respond\" class=\"comment-respond\">\n",
    "\t\t<h3 id=\"reply-title\" class=\"comment-reply-title\">Sé el primero en opinar “VEGO Bio Chocolate Blanco con Almendras” <small><a rel=\"nofollow\" id=\"cancel-comment-reply-link\" href=\"/tienda/vego-bio-chocolate-blanco-con-almendras/#respond\" style=\"display:none;\">Cancelar respuesta</a></small></h3><p class=\"must-log-in\">Lo siento, debes estar <a href=\"https://aslan-blue-planet.es/wp-login.php?redirect_to=https%3A%2F%2Faslan-blue-planet.es%2Ftienda%2Fvego-bio-chocolate-blanco-con-almendras%2F\">conectado</a> para publicar un comentario.</p>\t</div><!-- #respond -->\n",
    "\t\t\t\t</div>\n",
    "\t\t</div>\n",
    "\n",
    "\t\n",
    "\t<div class=\"clear\"></div>\n",
    "</div>\t\t\t</div>\n",
    "\t\t\t</div>\n",
    "\n",
    "\t\t\t\t\t\t\t\t</div>"
   ]
  },
  {
   "cell_type": "markdown",
   "metadata": {},
   "source": [
    "* Seleccionamos el nombre del producto"
   ]
  },
  {
   "cell_type": "code",
   "execution_count": 60,
   "metadata": {},
   "outputs": [
    {
     "data": {
      "text/plain": [
       "'VEGO Bio Chocolate Blanco con Almendras'"
      ]
     },
     "execution_count": 60,
     "metadata": {},
     "output_type": "execute_result"
    }
   ],
   "source": [
    "m = soup.select_one(\"h1.product_title \").text\n",
    "m"
   ]
  },
  {
   "cell_type": "markdown",
   "metadata": {},
   "source": [
    "* Seleccionamos el precio del producto"
   ]
  },
  {
   "cell_type": "code",
   "execution_count": 69,
   "metadata": {},
   "outputs": [
    {
     "name": "stdout",
     "output_type": "stream",
     "text": [
      "2.39 €\n"
     ]
    }
   ],
   "source": [
    "datos_precio = soup.select_one('p.price')\n",
    "if datos_precio : \n",
    "    print(datos_precio.text)"
   ]
  },
  {
   "cell_type": "code",
   "execution_count": 70,
   "metadata": {},
   "outputs": [
    {
     "data": {
      "text/plain": [
       "'2.39\\xa0€'"
      ]
     },
     "execution_count": 70,
     "metadata": {},
     "output_type": "execute_result"
    }
   ],
   "source": [
    "datos_precio.text"
   ]
  },
  {
   "cell_type": "markdown",
   "metadata": {},
   "source": [
    "Podemos separar la moneda:\n",
    "    "
   ]
  },
  {
   "cell_type": "code",
   "execution_count": 94,
   "metadata": {},
   "outputs": [
    {
     "data": {
      "text/plain": [
       "'2.39€'"
      ]
     },
     "execution_count": 94,
     "metadata": {},
     "output_type": "execute_result"
    }
   ],
   "source": [
    "datos_precio.text.replace('\\xa0', '')"
   ]
  },
  {
   "cell_type": "code",
   "execution_count": 95,
   "metadata": {},
   "outputs": [
    {
     "data": {
      "text/plain": [
       "'€'"
      ]
     },
     "execution_count": 95,
     "metadata": {},
     "output_type": "execute_result"
    }
   ],
   "source": [
    "datos_precio.text.replace('\\xa0', '')[-1]"
   ]
  },
  {
   "cell_type": "code",
   "execution_count": 96,
   "metadata": {},
   "outputs": [
    {
     "data": {
      "text/plain": [
       "'2.39'"
      ]
     },
     "execution_count": 96,
     "metadata": {},
     "output_type": "execute_result"
    }
   ],
   "source": [
    "datos_precio.text.replace('\\xa0', '')[:-1]"
   ]
  },
  {
   "cell_type": "markdown",
   "metadata": {},
   "source": [
    "* Para localizar la información del producto"
   ]
  },
  {
   "cell_type": "code",
   "execution_count": 73,
   "metadata": {},
   "outputs": [
    {
     "data": {
      "text/plain": [
       "'  Ingredientes: Azúcar de caña*, manteca de cacao* (26%), inulina*, sal marina, vainilla en polvo* ( *cultivo orgánico controlado/ Certif. DE-OKO-003) Alérgenos: Puede contener trazas de leche y avellanas. SIN GLUTEN. Valor nutritivo por 100 g:\\nEnergía 2350 KJ / 567 kcal\\nGrasas  41 g de las cuáles saturadas 17 g\\nCarbohidratos 35 g de los cuáles azúcar  35 g\\nProteína 6 g\\nSal  0,22 g Contenido: 50g Procedencia: Alemania Conservación: en lugar fresco y seco.'"
      ]
     },
     "execution_count": 73,
     "metadata": {},
     "output_type": "execute_result"
    }
   ],
   "source": [
    "producto = soup.select_one('div.entry-content p') \n",
    "detalle = producto.findNextSiblings('p')\n",
    "info = ''\n",
    "for p in detalle:\n",
    "    info = info + ' '+  p.text.strip().replace('\\xa0' , ' ')\n",
    "info"
   ]
  },
  {
   "cell_type": "markdown",
   "metadata": {},
   "source": [
    "* Si queremos más información del producto, como por ejemplo el nombre, el link, precio y procedencia:"
   ]
  },
  {
   "cell_type": "code",
   "execution_count": 99,
   "metadata": {},
   "outputs": [],
   "source": [
    "def info_producto(soup):\n",
    "    producto = soup.select_one('div.entry-summary')   \n",
    "    \n",
    "    # nombre\n",
    "    nombre = producto.select_one(\"h1.product_title \").text\n",
    "    # datos precio\n",
    "    datos_precio = producto.select_one('p.price')\n",
    "    if datos_precio : \n",
    "        datos_precio = datos_precio.text\n",
    "        moneda = datos_precio.replace('\\xa0', '')[-1]\n",
    "        importe = datos_precio.replace('\\xa0', '')[:-1]\n",
    "    \n",
    "    # +Info\n",
    "    p = producto.select_one('div.entry-content p')  \n",
    "    detalle = p.findNextSiblings('p')\n",
    "    info = ''\n",
    "    for p in detalle:\n",
    "        info = info + ' '+  p.text.strip()\n",
    "    \n",
    "    datos = {'nombre' : nombre, 'precio': importe, 'moneda' : moneda, 'masInfo': info}\n",
    "    \n",
    "    return datos"
   ]
  },
  {
   "cell_type": "code",
   "execution_count": 100,
   "metadata": {},
   "outputs": [
    {
     "name": "stdout",
     "output_type": "stream",
     "text": [
      "{'nombre': 'VEGO Bio Chocolate Blanco con Almendras', 'precio': '2.39', 'moneda': '€', 'masInfo': '  Ingredientes: Azúcar de caña*, manteca de cacao* (26%), inulina*, sal marina, vainilla en polvo* ( *cultivo orgánico controlado/ Certif. DE-OKO-003) Alérgenos: Puede contener trazas de leche y avellanas. SIN GLUTEN. Valor nutritivo por 100 g:\\nEnergía 2350 KJ / 567 kcal\\nGrasas\\xa0 41 g de las cuáles saturadas 17 g\\nCarbohidratos 35 g de los cuáles azúcar\\xa0 35 g\\nProteína 6 g\\nSal\\xa0 0,22 g Contenido: 50g Procedencia: Alemania Conservación: en lugar fresco y seco.'}\n"
     ]
    }
   ],
   "source": [
    "url_1 = 'https://aslan-blue-planet.es/tienda/vego-bio-chocolate-blanco-con-almendras/'\n",
    "exito, soup = descargarPagina(url_1)\n",
    "if exito:\n",
    "    p = info_producto(soup)\n",
    "    \n",
    "print(p)"
   ]
  },
  {
   "cell_type": "markdown",
   "metadata": {},
   "source": [
    "#### Catálogo completo"
   ]
  },
  {
   "cell_type": "markdown",
   "metadata": {},
   "source": [
    "Una vez que sabemos cómo procesar un producto vamos a intentar obtener el catálogo completo. La estructura de cada uno de los productos de la página es la que ya hemos visto en el punto anterior. \n",
    "\n",
    "Por defecto se muestran 24 productos por página y hay un botón al final de la página para avanzar. Sin embargo, si nos fijamos un poco veremos que cada vez que pulsamos en el botón nos lleva a una nueva página con una URL del tipo https://aslan-blue-planet.es/tienda-vegana/page/X/. \n",
    "\n",
    "\n",
    "Además, podemos ver que no se lanza ningún error 404 si llegamos al final del catálogo, sino que se carga una página inicial https://aslan-blue-planet.es/\n",
    "\n",
    "De acuerdo a esto, vamos a ver cómo obtener los enlaces de cada uno de los productos y cómo crear una lista con la información de todos los productos:"
   ]
  },
  {
   "cell_type": "code",
   "execution_count": 101,
   "metadata": {},
   "outputs": [],
   "source": [
    "def obtener_enlaces_productos(soup):\n",
    "    # Lista de enlaces \n",
    "    enlaces = []\n",
    "    # Procesamos el HTML descargado\n",
    "    all_productos = soup.select('div.ci-product')    \n",
    "    for producto in all_productos:\n",
    "        enlace = producto.select_one('a[href]')['href']\n",
    "        enlaces.append(enlace)\n",
    "    return enlaces  "
   ]
  },
  {
   "cell_type": "code",
   "execution_count": 102,
   "metadata": {},
   "outputs": [
    {
     "data": {
      "text/plain": [
       "24"
      ]
     },
     "execution_count": 102,
     "metadata": {},
     "output_type": "execute_result"
    }
   ],
   "source": [
    "url = 'https://aslan-blue-planet.es/tienda-vegana/'\n",
    "exito, soup = descargarPagina(url)\n",
    "if exito:\n",
    "    lista_enlaces = obtener_enlaces_productos(soup)\n",
    "    \n",
    "len(lista_enlaces)"
   ]
  },
  {
   "cell_type": "code",
   "execution_count": 103,
   "metadata": {},
   "outputs": [
    {
     "data": {
      "text/plain": [
       "['https://aslan-blue-planet.es/tienda/vego-bio-chocolate-blanco-con-almendras/',\n",
       " 'https://aslan-blue-planet.es/tienda/huevos-de-chocolate-100-grs/',\n",
       " 'https://aslan-blue-planet.es/tienda/conejo-de-chocolate-vegano-100-grs/',\n",
       " 'https://aslan-blue-planet.es/tienda/conejo-de-chocolate-vegano-blanco-100-grs/',\n",
       " 'https://aslan-blue-planet.es/tienda/conejos-de-chocolate-en-piruletas-3-uds-2/',\n",
       " 'https://aslan-blue-planet.es/tienda/conejos-de-chocolate-blanco-en-piruletas-3-uds/',\n",
       " 'https://aslan-blue-planet.es/tienda/sim-sala-mi-snack-3x35g/',\n",
       " 'https://aslan-blue-planet.es/tienda/barritas-de-choco-latte/',\n",
       " 'https://aslan-blue-planet.es/tienda/chocofresa/',\n",
       " 'https://aslan-blue-planet.es/tienda/bacon-vegano-bio-60g/',\n",
       " 'https://aslan-blue-planet.es/tienda/bacon-vegano-meetlyke-60g-2/',\n",
       " 'https://aslan-blue-planet.es/tienda/bloque-violife-sabor-mozzarella-400g/',\n",
       " 'https://aslan-blue-planet.es/tienda/cappelletti-bio-con-tofu-ahumado-vantastic-foods/',\n",
       " 'https://aslan-blue-planet.es/tienda/cappelletti-con-boletus-y-finas-hierbas/',\n",
       " 'https://aslan-blue-planet.es/tienda/tortellini-con-verduras/',\n",
       " 'https://aslan-blue-planet.es/tienda/caviart-sabor-trufa-100g/',\n",
       " 'https://aslan-blue-planet.es/tienda/cavi-art-100g-clasico/',\n",
       " 'https://aslan-blue-planet.es/tienda/oat-king-barrita-energetica-de-pastel-de-manzana-95g/',\n",
       " 'https://aslan-blue-planet.es/tienda/bonvita-barrita-bio-de-coco-con-chocolate-negro/',\n",
       " 'https://aslan-blue-planet.es/tienda/choco-bites-crunchy-bio-40g/',\n",
       " 'https://aslan-blue-planet.es/tienda/choco-bites-coco-bio-50g/',\n",
       " 'https://aslan-blue-planet.es/tienda/uptons-naturals-jackfruit-sabor-bbq-200g/',\n",
       " 'https://aslan-blue-planet.es/tienda/uptons-naturals-jackfruit-original-200g/',\n",
       " 'https://aslan-blue-planet.es/tienda/veggie-kebab-bio-vantastic-foods-200-grs/']"
      ]
     },
     "execution_count": 103,
     "metadata": {},
     "output_type": "execute_result"
    }
   ],
   "source": [
    "lista_enlaces"
   ]
  },
  {
   "cell_type": "markdown",
   "metadata": {},
   "source": [
    "La url de las páginas siguientes se construyen de la siguiente manera:"
   ]
  },
  {
   "cell_type": "code",
   "execution_count": 104,
   "metadata": {},
   "outputs": [
    {
     "data": {
      "text/plain": [
       "'https://aslan-blue-planet.es/tienda-vegana/page/2/'"
      ]
     },
     "execution_count": 104,
     "metadata": {},
     "output_type": "execute_result"
    }
   ],
   "source": [
    "i = 2\n",
    "url_sig = 'https://aslan-blue-planet.es/tienda-vegana/page/{}/'.format(i)\n",
    "url_sig"
   ]
  },
  {
   "cell_type": "markdown",
   "metadata": {},
   "source": [
    "Como no sabemos cuántas páginas hay, procesaremos hasta recibir un código de retorno distinto de 200 o cuando la página es la página inicial."
   ]
  },
  {
   "cell_type": "code",
   "execution_count": 105,
   "metadata": {},
   "outputs": [],
   "source": [
    "url = 'https://aslan-blue-planet.es/tienda-vegana/'\n",
    "def procesar_catalogo(url):\n",
    "    datos = []\n",
    "    exito, soup = descargarPagina(url)\n",
    "    i = 1\n",
    "    while exito:\n",
    "        enlaces = obtener_enlaces_productos(soup)\n",
    "        # Procesamos cada producto\n",
    "        for url_p in enlaces:\n",
    "            exito, soup_p = descargarPagina(url_p)\n",
    "            datos_producto = info_producto(soup_p)\n",
    "            datos.append (datos_producto)\n",
    "            \n",
    "        # siguiente página \n",
    "        i = i + 1          \n",
    "        siguiente_url = 'https://aslan-blue-planet.es/tienda-vegana/page/{}/'.format(i)\n",
    "        exito, soup = descargarPagina(siguiente_url)\n",
    "        # comprobar que no es la última\n",
    "        if exito and soup.select_one('body.home'):\n",
    "            exito = False\n",
    "        print(i)  \n",
    "    \n",
    "    \n",
    "    \n",
    "    return datos, i"
   ]
  },
  {
   "cell_type": "code",
   "execution_count": null,
   "metadata": {},
   "outputs": [
    {
     "name": "stdout",
     "output_type": "stream",
     "text": [
      "2\n"
     ]
    }
   ],
   "source": [
    "datos, i = procesar_catalogo(url)"
   ]
  },
  {
   "cell_type": "code",
   "execution_count": null,
   "metadata": {},
   "outputs": [],
   "source": [
    "datos"
   ]
  },
  {
   "cell_type": "markdown",
   "metadata": {},
   "source": [
    "Finalmente cargaremos todos los datos en un dataframe de pandas para procesarlo, extraer información y guardarlo a un CSV"
   ]
  },
  {
   "cell_type": "code",
   "execution_count": null,
   "metadata": {},
   "outputs": [],
   "source": [
    "import pandas as pd\n",
    "\n",
    "tabla = pd.DataFrame(datos)\n",
    "tabla"
   ]
  },
  {
   "cell_type": "code",
   "execution_count": null,
   "metadata": {},
   "outputs": [],
   "source": []
  },
  {
   "cell_type": "markdown",
   "metadata": {},
   "source": [
    "## Antes de empezar con Selenium"
   ]
  },
  {
   "cell_type": "markdown",
   "metadata": {},
   "source": [
    "Descargar el/los drivers para controlar un nevagador.\n",
    "Durante este taller usaremos el driver de Chrome, aunque podremos utilizar otros:\n",
    "\n",
    "+ Chrome: <https://sites.google.com/a/chromium.org/chromedriver/downloads>\n",
    "+ Edge: <https://developer.microsoft.com/en-us/microsoft-edge/tools/webdriver/>\n",
    "+ Firefox: <https://github.com/mozilla/geckodriver/releases>\n",
    "+ Safari: <https://webkit.org/blog/6900/webdriver-support-in-safari-10/>"
   ]
  },
  {
   "cell_type": "code",
   "execution_count": null,
   "metadata": {},
   "outputs": [],
   "source": []
  },
  {
   "cell_type": "markdown",
   "metadata": {},
   "source": [
    "__Realizar una petición__\n",
    "\n",
    "La página web con la que vamos a jugar es:\n",
    "\"https://es.wikipedia.org/wiki/Anexo:Municipios_de_la_Comunidad_de_Madrid\"\n",
    " que contiene datos de la lista de municipios de la Comunidad de Madrid.\n",
    " \n",
    "Para acceder al contenido de una página web usamos el protocolo HTTP Request/Response. \n",
    "\n",
    "A continuación adjunto una función capaz de hacer una conexión HTTP para acceder a una página web y extraer información.\n",
    "\n"
   ]
  },
  {
   "cell_type": "code",
   "execution_count": 73,
   "metadata": {},
   "outputs": [
    {
     "ename": "ConnectionError",
     "evalue": "HTTPSConnectionPool(host='es.wikipedia.org', port=443): Max retries exceeded with url: /wiki/Anexo:Municipios_de_la_Comunidad_de_Madrid (Caused by NewConnectionError('<urllib3.connection.VerifiedHTTPSConnection object at 0x0000016C14E502E8>: Failed to establish a new connection: [Errno 11001] getaddrinfo failed',))",
     "output_type": "error",
     "traceback": [
      "\u001b[1;31m---------------------------------------------------------------------------\u001b[0m",
      "\u001b[1;31mgaierror\u001b[0m                                  Traceback (most recent call last)",
      "\u001b[1;32m~\\Anaconda3\\lib\\site-packages\\urllib3\\connection.py\u001b[0m in \u001b[0;36m_new_conn\u001b[1;34m(self)\u001b[0m\n\u001b[0;32m    170\u001b[0m             conn = connection.create_connection(\n\u001b[1;32m--> 171\u001b[1;33m                 (self._dns_host, self.port), self.timeout, **extra_kw)\n\u001b[0m\u001b[0;32m    172\u001b[0m \u001b[1;33m\u001b[0m\u001b[0m\n",
      "\u001b[1;32m~\\Anaconda3\\lib\\site-packages\\urllib3\\util\\connection.py\u001b[0m in \u001b[0;36mcreate_connection\u001b[1;34m(address, timeout, source_address, socket_options)\u001b[0m\n\u001b[0;32m     55\u001b[0m \u001b[1;33m\u001b[0m\u001b[0m\n\u001b[1;32m---> 56\u001b[1;33m     \u001b[1;32mfor\u001b[0m \u001b[0mres\u001b[0m \u001b[1;32min\u001b[0m \u001b[0msocket\u001b[0m\u001b[1;33m.\u001b[0m\u001b[0mgetaddrinfo\u001b[0m\u001b[1;33m(\u001b[0m\u001b[0mhost\u001b[0m\u001b[1;33m,\u001b[0m \u001b[0mport\u001b[0m\u001b[1;33m,\u001b[0m \u001b[0mfamily\u001b[0m\u001b[1;33m,\u001b[0m \u001b[0msocket\u001b[0m\u001b[1;33m.\u001b[0m\u001b[0mSOCK_STREAM\u001b[0m\u001b[1;33m)\u001b[0m\u001b[1;33m:\u001b[0m\u001b[1;33m\u001b[0m\u001b[0m\n\u001b[0m\u001b[0;32m     57\u001b[0m         \u001b[0maf\u001b[0m\u001b[1;33m,\u001b[0m \u001b[0msocktype\u001b[0m\u001b[1;33m,\u001b[0m \u001b[0mproto\u001b[0m\u001b[1;33m,\u001b[0m \u001b[0mcanonname\u001b[0m\u001b[1;33m,\u001b[0m \u001b[0msa\u001b[0m \u001b[1;33m=\u001b[0m \u001b[0mres\u001b[0m\u001b[1;33m\u001b[0m\u001b[0m\n",
      "\u001b[1;32m~\\Anaconda3\\lib\\socket.py\u001b[0m in \u001b[0;36mgetaddrinfo\u001b[1;34m(host, port, family, type, proto, flags)\u001b[0m\n\u001b[0;32m    744\u001b[0m     \u001b[0maddrlist\u001b[0m \u001b[1;33m=\u001b[0m \u001b[1;33m[\u001b[0m\u001b[1;33m]\u001b[0m\u001b[1;33m\u001b[0m\u001b[0m\n\u001b[1;32m--> 745\u001b[1;33m     \u001b[1;32mfor\u001b[0m \u001b[0mres\u001b[0m \u001b[1;32min\u001b[0m \u001b[0m_socket\u001b[0m\u001b[1;33m.\u001b[0m\u001b[0mgetaddrinfo\u001b[0m\u001b[1;33m(\u001b[0m\u001b[0mhost\u001b[0m\u001b[1;33m,\u001b[0m \u001b[0mport\u001b[0m\u001b[1;33m,\u001b[0m \u001b[0mfamily\u001b[0m\u001b[1;33m,\u001b[0m \u001b[0mtype\u001b[0m\u001b[1;33m,\u001b[0m \u001b[0mproto\u001b[0m\u001b[1;33m,\u001b[0m \u001b[0mflags\u001b[0m\u001b[1;33m)\u001b[0m\u001b[1;33m:\u001b[0m\u001b[1;33m\u001b[0m\u001b[0m\n\u001b[0m\u001b[0;32m    746\u001b[0m         \u001b[0maf\u001b[0m\u001b[1;33m,\u001b[0m \u001b[0msocktype\u001b[0m\u001b[1;33m,\u001b[0m \u001b[0mproto\u001b[0m\u001b[1;33m,\u001b[0m \u001b[0mcanonname\u001b[0m\u001b[1;33m,\u001b[0m \u001b[0msa\u001b[0m \u001b[1;33m=\u001b[0m \u001b[0mres\u001b[0m\u001b[1;33m\u001b[0m\u001b[0m\n",
      "\u001b[1;31mgaierror\u001b[0m: [Errno 11001] getaddrinfo failed",
      "\nDuring handling of the above exception, another exception occurred:\n",
      "\u001b[1;31mNewConnectionError\u001b[0m                        Traceback (most recent call last)",
      "\u001b[1;32m~\\Anaconda3\\lib\\site-packages\\urllib3\\connectionpool.py\u001b[0m in \u001b[0;36murlopen\u001b[1;34m(self, method, url, body, headers, retries, redirect, assert_same_host, timeout, pool_timeout, release_conn, chunked, body_pos, **response_kw)\u001b[0m\n\u001b[0;32m    599\u001b[0m                                                   \u001b[0mbody\u001b[0m\u001b[1;33m=\u001b[0m\u001b[0mbody\u001b[0m\u001b[1;33m,\u001b[0m \u001b[0mheaders\u001b[0m\u001b[1;33m=\u001b[0m\u001b[0mheaders\u001b[0m\u001b[1;33m,\u001b[0m\u001b[1;33m\u001b[0m\u001b[0m\n\u001b[1;32m--> 600\u001b[1;33m                                                   chunked=chunked)\n\u001b[0m\u001b[0;32m    601\u001b[0m \u001b[1;33m\u001b[0m\u001b[0m\n",
      "\u001b[1;32m~\\Anaconda3\\lib\\site-packages\\urllib3\\connectionpool.py\u001b[0m in \u001b[0;36m_make_request\u001b[1;34m(self, conn, method, url, timeout, chunked, **httplib_request_kw)\u001b[0m\n\u001b[0;32m    342\u001b[0m         \u001b[1;32mtry\u001b[0m\u001b[1;33m:\u001b[0m\u001b[1;33m\u001b[0m\u001b[0m\n\u001b[1;32m--> 343\u001b[1;33m             \u001b[0mself\u001b[0m\u001b[1;33m.\u001b[0m\u001b[0m_validate_conn\u001b[0m\u001b[1;33m(\u001b[0m\u001b[0mconn\u001b[0m\u001b[1;33m)\u001b[0m\u001b[1;33m\u001b[0m\u001b[0m\n\u001b[0m\u001b[0;32m    344\u001b[0m         \u001b[1;32mexcept\u001b[0m \u001b[1;33m(\u001b[0m\u001b[0mSocketTimeout\u001b[0m\u001b[1;33m,\u001b[0m \u001b[0mBaseSSLError\u001b[0m\u001b[1;33m)\u001b[0m \u001b[1;32mas\u001b[0m \u001b[0me\u001b[0m\u001b[1;33m:\u001b[0m\u001b[1;33m\u001b[0m\u001b[0m\n",
      "\u001b[1;32m~\\Anaconda3\\lib\\site-packages\\urllib3\\connectionpool.py\u001b[0m in \u001b[0;36m_validate_conn\u001b[1;34m(self, conn)\u001b[0m\n\u001b[0;32m    848\u001b[0m         \u001b[1;32mif\u001b[0m \u001b[1;32mnot\u001b[0m \u001b[0mgetattr\u001b[0m\u001b[1;33m(\u001b[0m\u001b[0mconn\u001b[0m\u001b[1;33m,\u001b[0m \u001b[1;34m'sock'\u001b[0m\u001b[1;33m,\u001b[0m \u001b[1;32mNone\u001b[0m\u001b[1;33m)\u001b[0m\u001b[1;33m:\u001b[0m  \u001b[1;31m# AppEngine might not have  `.sock`\u001b[0m\u001b[1;33m\u001b[0m\u001b[0m\n\u001b[1;32m--> 849\u001b[1;33m             \u001b[0mconn\u001b[0m\u001b[1;33m.\u001b[0m\u001b[0mconnect\u001b[0m\u001b[1;33m(\u001b[0m\u001b[1;33m)\u001b[0m\u001b[1;33m\u001b[0m\u001b[0m\n\u001b[0m\u001b[0;32m    850\u001b[0m \u001b[1;33m\u001b[0m\u001b[0m\n",
      "\u001b[1;32m~\\Anaconda3\\lib\\site-packages\\urllib3\\connection.py\u001b[0m in \u001b[0;36mconnect\u001b[1;34m(self)\u001b[0m\n\u001b[0;32m    313\u001b[0m         \u001b[1;31m# Add certificate verification\u001b[0m\u001b[1;33m\u001b[0m\u001b[1;33m\u001b[0m\u001b[0m\n\u001b[1;32m--> 314\u001b[1;33m         \u001b[0mconn\u001b[0m \u001b[1;33m=\u001b[0m \u001b[0mself\u001b[0m\u001b[1;33m.\u001b[0m\u001b[0m_new_conn\u001b[0m\u001b[1;33m(\u001b[0m\u001b[1;33m)\u001b[0m\u001b[1;33m\u001b[0m\u001b[0m\n\u001b[0m\u001b[0;32m    315\u001b[0m \u001b[1;33m\u001b[0m\u001b[0m\n",
      "\u001b[1;32m~\\Anaconda3\\lib\\site-packages\\urllib3\\connection.py\u001b[0m in \u001b[0;36m_new_conn\u001b[1;34m(self)\u001b[0m\n\u001b[0;32m    179\u001b[0m             raise NewConnectionError(\n\u001b[1;32m--> 180\u001b[1;33m                 self, \"Failed to establish a new connection: %s\" % e)\n\u001b[0m\u001b[0;32m    181\u001b[0m \u001b[1;33m\u001b[0m\u001b[0m\n",
      "\u001b[1;31mNewConnectionError\u001b[0m: <urllib3.connection.VerifiedHTTPSConnection object at 0x0000016C14E502E8>: Failed to establish a new connection: [Errno 11001] getaddrinfo failed",
      "\nDuring handling of the above exception, another exception occurred:\n",
      "\u001b[1;31mMaxRetryError\u001b[0m                             Traceback (most recent call last)",
      "\u001b[1;32m~\\Anaconda3\\lib\\site-packages\\requests\\adapters.py\u001b[0m in \u001b[0;36msend\u001b[1;34m(self, request, stream, timeout, verify, cert, proxies)\u001b[0m\n\u001b[0;32m    444\u001b[0m                     \u001b[0mretries\u001b[0m\u001b[1;33m=\u001b[0m\u001b[0mself\u001b[0m\u001b[1;33m.\u001b[0m\u001b[0mmax_retries\u001b[0m\u001b[1;33m,\u001b[0m\u001b[1;33m\u001b[0m\u001b[0m\n\u001b[1;32m--> 445\u001b[1;33m                     \u001b[0mtimeout\u001b[0m\u001b[1;33m=\u001b[0m\u001b[0mtimeout\u001b[0m\u001b[1;33m\u001b[0m\u001b[0m\n\u001b[0m\u001b[0;32m    446\u001b[0m                 )\n",
      "\u001b[1;32m~\\Anaconda3\\lib\\site-packages\\urllib3\\connectionpool.py\u001b[0m in \u001b[0;36murlopen\u001b[1;34m(self, method, url, body, headers, retries, redirect, assert_same_host, timeout, pool_timeout, release_conn, chunked, body_pos, **response_kw)\u001b[0m\n\u001b[0;32m    637\u001b[0m             retries = retries.increment(method, url, error=e, _pool=self,\n\u001b[1;32m--> 638\u001b[1;33m                                         _stacktrace=sys.exc_info()[2])\n\u001b[0m\u001b[0;32m    639\u001b[0m             \u001b[0mretries\u001b[0m\u001b[1;33m.\u001b[0m\u001b[0msleep\u001b[0m\u001b[1;33m(\u001b[0m\u001b[1;33m)\u001b[0m\u001b[1;33m\u001b[0m\u001b[0m\n",
      "\u001b[1;32m~\\Anaconda3\\lib\\site-packages\\urllib3\\util\\retry.py\u001b[0m in \u001b[0;36mincrement\u001b[1;34m(self, method, url, response, error, _pool, _stacktrace)\u001b[0m\n\u001b[0;32m    397\u001b[0m         \u001b[1;32mif\u001b[0m \u001b[0mnew_retry\u001b[0m\u001b[1;33m.\u001b[0m\u001b[0mis_exhausted\u001b[0m\u001b[1;33m(\u001b[0m\u001b[1;33m)\u001b[0m\u001b[1;33m:\u001b[0m\u001b[1;33m\u001b[0m\u001b[0m\n\u001b[1;32m--> 398\u001b[1;33m             \u001b[1;32mraise\u001b[0m \u001b[0mMaxRetryError\u001b[0m\u001b[1;33m(\u001b[0m\u001b[0m_pool\u001b[0m\u001b[1;33m,\u001b[0m \u001b[0murl\u001b[0m\u001b[1;33m,\u001b[0m \u001b[0merror\u001b[0m \u001b[1;32mor\u001b[0m \u001b[0mResponseError\u001b[0m\u001b[1;33m(\u001b[0m\u001b[0mcause\u001b[0m\u001b[1;33m)\u001b[0m\u001b[1;33m)\u001b[0m\u001b[1;33m\u001b[0m\u001b[0m\n\u001b[0m\u001b[0;32m    399\u001b[0m \u001b[1;33m\u001b[0m\u001b[0m\n",
      "\u001b[1;31mMaxRetryError\u001b[0m: HTTPSConnectionPool(host='es.wikipedia.org', port=443): Max retries exceeded with url: /wiki/Anexo:Municipios_de_la_Comunidad_de_Madrid (Caused by NewConnectionError('<urllib3.connection.VerifiedHTTPSConnection object at 0x0000016C14E502E8>: Failed to establish a new connection: [Errno 11001] getaddrinfo failed',))",
      "\nDuring handling of the above exception, another exception occurred:\n",
      "\u001b[1;31mConnectionError\u001b[0m                           Traceback (most recent call last)",
      "\u001b[1;32m<ipython-input-73-40fc19368c90>\u001b[0m in \u001b[0;36m<module>\u001b[1;34m\u001b[0m\n\u001b[0;32m      4\u001b[0m \u001b[1;33m\u001b[0m\u001b[0m\n\u001b[0;32m      5\u001b[0m \u001b[1;31m# Realizamos la petición HTTP a la web\u001b[0m\u001b[1;33m\u001b[0m\u001b[1;33m\u001b[0m\u001b[0m\n\u001b[1;32m----> 6\u001b[1;33m \u001b[0mresponse\u001b[0m \u001b[1;33m=\u001b[0m \u001b[0mrequests\u001b[0m\u001b[1;33m.\u001b[0m\u001b[0mget\u001b[0m\u001b[1;33m(\u001b[0m\u001b[0murl\u001b[0m\u001b[1;33m)\u001b[0m\u001b[1;33m\u001b[0m\u001b[0m\n\u001b[0m",
      "\u001b[1;32m~\\Anaconda3\\lib\\site-packages\\requests\\api.py\u001b[0m in \u001b[0;36mget\u001b[1;34m(url, params, **kwargs)\u001b[0m\n\u001b[0;32m     70\u001b[0m \u001b[1;33m\u001b[0m\u001b[0m\n\u001b[0;32m     71\u001b[0m     \u001b[0mkwargs\u001b[0m\u001b[1;33m.\u001b[0m\u001b[0msetdefault\u001b[0m\u001b[1;33m(\u001b[0m\u001b[1;34m'allow_redirects'\u001b[0m\u001b[1;33m,\u001b[0m \u001b[1;32mTrue\u001b[0m\u001b[1;33m)\u001b[0m\u001b[1;33m\u001b[0m\u001b[0m\n\u001b[1;32m---> 72\u001b[1;33m     \u001b[1;32mreturn\u001b[0m \u001b[0mrequest\u001b[0m\u001b[1;33m(\u001b[0m\u001b[1;34m'get'\u001b[0m\u001b[1;33m,\u001b[0m \u001b[0murl\u001b[0m\u001b[1;33m,\u001b[0m \u001b[0mparams\u001b[0m\u001b[1;33m=\u001b[0m\u001b[0mparams\u001b[0m\u001b[1;33m,\u001b[0m \u001b[1;33m**\u001b[0m\u001b[0mkwargs\u001b[0m\u001b[1;33m)\u001b[0m\u001b[1;33m\u001b[0m\u001b[0m\n\u001b[0m\u001b[0;32m     73\u001b[0m \u001b[1;33m\u001b[0m\u001b[0m\n\u001b[0;32m     74\u001b[0m \u001b[1;33m\u001b[0m\u001b[0m\n",
      "\u001b[1;32m~\\Anaconda3\\lib\\site-packages\\requests\\api.py\u001b[0m in \u001b[0;36mrequest\u001b[1;34m(method, url, **kwargs)\u001b[0m\n\u001b[0;32m     56\u001b[0m     \u001b[1;31m# cases, and look like a memory leak in others.\u001b[0m\u001b[1;33m\u001b[0m\u001b[1;33m\u001b[0m\u001b[0m\n\u001b[0;32m     57\u001b[0m     \u001b[1;32mwith\u001b[0m \u001b[0msessions\u001b[0m\u001b[1;33m.\u001b[0m\u001b[0mSession\u001b[0m\u001b[1;33m(\u001b[0m\u001b[1;33m)\u001b[0m \u001b[1;32mas\u001b[0m \u001b[0msession\u001b[0m\u001b[1;33m:\u001b[0m\u001b[1;33m\u001b[0m\u001b[0m\n\u001b[1;32m---> 58\u001b[1;33m         \u001b[1;32mreturn\u001b[0m \u001b[0msession\u001b[0m\u001b[1;33m.\u001b[0m\u001b[0mrequest\u001b[0m\u001b[1;33m(\u001b[0m\u001b[0mmethod\u001b[0m\u001b[1;33m=\u001b[0m\u001b[0mmethod\u001b[0m\u001b[1;33m,\u001b[0m \u001b[0murl\u001b[0m\u001b[1;33m=\u001b[0m\u001b[0murl\u001b[0m\u001b[1;33m,\u001b[0m \u001b[1;33m**\u001b[0m\u001b[0mkwargs\u001b[0m\u001b[1;33m)\u001b[0m\u001b[1;33m\u001b[0m\u001b[0m\n\u001b[0m\u001b[0;32m     59\u001b[0m \u001b[1;33m\u001b[0m\u001b[0m\n\u001b[0;32m     60\u001b[0m \u001b[1;33m\u001b[0m\u001b[0m\n",
      "\u001b[1;32m~\\Anaconda3\\lib\\site-packages\\requests\\sessions.py\u001b[0m in \u001b[0;36mrequest\u001b[1;34m(self, method, url, params, data, headers, cookies, files, auth, timeout, allow_redirects, proxies, hooks, stream, verify, cert, json)\u001b[0m\n\u001b[0;32m    510\u001b[0m         }\n\u001b[0;32m    511\u001b[0m         \u001b[0msend_kwargs\u001b[0m\u001b[1;33m.\u001b[0m\u001b[0mupdate\u001b[0m\u001b[1;33m(\u001b[0m\u001b[0msettings\u001b[0m\u001b[1;33m)\u001b[0m\u001b[1;33m\u001b[0m\u001b[0m\n\u001b[1;32m--> 512\u001b[1;33m         \u001b[0mresp\u001b[0m \u001b[1;33m=\u001b[0m \u001b[0mself\u001b[0m\u001b[1;33m.\u001b[0m\u001b[0msend\u001b[0m\u001b[1;33m(\u001b[0m\u001b[0mprep\u001b[0m\u001b[1;33m,\u001b[0m \u001b[1;33m**\u001b[0m\u001b[0msend_kwargs\u001b[0m\u001b[1;33m)\u001b[0m\u001b[1;33m\u001b[0m\u001b[0m\n\u001b[0m\u001b[0;32m    513\u001b[0m \u001b[1;33m\u001b[0m\u001b[0m\n\u001b[0;32m    514\u001b[0m         \u001b[1;32mreturn\u001b[0m \u001b[0mresp\u001b[0m\u001b[1;33m\u001b[0m\u001b[0m\n",
      "\u001b[1;32m~\\Anaconda3\\lib\\site-packages\\requests\\sessions.py\u001b[0m in \u001b[0;36msend\u001b[1;34m(self, request, **kwargs)\u001b[0m\n\u001b[0;32m    620\u001b[0m \u001b[1;33m\u001b[0m\u001b[0m\n\u001b[0;32m    621\u001b[0m         \u001b[1;31m# Send the request\u001b[0m\u001b[1;33m\u001b[0m\u001b[1;33m\u001b[0m\u001b[0m\n\u001b[1;32m--> 622\u001b[1;33m         \u001b[0mr\u001b[0m \u001b[1;33m=\u001b[0m \u001b[0madapter\u001b[0m\u001b[1;33m.\u001b[0m\u001b[0msend\u001b[0m\u001b[1;33m(\u001b[0m\u001b[0mrequest\u001b[0m\u001b[1;33m,\u001b[0m \u001b[1;33m**\u001b[0m\u001b[0mkwargs\u001b[0m\u001b[1;33m)\u001b[0m\u001b[1;33m\u001b[0m\u001b[0m\n\u001b[0m\u001b[0;32m    623\u001b[0m \u001b[1;33m\u001b[0m\u001b[0m\n\u001b[0;32m    624\u001b[0m         \u001b[1;31m# Total elapsed time of the request (approximately)\u001b[0m\u001b[1;33m\u001b[0m\u001b[1;33m\u001b[0m\u001b[0m\n",
      "\u001b[1;32m~\\Anaconda3\\lib\\site-packages\\requests\\adapters.py\u001b[0m in \u001b[0;36msend\u001b[1;34m(self, request, stream, timeout, verify, cert, proxies)\u001b[0m\n\u001b[0;32m    511\u001b[0m                 \u001b[1;32mraise\u001b[0m \u001b[0mSSLError\u001b[0m\u001b[1;33m(\u001b[0m\u001b[0me\u001b[0m\u001b[1;33m,\u001b[0m \u001b[0mrequest\u001b[0m\u001b[1;33m=\u001b[0m\u001b[0mrequest\u001b[0m\u001b[1;33m)\u001b[0m\u001b[1;33m\u001b[0m\u001b[0m\n\u001b[0;32m    512\u001b[0m \u001b[1;33m\u001b[0m\u001b[0m\n\u001b[1;32m--> 513\u001b[1;33m             \u001b[1;32mraise\u001b[0m \u001b[0mConnectionError\u001b[0m\u001b[1;33m(\u001b[0m\u001b[0me\u001b[0m\u001b[1;33m,\u001b[0m \u001b[0mrequest\u001b[0m\u001b[1;33m=\u001b[0m\u001b[0mrequest\u001b[0m\u001b[1;33m)\u001b[0m\u001b[1;33m\u001b[0m\u001b[0m\n\u001b[0m\u001b[0;32m    514\u001b[0m \u001b[1;33m\u001b[0m\u001b[0m\n\u001b[0;32m    515\u001b[0m         \u001b[1;32mexcept\u001b[0m \u001b[0mClosedPoolError\u001b[0m \u001b[1;32mas\u001b[0m \u001b[0me\u001b[0m\u001b[1;33m:\u001b[0m\u001b[1;33m\u001b[0m\u001b[0m\n",
      "\u001b[1;31mConnectionError\u001b[0m: HTTPSConnectionPool(host='es.wikipedia.org', port=443): Max retries exceeded with url: /wiki/Anexo:Municipios_de_la_Comunidad_de_Madrid (Caused by NewConnectionError('<urllib3.connection.VerifiedHTTPSConnection object at 0x0000016C14E502E8>: Failed to establish a new connection: [Errno 11001] getaddrinfo failed',))"
     ]
    }
   ],
   "source": [
    "import requests\n",
    "\n",
    "url = \"https://es.wikipedia.org/wiki/Anexo:Municipios_de_la_Comunidad_de_Madrid\"\n",
    "\n",
    "# Realizamos la petición HTTP a la web\n",
    "response = requests.get(url)"
   ]
  },
  {
   "cell_type": "markdown",
   "metadata": {},
   "source": [
    "* La función __get__ del módulo __request__ de Python abre una conexión con el servidor donde se encuentra la url (parámetro de  __get__) y manda la petición.\n",
    "\n",
    "* La respuesta del servidor se almacena en la variable (u objeto) _response_.\n",
    "\n",
    "* A partir del objeto _response_, que almacena muchos datos relacionados con la petición HTTP (cabeceras, cookies, etc.) obtenemos el __status_code__ y el __HTML__ (como un string) de la web. "
   ]
  },
  {
   "cell_type": "code",
   "execution_count": null,
   "metadata": {},
   "outputs": [],
   "source": [
    "response.status_code        # atributo status_code: nos indicará si la petición \n",
    "                            # ha tenido éxito"
   ]
  },
  {
   "cell_type": "code",
   "execution_count": null,
   "metadata": {},
   "outputs": [],
   "source": [
    "# Comprobamos que la petición nos devuelve un Status Code = 200\n",
    "statusCode = response.status_code \n",
    "\n",
    "if statusCode == 200:\n",
    "    print('La petición ha ido bien')\n",
    "else:\n",
    "    print('Problemas con la petición...')"
   ]
  },
  {
   "cell_type": "markdown",
   "metadata": {},
   "source": [
    "A partir del objeto __response__, que almacena muchos datos relacionados con la petición HTTP (cabeceras, cookies, etc.) obtenemos el __status_Code__ y el __HTML__ (como un string) de la web. "
   ]
  },
  {
   "cell_type": "code",
   "execution_count": null,
   "metadata": {},
   "outputs": [],
   "source": [
    "htmlText = response.text"
   ]
  },
  {
   "cell_type": "markdown",
   "metadata": {},
   "source": [
    "__Extraer información__\n",
    "\n",
    "A partir del string __htmlText__ que representa el código interno de la pagina web, parseamos la web para extraer la información que nos interesa.\n",
    "\n",
    "Mecanismos:\n",
    "\n",
    "* Usar expresiones regulares para localizar cadenas: esto puede ser muy laborioso, y pesado ...\n",
    "    \n",
    "    \n",
    "    \n",
    "* Usar alguna de las librerías de Python que permiten parsear el texto HTML de forma cómoda. \n",
    "    * __BeautifullSoup__ \n",
    "    * __Scrapy__\n",
    "    \n",
    "    \n",
    "__BeautifulSoup__  nos aporta los métodos necesarios (y muy bien optimizados) para obtener el contenido que hay entre las etiquetas HTML."
   ]
  },
  {
   "cell_type": "code",
   "execution_count": null,
   "metadata": {},
   "outputs": [],
   "source": [
    "from bs4 import BeautifulSoup\n",
    "\n",
    "# Pasamos el contenido HTML de la web a un objeto BeautifulSoup()\n",
    "soup = BeautifulSoup(htmlText, 'html.parser')\n",
    "soup"
   ]
  },
  {
   "cell_type": "markdown",
   "metadata": {},
   "source": [
    "### Recuperar los datos de la tabla"
   ]
  },
  {
   "cell_type": "markdown",
   "metadata": {},
   "source": [
    "Las tablas de HTML se definen con tres etiquetas: `<table>` para crear la tabla, `<tr>` para crear cada fila y `<td>` para crear cada columna."
   ]
  },
  {
   "cell_type": "code",
   "execution_count": null,
   "metadata": {},
   "outputs": [],
   "source": [
    "from IPython.display import HTML\n",
    "s = \"\"\"\n",
    "<table>\n",
    "    <tr>\n",
    "      <th><strong>Curso</strong></th>\n",
    "      <th><strong>Horas</strong></th>\n",
    "    </tr>\n",
    " \n",
    "    <tr>\n",
    "      <td>CSS</td>\n",
    "      <td>20</td>\n",
    "    </tr>\n",
    " \n",
    "    <tr>\n",
    "      <td>HTML</td>\n",
    "      <td>20</td>\n",
    "    </tr>\n",
    "</table>\"\"\"\n",
    "HTML(s)"
   ]
  },
  {
   "cell_type": "markdown",
   "metadata": {},
   "source": [
    "__Ejemplo:__ Queremos recuperar los datos de la tabla que aparece en la página  [Municipios Madrid](https://es.wikipedia.org/wiki/Anexo:Municipios_de_la_Comunidad_de_Madrid).\n",
    "\n",
    "En este caso utilizamos el método __find_all()__ que lo que hace es coger todos los fragmentos del HTML que correpondan a las etiquetas __tr__ y __td__."
   ]
  },
  {
   "cell_type": "code",
   "execution_count": null,
   "metadata": {},
   "outputs": [],
   "source": [
    "content = {}\n",
    "# Obtenemos cada una de las filas de la tabla \n",
    "rows = soup.find_all('tr')\n",
    "for r in rows:\n",
    "    #Seleccionamos las celdas de la tabla (td)\n",
    "    celdas=r.find_all('td')\n",
    "    # ignoramos la primera celda, que no tiene elementos td sino th (ver HTML de la página web)\n",
    "    if len(celdas)>0:\n",
    "        content[celdas[0].string] = { 'población': celdas[1].string,\n",
    "                                      'superficie': celdas[2].string,\n",
    "                                      'altitud': celdas[6].string }\n"
   ]
  },
  {
   "cell_type": "code",
   "execution_count": null,
   "metadata": {},
   "outputs": [],
   "source": [
    "content"
   ]
  },
  {
   "cell_type": "markdown",
   "metadata": {},
   "source": [
    "__Limpieza...__\n",
    "\n",
    "* En lugar de un separador de miles, se ha usado el punto \n",
    "* Otras veces aparece un caracter raro parecido a un espacio en blanco por lo que en la celda de habitantes hay que eliminar todos los caracteres que no sean números:\n",
    "`content.append([celdas[0].string, ''.join(c for c in celdas[1].string if c.isdigit())])`"
   ]
  },
  {
   "cell_type": "markdown",
   "metadata": {},
   "source": [
    "####  Ejercicio 1"
   ]
  },
  {
   "cell_type": "markdown",
   "metadata": {},
   "source": [
    "Proceder a limpiar los valores correctamente:"
   ]
  },
  {
   "cell_type": "code",
   "execution_count": null,
   "metadata": {},
   "outputs": [],
   "source": [
    "# Sol paso 1:\n",
    "for datos in content.values():\n",
    "    datos['superficie'] = datos['superficie'].replace(',', '.')\n",
    "    datos['superficie'] = float( datos['superficie'])"
   ]
  },
  {
   "cell_type": "code",
   "execution_count": null,
   "metadata": {},
   "outputs": [],
   "source": [
    "# Sol paso 2:\n",
    "for datos in content.values():\n",
    "    datos['población'] = ''.join(c for c in datos['población'] if c.isdigit())\n",
    "    "
   ]
  },
  {
   "cell_type": "markdown",
   "metadata": {},
   "source": [
    "####  Ejercicio 2"
   ]
  },
  {
   "cell_type": "markdown",
   "metadata": {},
   "source": [
    "Calcular la cantidad de población de toda la comunidad"
   ]
  },
  {
   "cell_type": "code",
   "execution_count": null,
   "metadata": {},
   "outputs": [],
   "source": [
    "# Sol:\n"
   ]
  },
  {
   "cell_type": "markdown",
   "metadata": {},
   "source": [
    "####  Ejercicio 3"
   ]
  },
  {
   "cell_type": "markdown",
   "metadata": {},
   "source": [
    "Obtener un listado de los municipios con altitud superior a 700 metros."
   ]
  },
  {
   "cell_type": "code",
   "execution_count": null,
   "metadata": {},
   "outputs": [],
   "source": [
    "# Sol:\n"
   ]
  }
 ],
 "metadata": {
  "anaconda-cloud": {},
  "kernelspec": {
   "display_name": "Python 3",
   "language": "python",
   "name": "python3"
  },
  "language_info": {
   "codemirror_mode": {
    "name": "ipython",
    "version": 3
   },
   "file_extension": ".py",
   "mimetype": "text/x-python",
   "name": "python",
   "nbconvert_exporter": "python",
   "pygments_lexer": "ipython3",
   "version": "3.6.6"
  },
  "toc": {
   "nav_menu": {
    "height": "123px",
    "width": "252px"
   },
   "number_sections": true,
   "sideBar": true,
   "skip_h1_title": false,
   "title_cell": "Table of Contents",
   "title_sidebar": "Contents",
   "toc_cell": false,
   "toc_position": {
    "height": "calc(100% - 180px)",
    "left": "10px",
    "top": "150px",
    "width": "276.64px"
   },
   "toc_section_display": true,
   "toc_window_display": true
  }
 },
 "nbformat": 4,
 "nbformat_minor": 1
}
