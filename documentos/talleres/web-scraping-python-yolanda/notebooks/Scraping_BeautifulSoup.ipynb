{
 "cells": [
  {
   "cell_type": "markdown",
   "metadata": {},
   "source": [
    "# Acceso a los datos de la web"
   ]
  },
  {
   "cell_type": "markdown",
   "metadata": {},
   "source": [
    "## ¿Qué es Web Scraping?"
   ]
  },
  {
   "cell_type": "markdown",
   "metadata": {},
   "source": [
    "El __Web Scraping__ (o Scraping) son un conjunto de técnicas que se utilizan para obtener de forma automática el contenido que hay en páginas web a través de su código HTML. \n",
    " \n",
    " > Es una opción cuando no hay API's para extraer datos de la web\n",
    "\n",
    "\n",
    "En este taller introduciremos cómo realizar scraping utilizando el lenguaje Python. Se pondrán en práctica dos técnicas de scraping diferentes y las ejemplificaremos usando las librerías __Beautiful Soup__ y __Selenium__. Para finalizar el taller, hablaremos sobre los problemas éticos que conlleva el web scraping.\n",
    "\n"
   ]
  },
  {
   "cell_type": "markdown",
   "metadata": {},
   "source": [
    "## Versiones"
   ]
  },
  {
   "cell_type": "markdown",
   "metadata": {},
   "source": [
    "En este taller utilizaremos:\n",
    "\n",
    "* Python 3.x.\n",
    "* La versión de BS4  es la 4.7.1"
   ]
  },
  {
   "cell_type": "markdown",
   "metadata": {},
   "source": [
    "## Documentos en formato HTML y XML"
   ]
  },
  {
   "cell_type": "markdown",
   "metadata": {},
   "source": [
    "Para sacar el máximo partido a esta técnica es recomendable estar familiarizado o familiarizarse con el formato interno de las páginas web, es decir, conocer el formato [HTML](https://en.wikipedia.org/wiki/HTML) y las reglas CSS.\n",
    "\n",
    "Para comenzar vamos a trabajar con una página web estática muy sencilla. Puedes verla pinchando en el siguiente enlace: [ejemplo.html](./HTML_examples/example.html)\n",
    "\n",
    "* Una página web tiene asociado un documento en formato HTML. \n",
    "* Los navegadores (FireFox, Chrome, etc. ) reciben un documento HTML y lo interpretan mostrando la página web. \n",
    "* Un documento HTML describe la estructura y la apariencia de la página web.\n",
    "\n",
    "![dimagen](./HTML_examples/html_web.png)\n",
    "\n",
    "\n",
    "Una característica que tienen los documentos HTML es que se pueden representar mediante una estructura en forma de árbol, donde cada elemento del árbol (tag) representa una parte del documento.\n",
    "\n",
    "* Cada elemento está contenido en otro elemento (su padre), excepto la raíz.\n",
    "* Cada elemento puede contener otros elementos (sus hijos)\n",
    "\n",
    "![dimagen](./HTML_examples/DOM.png)\n",
    "\n",
    "Como podemos ver en la figura, hay dos tipos de elementos: los elementos sombreados y los elementos de texto. Estos últimos nunca tienen hijos.\n",
    "\n",
    "Conocer la estructura del árbol nos ayudará a buscar y seleccionar la información que aparece en la página web."
   ]
  },
  {
   "cell_type": "markdown",
   "metadata": {},
   "source": [
    "## Recuperación de información en páginas estáticas "
   ]
  },
  {
   "cell_type": "markdown",
   "metadata": {},
   "source": [
    "### Beautiful Soup (BS4)"
   ]
  },
  {
   "cell_type": "markdown",
   "metadata": {},
   "source": [
    "BS4 es una librería para extraer información de documentos  HTML o XML. Permite navegar por el árbol del documento, extraer datos, modificar dicho árbol, etc. Aquí está la [documentación completa de Beautiful Soup 4.](https://www.crummy.com/software/BeautifulSoup/bs4/doc/).\n",
    "\n",
    "Para mostrar su funcionamiento con nuestra página de juguete, lo primero que tenemos que hacer es cargar el documento HTML asociado en memoria:"
   ]
  },
  {
   "cell_type": "code",
   "execution_count": 1,
   "metadata": {},
   "outputs": [],
   "source": [
    "from bs4 import BeautifulSoup\n",
    "import bs4"
   ]
  },
  {
   "cell_type": "code",
   "execution_count": 2,
   "metadata": {},
   "outputs": [
    {
     "data": {
      "text/plain": [
       "'4.7.1'"
      ]
     },
     "execution_count": 2,
     "metadata": {},
     "output_type": "execute_result"
    }
   ],
   "source": [
    "bs4.__version__"
   ]
  },
  {
   "cell_type": "code",
   "execution_count": 2,
   "metadata": {},
   "outputs": [],
   "source": [
    "# carga de la página web de prueba en memoria : (carga del documentos html)\n",
    "with open(\"./HTML_examples/example.html\") as html_doc:\n",
    "    soup = BeautifulSoup(html_doc)"
   ]
  },
  {
   "cell_type": "markdown",
   "metadata": {},
   "source": [
    "La variable `html_doc` contiene el texto interno de la página web. Buscar la información directamente en éste documento puede ser muy laborioso. Para ello utilizamos Beautiful Soup, que parsea dicho documento y lo transforma en un árbol de elementos (lo llamamos `soup`) con la estructura que hemos visto arriba. Además BS nos proporciona herramientas para localizar información de una manera sencilla y eficaz. \n",
    "\n",
    "Ejecutando el método `prettify()` podemos ver dicha estructura:"
   ]
  },
  {
   "cell_type": "code",
   "execution_count": 3,
   "metadata": {},
   "outputs": [
    {
     "name": "stdout",
     "output_type": "stream",
     "text": [
      "<html>\n",
      " <head>\n",
      "  <title>\n",
      "   Recipes\n",
      "  </title>\n",
      " </head>\n",
      " <body>\n",
      "  <h1>\n",
      "   Over 100 Quick and Easy Recipes\n",
      "  </h1>\n",
      "  <p class=\"intro\">\n",
      "   The majority of recipes we offer can be both prepared and cooked in 30 minutes or less, \n",
      "\t\tfrom start to finish. Examples are\n",
      "   <a class=\"breakfast desserts\" href=\"http://example.com/Breakfast \">\n",
      "    Breakfast\n",
      "   </a>\n",
      "   ,\n",
      "   <a class=\"salad\" href=\"http://example.com/salad\">\n",
      "    Salad Entrees\n",
      "   </a>\n",
      "   and\n",
      "   <a class=\"salad soups\" href=\"http://example.com/soup\">\n",
      "    Soups\n",
      "   </a>\n",
      "   .\n",
      "  </p>\n",
      "  <p class=\"listado\">\n",
      "  </p>\n",
      "  <h3 id=\"vbreakfast\">\n",
      "   Breakfast\n",
      "  </h3>\n",
      "  <p class=\"info\">\n",
      "   Try this easy-to-prepare version for a breakfast.\n",
      "  </p>\n",
      "  <ul class=\"vbreakfast\">\n",
      "   <li>\n",
      "    <a href=\"http://example.com/breakfast_huevos\">\n",
      "     10-Minute Huevos Rancheros\n",
      "    </a>\n",
      "   </li>\n",
      "   <li>\n",
      "    <a href=\"http://example.com/breakfast_bagel\">\n",
      "     Breakfast Bagel\n",
      "    </a>\n",
      "   </li>\n",
      "   <li>\n",
      "    <a href=\"http://example.com/breakfast_poached_huevos\">\n",
      "     Poached Huevos\n",
      "    </a>\n",
      "   </li>\n",
      "  </ul>\n",
      "  <h3 id=\"vsalad\">\n",
      "   Salad Entrees\n",
      "  </h3>\n",
      "  <p class=\"info\">\n",
      "   The spicy dressing with adds a little extra zest to this salads.\n",
      "  </p>\n",
      "  <ul class=\"vsalad\">\n",
      "   <li>\n",
      "    <a href=\"http://example.com/salad_1\">\n",
      "     Healthy Veggie Salad\n",
      "    </a>\n",
      "   </li>\n",
      "   <li>\n",
      "    <a href=\"http://example.com/cheese_salad_2\">\n",
      "     Mexican Cheese Salad\n",
      "    </a>\n",
      "   </li>\n",
      "  </ul>\n",
      "  <h3 id=\"vsalad\">\n",
      "   Traditional Salads\n",
      "  </h3>\n",
      "  <p class=\"info\">\n",
      "   Other principal salads.\n",
      "  </p>\n",
      "  <ul class=\"vsalad\">\n",
      "   <li>\n",
      "    <a href=\"http://example.com/veggie_salad_3\">\n",
      "     Healthy Veggie Salad\n",
      "    </a>\n",
      "   </li>\n",
      "   <li>\n",
      "    <a href=\"http://example.com/mex_salad_4\">\n",
      "     Mexican Cheese Salad\n",
      "    </a>\n",
      "   </li>\n",
      "  </ul>\n",
      "  <p class=\"table\">\n",
      "  </p>\n",
      "  <h4 id=\"resume\">\n",
      "   Resume:\n",
      "  </h4>\n",
      "  <table align=\"center\" border=\"1\" class=\"dataframe\">\n",
      "   <thead>\n",
      "    <tr style=\"text-align: center;\">\n",
      "     <th>\n",
      "      # Recipes\n",
      "     </th>\n",
      "     <th>\n",
      "      Type\n",
      "     </th>\n",
      "    </tr>\n",
      "   </thead>\n",
      "   <tbody>\n",
      "    <tr>\n",
      "     <td>\n",
      "      3\n",
      "     </td>\n",
      "     <td>\n",
      "      Breakfast\n",
      "     </td>\n",
      "    </tr>\n",
      "    <tr>\n",
      "     <td>\n",
      "      2\n",
      "     </td>\n",
      "     <td>\n",
      "      Salad Entrees\n",
      "     </td>\n",
      "    </tr>\n",
      "    <tr>\n",
      "     <td>\n",
      "      0\n",
      "     </td>\n",
      "     <td>\n",
      "      Soup\n",
      "     </td>\n",
      "    </tr>\n",
      "   </tbody>\n",
      "  </table>\n",
      "  <div style=\"text-align:center\">\n",
      "   <a href=\"http://www.whfoods.com\">\n",
      "    2001-2019 The George Mateljan Foundation, All Rights Reserved\n",
      "   </a>\n",
      "  </div>\n",
      " </body>\n",
      "</html>\n"
     ]
    }
   ],
   "source": [
    "print(soup.prettify())"
   ]
  },
  {
   "cell_type": "markdown",
   "metadata": {},
   "source": [
    "Para buscar información en la página web, es necesario conocer el nombre de los elementos ó __tag__ que contienen la información que buscamos. El acceso a los elementos del documento se realiza mediante __expresiones de ruta__. Estas expresiones son usandas habitualmente cuando navegamos por un árbol de directorios. \n",
    "\n",
    "Por ejemplo, para recuperar el título de la página web, utilizaremos la siguiente expresión:"
   ]
  },
  {
   "cell_type": "code",
   "execution_count": 4,
   "metadata": {},
   "outputs": [
    {
     "data": {
      "text/plain": [
       "<h1>Over 100 Quick and Easy Recipes</h1>"
      ]
     },
     "execution_count": 4,
     "metadata": {},
     "output_type": "execute_result"
    }
   ],
   "source": [
    "soup.h1        # navegamos por el árbol buscando un elemento con nombre 'h1'"
   ]
  },
  {
   "cell_type": "markdown",
   "metadata": {},
   "source": [
    "Si queremos buscar el primer párrafo de la página:"
   ]
  },
  {
   "cell_type": "code",
   "execution_count": 8,
   "metadata": {},
   "outputs": [
    {
     "data": {
      "text/plain": [
       "<p class=\"intro\">\n",
       "\t\tThe majority of recipes we offer can be both prepared and cooked in 30 minutes or less, \n",
       "\t\tfrom start to finish. Examples are\n",
       "\t\t<a class=\"breakfast desserts\" href=\"http://example.com/Breakfast \">Breakfast</a>, \n",
       "\t\t<a class=\"salad\" href=\"http://example.com/salad\">Salad Entrees</a> and\n",
       "\t\t<a class=\"salad soups\" href=\"http://example.com/soup\">Soups </a>.\t\t\n",
       "\t  </p>"
      ]
     },
     "execution_count": 8,
     "metadata": {},
     "output_type": "execute_result"
    }
   ],
   "source": [
    "soup.html.body.p"
   ]
  },
  {
   "cell_type": "markdown",
   "metadata": {},
   "source": [
    " <img src='./HTML_examples/primerP.png' style='width: 200px;'/>"
   ]
  },
  {
   "cell_type": "markdown",
   "metadata": {},
   "source": [
    "O directamente podemos escribir la siguietne instrucción:"
   ]
  },
  {
   "cell_type": "code",
   "execution_count": 9,
   "metadata": {},
   "outputs": [
    {
     "data": {
      "text/plain": [
       "<p class=\"intro\">\n",
       "\t\tThe majority of recipes we offer can be both prepared and cooked in 30 minutes or less, \n",
       "\t\tfrom start to finish. Examples are\n",
       "\t\t<a class=\"breakfast desserts\" href=\"http://example.com/Breakfast \">Breakfast</a>, \n",
       "\t\t<a class=\"salad\" href=\"http://example.com/salad\">Salad Entrees</a> and\n",
       "\t\t<a class=\"salad soups\" href=\"http://example.com/soup\">Soups </a>.\t\t\n",
       "\t  </p>"
      ]
     },
     "execution_count": 9,
     "metadata": {},
     "output_type": "execute_result"
    }
   ],
   "source": [
    "soup.p"
   ]
  },
  {
   "cell_type": "markdown",
   "metadata": {},
   "source": [
    "Para recuperar el título de la página, buscamos el tag `h1` y accedemos al texto:"
   ]
  },
  {
   "cell_type": "code",
   "execution_count": 11,
   "metadata": {},
   "outputs": [
    {
     "data": {
      "text/plain": [
       "'Over 100 Quick and Easy Recipes'"
      ]
     },
     "execution_count": 11,
     "metadata": {},
     "output_type": "execute_result"
    }
   ],
   "source": [
    "soup.h1.text"
   ]
  },
  {
   "cell_type": "markdown",
   "metadata": {},
   "source": [
    " <img src='./HTML_examples/titulo.png' style='width: 200px;'/>\n"
   ]
  },
  {
   "cell_type": "markdown",
   "metadata": {},
   "source": [
    "\n",
    "\n",
    "La búsqueda del primer enlace (elemento `a`, atributo `href`):\n",
    "\n",
    "\n",
    "<img src='./HTML_examples/attrs.png' style='width: 300px;'/>"
   ]
  },
  {
   "cell_type": "code",
   "execution_count": 12,
   "metadata": {},
   "outputs": [
    {
     "data": {
      "text/plain": [
       "{'href': 'http://example.com/Breakfast ', 'class': ['breakfast', 'desserts']}"
      ]
     },
     "execution_count": 12,
     "metadata": {},
     "output_type": "execute_result"
    }
   ],
   "source": [
    "# Lista de atributos\n",
    "soup.p.a.attrs"
   ]
  },
  {
   "cell_type": "code",
   "execution_count": 12,
   "metadata": {},
   "outputs": [
    {
     "data": {
      "text/plain": [
       "'http://example.com/Breakfast '"
      ]
     },
     "execution_count": 12,
     "metadata": {},
     "output_type": "execute_result"
    }
   ],
   "source": [
    "# valor del atributo 'href'\n",
    "soup.p.a['href']\n",
    "# Equivalente a soup.a.attrs['href']"
   ]
  },
  {
   "cell_type": "markdown",
   "metadata": {},
   "source": [
    "Podemos recuperar la lista de hijos de un elemento. \n",
    "\n",
    "    <ul class=\"vbreakfast\">\n",
    "       <li>\n",
    "            <a href=\"http://example.com/breakfast_huevos\">\n",
    "             10-Minute Huevos Rancheros\n",
    "            </a>\n",
    "       </li>\n",
    "       <li>\n",
    "            <a href=\"http://example.com/breakfast_bagel\">\n",
    "             Breakfast Bagel\n",
    "            </a>\n",
    "       </li>\n",
    "       <li>\n",
    "            <a href=\"http://example.com/breakfast_poached_huevos\">\n",
    "             Poached Huevos\n",
    "            </a>\n",
    "       </li>\n",
    "     </ul>\n",
    "\n",
    "\n",
    "Por ejemplo los hijos del elemento `ul`:"
   ]
  },
  {
   "cell_type": "code",
   "execution_count": 13,
   "metadata": {},
   "outputs": [
    {
     "data": {
      "text/plain": [
       "['\\n',\n",
       " <li><a href=\"http://example.com/breakfast_huevos\">10-Minute Huevos Rancheros</a></li>,\n",
       " '\\n',\n",
       " <li><a href=\"http://example.com/breakfast_bagel\">Breakfast Bagel</a></li>,\n",
       " '\\n',\n",
       " <li><a href=\"http://example.com/breakfast_poached_huevos\">Poached Huevos</a></li>,\n",
       " '\\n']"
      ]
     },
     "execution_count": 13,
     "metadata": {},
     "output_type": "execute_result"
    }
   ],
   "source": [
    "list(soup.ul.children)"
   ]
  },
  {
   "cell_type": "markdown",
   "metadata": {},
   "source": [
    "Realmente, la parte más interesante es la de encontrar todos los elementos de un determinado tipo (por ejemplo, tag `h3`), o que sean de una determinada clase (por ejemplo tag `p` con `class = listado`), o en el que alguno de sus atributos tenga algún valor especial. Esto lo haremos con los métodos:\n",
    "\n",
    "- `find`: encuentra el primer elemento\n",
    "- `find_all`: genera una lista con todos los elementos que cumplen la condición."
   ]
  },
  {
   "cell_type": "code",
   "execution_count": 14,
   "metadata": {},
   "outputs": [
    {
     "data": {
      "text/plain": [
       "[<h3 id=\"vbreakfast\">Breakfast</h3>,\n",
       " <h3 id=\"vsalad\">Salad Entrees</h3>,\n",
       " <h3 id=\"vsalad\">Traditional Salads</h3>]"
      ]
     },
     "execution_count": 14,
     "metadata": {},
     "output_type": "execute_result"
    }
   ],
   "source": [
    "soup.find_all('h3')"
   ]
  },
  {
   "cell_type": "markdown",
   "metadata": {},
   "source": [
    "También se pueden añadir filtros:"
   ]
  },
  {
   "cell_type": "code",
   "execution_count": 15,
   "metadata": {},
   "outputs": [
    {
     "data": {
      "text/plain": [
       "[<h3 id=\"vsalad\">Salad Entrees</h3>, <h3 id=\"vsalad\">Traditional Salads</h3>]"
      ]
     },
     "execution_count": 15,
     "metadata": {},
     "output_type": "execute_result"
    }
   ],
   "source": [
    "soup.find_all('h3', attrs = {'id':\"vsalad\"})"
   ]
  },
  {
   "cell_type": "markdown",
   "metadata": {},
   "source": [
    "Devuelve la lista vacía si no encuentra ningún elemento que cumpla las condiciones."
   ]
  },
  {
   "cell_type": "code",
   "execution_count": 17,
   "metadata": {},
   "outputs": [
    {
     "data": {
      "text/plain": [
       "[]"
      ]
     },
     "execution_count": 17,
     "metadata": {},
     "output_type": "execute_result"
    }
   ],
   "source": [
    "soup.find_all('h3', attrs = {'idsssss':\"vfoo\"})"
   ]
  },
  {
   "cell_type": "markdown",
   "metadata": {},
   "source": [
    "__Ejercicio:__\n",
    "\n",
    "Extraer todos los enlaces que aparecen en el documento. Buscamos el valor del atributo `href` de los elementos con tag `a`."
   ]
  },
  {
   "cell_type": "code",
   "execution_count": 18,
   "metadata": {
    "scrolled": true
   },
   "outputs": [
    {
     "name": "stdout",
     "output_type": "stream",
     "text": [
      "http://example.com/Breakfast \n",
      "http://example.com/salad\n",
      "http://example.com/soup\n",
      "http://example.com/breakfast_huevos\n",
      "http://example.com/breakfast_bagel\n",
      "http://example.com/breakfast_poached_huevos\n",
      "http://example.com/salad_1\n",
      "http://example.com/cheese_salad_2\n",
      "http://example.com/veggie_salad_3\n",
      "http://example.com/mex_salad_4\n",
      "http://www.whfoods.com\n"
     ]
    }
   ],
   "source": [
    "# Sol:\n",
    "a_elem = soup.find_all('a')\n",
    "for elem in a_elem:\n",
    "    print(elem['href'])"
   ]
  },
  {
   "cell_type": "markdown",
   "metadata": {},
   "source": [
    "Aún más interesante...\n",
    "\n",
    "   Utilizar la función `select` (o `select_one`, si solo nos queremos quedar con el primero), que recibe como parámetro un selector CSS para decidir con qué elementos me quiero quedar. Por ejemplo, si queremos seleccionar los elementos con tag `p` de la clase `info`:\n",
    "   \n",
    "       <p class = 'listado'>\n",
    "\t\t\t...\n",
    "\t\t\t<p class = \"info\">Try this easy-to-prepare version for a breakfast.</p>\n",
    "\t\t\t...\n",
    "\t\t\t<p class = \"info\">The spicy dressing with adds a little extra zest to this salads.</p>\n",
    "\t\t\t...\n",
    "\t\t\t<p class = \"info\">Other principal salads.</p>\n",
    "\t\t\t...\n",
    "\t\t</p>"
   ]
  },
  {
   "cell_type": "code",
   "execution_count": 23,
   "metadata": {},
   "outputs": [
    {
     "name": "stdout",
     "output_type": "stream",
     "text": [
      "Try this easy-to-prepare version for a breakfast.\n",
      "The spicy dressing with adds a little extra zest to this salads.\n",
      "Other principal salads.\n"
     ]
    }
   ],
   "source": [
    "# Selección de elementos por selector 'class' \n",
    "infos = soup.select('p.info')\n",
    "for t in infos:\n",
    "    print (t.text)"
   ]
  },
  {
   "cell_type": "markdown",
   "metadata": {},
   "source": [
    "Para seleccionar los elementos con taga `a` hijos de eleemntos con tag `ul` de la clase `vsalad`:\n",
    "\n",
    "    <ul class=\"vsalad\">\n",
    "        <li>\n",
    "            <a href=\"http://example.com/veggie_salad_3\">\n",
    "                 Healthy Veggie Salad\n",
    "            </a>\n",
    "        </li>\n",
    "        <li>\n",
    "            <a href=\"http://example.com/mex_salad_4\">\n",
    "             Mexican Cheese Salad\n",
    "            </a>\n",
    "        </li>\n",
    "    </ul>"
   ]
  },
  {
   "cell_type": "code",
   "execution_count": 25,
   "metadata": {},
   "outputs": [
    {
     "data": {
      "text/plain": [
       "[<a href=\"http://example.com/salad_1\">Healthy Veggie Salad</a>,\n",
       " <a href=\"http://example.com/cheese_salad_2\">Mexican Cheese Salad</a>,\n",
       " <a href=\"http://example.com/veggie_salad_3\">Healthy Veggie Salad</a>,\n",
       " <a href=\"http://example.com/mex_salad_4\">Mexican Cheese Salad</a>]"
      ]
     },
     "execution_count": 25,
     "metadata": {},
     "output_type": "execute_result"
    }
   ],
   "source": [
    "# Selección de elementos por selector 'class' \n",
    "links = soup.select('ul.vsalad  a' )\n",
    "links"
   ]
  },
  {
   "cell_type": "code",
   "execution_count": 26,
   "metadata": {},
   "outputs": [
    {
     "name": "stdout",
     "output_type": "stream",
     "text": [
      "http://example.com/salad_1\n",
      "http://example.com/cheese_salad_2\n",
      "http://example.com/veggie_salad_3\n",
      "http://example.com/mex_salad_4\n"
     ]
    }
   ],
   "source": [
    "for l in links:\n",
    "    print(l['href'])"
   ]
  },
  {
   "cell_type": "markdown",
   "metadata": {},
   "source": [
    "## BS4 y request"
   ]
  },
  {
   "cell_type": "markdown",
   "metadata": {},
   "source": [
    "Una vez introducida la librería Beutiful Soup y parte de su funcionalidad, vamos a ver su funcionamiento con una página web con algo más de entidad. Para ello vamos a ver cómo descargar una página web y posteriormente cómo extraer información. Combinamos por tanto dos técnicas: descarga (con la librería `request`) y búsqueda (con BS4).\n",
    "\n",
    "En primer lugar importamos las librerías:"
   ]
  },
  {
   "cell_type": "code",
   "execution_count": 27,
   "metadata": {},
   "outputs": [],
   "source": [
    "from bs4 import BeautifulSoup\n",
    "import requests"
   ]
  },
  {
   "cell_type": "markdown",
   "metadata": {},
   "source": [
    "Escribimos la función que permite descargar la página web y crear el objeto `soup` de BS4 que contiene el documento HTML."
   ]
  },
  {
   "cell_type": "code",
   "execution_count": 30,
   "metadata": {},
   "outputs": [],
   "source": [
    "def descargarPagina(url):\n",
    "    \"\"\"\n",
    "    Carga el contenido de una URL usando la librería request\n",
    "    Devuelve:\n",
    "       - (True, el documento) :  si todo va bien\n",
    "       - (False, mensaje de error):   en caso de no poder cargar la página\n",
    "    \"\"\"\n",
    "    # Realizamos la petición a la web\n",
    "    req = requests.get(url)\n",
    "\n",
    "    # Comprobamos que la petición nos devuelve un Status Code = 200\n",
    "    statusCode = req.status_code\n",
    "    # la petición ha ido bien\n",
    "    if statusCode == 200:   \n",
    "\n",
    "        # Pasamos el contenido HTML de la web a un objeto BeautifulSoup()\n",
    "        soup = BeautifulSoup(req.text,\"lxml\")\n",
    "        return True, soup\n",
    "    \n",
    "    # la petición ha ido mal     \n",
    "    else:   \n",
    "        return False, \"ERROR {}\".format(statusCode)"
   ]
  },
  {
   "cell_type": "markdown",
   "metadata": {},
   "source": [
    " <img src='./HTML_examples/peticion.png' style='width: 300px;'/>"
   ]
  },
  {
   "cell_type": "markdown",
   "metadata": {},
   "source": [
    "### Ejemplo 1: Aslan Blue Planet"
   ]
  },
  {
   "cell_type": "markdown",
   "metadata": {},
   "source": [
    "Vamos a probar cómo hacer scraping con BS4 utilizando el sitio web [Aslan Blue Planet](https://aslan-blue-planet.es/tienda-vegana/). La estructura de esta página es bastante más compleja, aunque utilizando las __herramientas de desarrollador__ del navegador podemos visualizar y navegar por dicha estructura."
   ]
  },
  {
   "cell_type": "code",
   "execution_count": 31,
   "metadata": {},
   "outputs": [],
   "source": [
    "url = 'https://aslan-blue-planet.es/tienda-vegana/'"
   ]
  },
  {
   "cell_type": "markdown",
   "metadata": {},
   "source": [
    "#### Información de la página de un producto concreto"
   ]
  },
  {
   "cell_type": "markdown",
   "metadata": {},
   "source": [
    "\n",
    "\n",
    "Entramos en la página de un producto concreto, para ver cómo está estructurada. Posteriormente analizamos el catálogo completo.\n",
    "\n",
    "Por ejemplo: https://aslan-blue-planet.es/tienda/vego-bio-chocolate-blanco-con-almendras/\n",
    "\n",
    "<img src='./HTML_examples/almendras.png' style='width: 300px;'/>"
   ]
  },
  {
   "cell_type": "code",
   "execution_count": 41,
   "metadata": {},
   "outputs": [
    {
     "data": {
      "text/plain": [
       "True"
      ]
     },
     "execution_count": 41,
     "metadata": {},
     "output_type": "execute_result"
    }
   ],
   "source": [
    "url_1 = 'https://aslan-blue-planet.es/tienda/vego-bio-chocolate-blanco-con-almendras/'\n",
    "exito, soup = descargarPagina(url_1)\n",
    "exito"
   ]
  },
  {
   "cell_type": "markdown",
   "metadata": {},
   "source": [
    "Si queremos  información del producto, como por ejemplo el precio, el nombre, ....\n",
    "\n",
    "Si inspeccionamos el elemento vemos que tiene el siguiente aspecto:"
   ]
  },
  {
   "cell_type": "markdown",
   "metadata": {},
   "source": [
    "\n",
    "\t<h1 itemprop=\"name\" class=\"product_title entry-title\">VEGO Bio Chocolate Blanco con Almendras</h1>\n",
    "\t...\n",
    "    <p class=\"price\"><span class=\"amount\">2.39&nbsp;€</span></p>\n",
    "    ...  \n",
    "    "
   ]
  },
  {
   "cell_type": "markdown",
   "metadata": {},
   "source": [
    "Seleccionamos el nombre del producto"
   ]
  },
  {
   "cell_type": "code",
   "execution_count": 61,
   "metadata": {},
   "outputs": [
    {
     "data": {
      "text/plain": [
       "'VEGO Bio Chocolate Blanco con Almendras'"
      ]
     },
     "execution_count": 61,
     "metadata": {},
     "output_type": "execute_result"
    }
   ],
   "source": [
    "m = soup.select_one(\"h1.product_title \").text\n",
    "m"
   ]
  },
  {
   "cell_type": "markdown",
   "metadata": {},
   "source": [
    "Seleccionamos el precio del producto"
   ]
  },
  {
   "cell_type": "code",
   "execution_count": 62,
   "metadata": {},
   "outputs": [
    {
     "name": "stdout",
     "output_type": "stream",
     "text": [
      "2.39 €\n"
     ]
    }
   ],
   "source": [
    "datos_precio = soup.select_one('p.price span.amount')\n",
    "if datos_precio : \n",
    "    print(datos_precio.text)"
   ]
  },
  {
   "cell_type": "code",
   "execution_count": 63,
   "metadata": {},
   "outputs": [
    {
     "data": {
      "text/plain": [
       "'2.39\\xa0€'"
      ]
     },
     "execution_count": 63,
     "metadata": {},
     "output_type": "execute_result"
    }
   ],
   "source": [
    "datos_precio.text"
   ]
  },
  {
   "cell_type": "markdown",
   "metadata": {},
   "source": [
    "Podemos separar la moneda:\n",
    "    "
   ]
  },
  {
   "cell_type": "code",
   "execution_count": 64,
   "metadata": {},
   "outputs": [
    {
     "data": {
      "text/plain": [
       "'2.39€'"
      ]
     },
     "execution_count": 64,
     "metadata": {},
     "output_type": "execute_result"
    }
   ],
   "source": [
    "datos_precio.text.replace('\\xa0', '')"
   ]
  },
  {
   "cell_type": "code",
   "execution_count": 65,
   "metadata": {},
   "outputs": [
    {
     "data": {
      "text/plain": [
       "'€'"
      ]
     },
     "execution_count": 65,
     "metadata": {},
     "output_type": "execute_result"
    }
   ],
   "source": [
    "datos_precio.text.replace('\\xa0', '')[-1]"
   ]
  },
  {
   "cell_type": "code",
   "execution_count": 66,
   "metadata": {},
   "outputs": [
    {
     "data": {
      "text/plain": [
       "'2.39'"
      ]
     },
     "execution_count": 66,
     "metadata": {},
     "output_type": "execute_result"
    }
   ],
   "source": [
    "datos_precio.text.replace('\\xa0', '')[:-1]"
   ]
  },
  {
   "cell_type": "markdown",
   "metadata": {},
   "source": [
    "Si queremos más información del producto, como por ejemplo los ingredientes, procedencia, etc..\n",
    "La estructura es algo como:\n",
    "\n",
    "      <div class=\"panel entry-content wc-tab\" id=\"tab-description\" style=\"display: block;\">\n",
    "\n",
    "            <p> ...<\\p>\n",
    "            \n",
    "            <p><strong>Ingredientes</strong>: Azúcar de caña*, manteca de cacao* (26%), inulina*, \n",
    "             sal marina, vainilla en polvo*<strong> ( *cultivo orgánico controlado/ Certif. DE-OKO-003)<br>\n",
    "                </strong>\n",
    "            </p>\n",
    "            ...\n",
    "       </div>\n",
    "\n",
    " "
   ]
  },
  {
   "cell_type": "code",
   "execution_count": 67,
   "metadata": {},
   "outputs": [
    {
     "data": {
      "text/plain": [
       "'  Ingredientes: Azúcar de caña*, manteca de cacao* (26%), inulina*, sal marina, vainilla en polvo* ( *cultivo orgánico controlado/ Certif. DE-OKO-003) Alérgenos: Puede contener trazas de leche y avellanas. SIN GLUTEN. Valor nutritivo por 100 g:\\nEnergía 2350 KJ / 567 kcal\\nGrasas  41 g de las cuáles saturadas 17 g\\nCarbohidratos 35 g de los cuáles azúcar  35 g\\nProteína 6 g\\nSal  0,22 g Contenido: 50g Procedencia: Alemania Conservación: en lugar fresco y seco.'"
      ]
     },
     "execution_count": 67,
     "metadata": {},
     "output_type": "execute_result"
    }
   ],
   "source": [
    "producto = soup.select_one('div.entry-content p') \n",
    "detalle = producto.findNextSiblings('p')\n",
    "info = ''\n",
    "for p in detalle:\n",
    "    info = info + ' '+  p.text.strip().replace('\\xa0' , ' ')\n",
    "info"
   ]
  },
  {
   "cell_type": "markdown",
   "metadata": {},
   "source": [
    "Ahora podemos escribir una función que recoja toda la información de un producto:"
   ]
  },
  {
   "cell_type": "code",
   "execution_count": 71,
   "metadata": {},
   "outputs": [],
   "source": [
    "def info_producto(soup):\n",
    "    producto = soup.select_one('div.entry-summary')   \n",
    "    \n",
    "    # nombre\n",
    "    nombre = producto.select_one(\"h1.product_title \").text\n",
    "    # datos precio\n",
    "    datos_precio = producto.select_one('p.price span.amount')\n",
    "    if datos_precio : \n",
    "        datos_precio = datos_precio.text\n",
    "        moneda = datos_precio.replace('\\xa0', '')[-1]\n",
    "        importe = datos_precio.replace('\\xa0', '')[:-1]\n",
    "    else:\n",
    "        moneda =''\n",
    "        importe = 0\n",
    "    # +Info\n",
    "    p = producto.select_one('div.entry-content p')  \n",
    "    detalle = p.findNextSiblings('p')\n",
    "    info = ''\n",
    "    for p in detalle:\n",
    "        info = info + ' '+  p.text.strip()\n",
    "    \n",
    "    datos = {'nombre' : nombre, 'precio': importe, 'moneda' : moneda, 'masInfo': info}\n",
    "    \n",
    "    return datos"
   ]
  },
  {
   "cell_type": "code",
   "execution_count": 73,
   "metadata": {},
   "outputs": [
    {
     "data": {
      "text/plain": [
       "{'nombre': 'VEGO Bio Chocolate Blanco con Almendras',\n",
       " 'precio': '2.39',\n",
       " 'moneda': '€',\n",
       " 'masInfo': '  Ingredientes: Azúcar de caña*, manteca de cacao* (26%), inulina*, sal marina, vainilla en polvo* ( *cultivo orgánico controlado/ Certif. DE-OKO-003) Alérgenos: Puede contener trazas de leche y avellanas. SIN GLUTEN. Valor nutritivo por 100 g:\\nEnergía 2350 KJ / 567 kcal\\nGrasas\\xa0 41 g de las cuáles saturadas 17 g\\nCarbohidratos 35 g de los cuáles azúcar\\xa0 35 g\\nProteína 6 g\\nSal\\xa0 0,22 g Contenido: 50g Procedencia: Alemania Conservación: en lugar fresco y seco.'}"
      ]
     },
     "execution_count": 73,
     "metadata": {},
     "output_type": "execute_result"
    }
   ],
   "source": [
    "url_1 = 'https://aslan-blue-planet.es/tienda/vego-bio-chocolate-blanco-con-almendras/'\n",
    "exito, soup = descargarPagina(url_1)\n",
    "if exito:\n",
    "    p = info_producto(soup)\n",
    "    \n",
    "p"
   ]
  },
  {
   "cell_type": "markdown",
   "metadata": {},
   "source": [
    "#### Catálogo completo"
   ]
  },
  {
   "cell_type": "markdown",
   "metadata": {},
   "source": [
    "Una vez que sabemos cómo procesar un producto vamos a intentar obtener el catálogo completo. La estructura de cada uno de los productos de la página es la que ya hemos visto en el punto anterior. \n",
    "\n",
    "Por defecto se muestran 24 productos por página y hay un botón al final de la página para avanzar. Sin embargo, si nos fijamos un poco veremos que cada vez que pulsamos en el botón nos lleva a una nueva página con una URL del tipo https://aslan-blue-planet.es/tienda-vegana/page/X/. \n",
    "\n",
    "\n",
    "Además, podemos ver que no se lanza ningún error 404 si llegamos al final del catálogo, sino que se carga una página inicial https://aslan-blue-planet.es/\n",
    "\n",
    "De acuerdo a esto, vamos a ver cómo obtener los enlaces de cada uno de los productos y cómo crear una lista con la información de todos los productos:\n",
    "\n",
    "Cada producto tiene esta estructura:\n",
    "\n",
    "    <div class=\"ci-product\">\n",
    "    ...\n",
    "\t\t<a class=\"ci-product-img-container\" \n",
    "           href=\"https://aslan-blue-planet.es/tienda/vego-bio-chocolate-blanco-con-almendras/\">\n",
    "\t\t\t<img width=\"240\" heigh...>\n",
    "        </a>\n",
    "\t</div>"
   ]
  },
  {
   "cell_type": "code",
   "execution_count": 74,
   "metadata": {},
   "outputs": [],
   "source": [
    "def obtener_enlaces_productos(soup):\n",
    "    # Lista de enlaces \n",
    "    enlaces = []\n",
    "    # Procesamos el HTML descargado\n",
    "    all_productos = soup.select('div.ci-product')    \n",
    "    for producto in all_productos:\n",
    "        enlace = producto.select_one('a[href]')['href']\n",
    "        enlaces.append(enlace)\n",
    "    return enlaces  "
   ]
  },
  {
   "cell_type": "code",
   "execution_count": 75,
   "metadata": {},
   "outputs": [
    {
     "data": {
      "text/plain": [
       "24"
      ]
     },
     "execution_count": 75,
     "metadata": {},
     "output_type": "execute_result"
    }
   ],
   "source": [
    "url = 'https://aslan-blue-planet.es/tienda-vegana/'\n",
    "exito, soup = descargarPagina(url)\n",
    "if exito:\n",
    "    lista_enlaces = obtener_enlaces_productos(soup)\n",
    "    \n",
    "len(lista_enlaces)"
   ]
  },
  {
   "cell_type": "code",
   "execution_count": 76,
   "metadata": {},
   "outputs": [
    {
     "data": {
      "text/plain": [
       "['https://aslan-blue-planet.es/tienda/vego-bio-chocolate-blanco-con-almendras/',\n",
       " 'https://aslan-blue-planet.es/tienda/huevos-de-chocolate-100-grs/',\n",
       " 'https://aslan-blue-planet.es/tienda/conejo-de-chocolate-vegano-100-grs/',\n",
       " 'https://aslan-blue-planet.es/tienda/conejo-de-chocolate-vegano-blanco-100-grs/',\n",
       " 'https://aslan-blue-planet.es/tienda/conejos-de-chocolate-en-piruletas-3-uds-2/',\n",
       " 'https://aslan-blue-planet.es/tienda/conejos-de-chocolate-blanco-en-piruletas-3-uds/',\n",
       " 'https://aslan-blue-planet.es/tienda/sim-sala-mi-snack-3x35g/',\n",
       " 'https://aslan-blue-planet.es/tienda/barritas-de-choco-latte/',\n",
       " 'https://aslan-blue-planet.es/tienda/chocofresa/',\n",
       " 'https://aslan-blue-planet.es/tienda/bacon-vegano-bio-60g/',\n",
       " 'https://aslan-blue-planet.es/tienda/bacon-vegano-meetlyke-60g-2/',\n",
       " 'https://aslan-blue-planet.es/tienda/bloque-violife-sabor-mozzarella-400g/',\n",
       " 'https://aslan-blue-planet.es/tienda/cappelletti-bio-con-tofu-ahumado-vantastic-foods/',\n",
       " 'https://aslan-blue-planet.es/tienda/cappelletti-con-boletus-y-finas-hierbas/',\n",
       " 'https://aslan-blue-planet.es/tienda/tortellini-con-verduras/',\n",
       " 'https://aslan-blue-planet.es/tienda/caviart-sabor-trufa-100g/',\n",
       " 'https://aslan-blue-planet.es/tienda/cavi-art-100g-clasico/',\n",
       " 'https://aslan-blue-planet.es/tienda/oat-king-barrita-energetica-de-pastel-de-manzana-95g/',\n",
       " 'https://aslan-blue-planet.es/tienda/bonvita-barrita-bio-de-coco-con-chocolate-negro/',\n",
       " 'https://aslan-blue-planet.es/tienda/choco-bites-crunchy-bio-40g/',\n",
       " 'https://aslan-blue-planet.es/tienda/choco-bites-coco-bio-50g/',\n",
       " 'https://aslan-blue-planet.es/tienda/uptons-naturals-jackfruit-sabor-bbq-200g/',\n",
       " 'https://aslan-blue-planet.es/tienda/uptons-naturals-jackfruit-original-200g/',\n",
       " 'https://aslan-blue-planet.es/tienda/veggie-kebab-bio-vantastic-foods-200-grs/']"
      ]
     },
     "execution_count": 76,
     "metadata": {},
     "output_type": "execute_result"
    }
   ],
   "source": [
    "lista_enlaces"
   ]
  },
  {
   "cell_type": "markdown",
   "metadata": {},
   "source": [
    "La url de las páginas siguientes se construyen de la siguiente manera:"
   ]
  },
  {
   "cell_type": "code",
   "execution_count": 77,
   "metadata": {},
   "outputs": [
    {
     "data": {
      "text/plain": [
       "'https://aslan-blue-planet.es/tienda-vegana/page/2/'"
      ]
     },
     "execution_count": 77,
     "metadata": {},
     "output_type": "execute_result"
    }
   ],
   "source": [
    "i = 2\n",
    "url_sig = 'https://aslan-blue-planet.es/tienda-vegana/page/{}/'.format(i)\n",
    "url_sig"
   ]
  },
  {
   "cell_type": "markdown",
   "metadata": {},
   "source": [
    "Como no sabemos cuántas páginas hay, procesaremos hasta recibir un código de retorno distinto de 200 o cuando la página es la página inicial."
   ]
  },
  {
   "cell_type": "code",
   "execution_count": 78,
   "metadata": {},
   "outputs": [],
   "source": [
    "url = 'https://aslan-blue-planet.es/tienda-vegana/'\n",
    "def procesar_catalogo(url):\n",
    "    datos = []\n",
    "    exito, soup = descargarPagina(url)\n",
    "    i = 1\n",
    "    while exito:\n",
    "        enlaces = obtener_enlaces_productos(soup)\n",
    "        # Procesamos cada producto\n",
    "        for url_p in enlaces:\n",
    "            exito, soup_p = descargarPagina(url_p)\n",
    "            datos_producto = info_producto(soup_p)\n",
    "            datos.append (datos_producto)\n",
    "            \n",
    "        # siguiente página \n",
    "        i = i + 1          \n",
    "        siguiente_url = 'https://aslan-blue-planet.es/tienda-vegana/page/{}/'.format(i)\n",
    "        exito, soup = descargarPagina(siguiente_url)\n",
    "        # comprobar que no es la última\n",
    "        if exito and soup.select_one('body.home'):\n",
    "            exito = False\n",
    "        print('Procesando página: ' + str(i) )     \n",
    "    \n",
    "    return datos, i"
   ]
  },
  {
   "cell_type": "code",
   "execution_count": 79,
   "metadata": {},
   "outputs": [
    {
     "name": "stdout",
     "output_type": "stream",
     "text": [
      "2\n",
      "3\n",
      "4\n",
      "5\n",
      "6\n",
      "7\n",
      "8\n",
      "9\n",
      "10\n",
      "11\n",
      "12\n",
      "13\n"
     ]
    }
   ],
   "source": [
    "datos, i = procesar_catalogo(url)"
   ]
  },
  {
   "cell_type": "code",
   "execution_count": null,
   "metadata": {},
   "outputs": [],
   "source": [
    "datos"
   ]
  },
  {
   "cell_type": "markdown",
   "metadata": {},
   "source": [
    "Finalmente cargaremos todos los datos en un dataframe de pandas para procesarlo, extraer información y guardarlo a un fichero excel."
   ]
  },
  {
   "cell_type": "code",
   "execution_count": null,
   "metadata": {},
   "outputs": [],
   "source": [
    "import pandas as pd\n",
    "\n",
    "tabla = pd.DataFrame(datos)\n",
    "tabla.to_excel('productos.xlsx', index = False)\n",
    "tabla.head()"
   ]
  },
  {
   "cell_type": "markdown",
   "metadata": {},
   "source": [
    "-----"
   ]
  }
 ],
 "metadata": {
  "anaconda-cloud": {},
  "kernelspec": {
   "display_name": "Python 3",
   "language": "python",
   "name": "python3"
  },
  "language_info": {
   "codemirror_mode": {
    "name": "ipython",
    "version": 3
   },
   "file_extension": ".py",
   "mimetype": "text/x-python",
   "name": "python",
   "nbconvert_exporter": "python",
   "pygments_lexer": "ipython3",
   "version": "3.6.6"
  },
  "toc": {
   "nav_menu": {
    "height": "123px",
    "width": "252px"
   },
   "number_sections": true,
   "sideBar": true,
   "skip_h1_title": false,
   "title_cell": "Table of Contents",
   "title_sidebar": "Contents",
   "toc_cell": false,
   "toc_position": {
    "height": "calc(100% - 180px)",
    "left": "10px",
    "top": "150px",
    "width": "175.64px"
   },
   "toc_section_display": true,
   "toc_window_display": true
  }
 },
 "nbformat": 4,
 "nbformat_minor": 1
}
