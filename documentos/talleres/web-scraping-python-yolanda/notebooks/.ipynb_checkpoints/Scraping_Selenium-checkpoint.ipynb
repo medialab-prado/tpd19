{
 "cells": [
  {
   "cell_type": "markdown",
   "metadata": {},
   "source": [
    "# Web scraping con Selenium"
   ]
  },
  {
   "cell_type": "markdown",
   "metadata": {},
   "source": [
    "Hay ocasiones en las que la descarga de la página/sitio web y su posterior procesamiento con BeautifulSoup no es suficiente. Esto ocurre cuando la página web es dinámica, es decir, cuando el contenido final de una página depende de ciertas acciones por parte del usuario. Puede ocurrir:\n",
    "\n",
    "* que el sitio del que queremos extraer los datos es una SPA (_Single Page Application_), \n",
    "* esté protegido por un login (mucho cuidado con los Términos de Uso)\n",
    "* que necesitamos, por ejemplo, interactuar con el sitio, ya sea rellenando formularios, pulsando algún botón o enlace.\n",
    "\n",
    "\n",
    "<img src='./HTML_examples/peticiondinamicas.png' style='width: 400px;'/>"
   ]
  },
  {
   "cell_type": "markdown",
   "metadata": {},
   "source": [
    "Beautiful Soup no es capaz de ejecuta el código (JavaScript) requerido para cargar el contenido final de la página. \n",
    "Normalmente es el propio navegador el que ejecuta dicho código y carga el contenido. Esto es lo que haremos utilizando la biblioteca [Selenium](http://www.seleniumhq.org/docs/). Esta librería sirve para la automatización de tareas que hacen uso de un navegador. Recomendamos revisar [la documentación de Selenium para Python](http://selenium-python.readthedocs.io/) para sacar el máximo partido a esta librería.\n",
    "\n"
   ]
  },
  {
   "cell_type": "markdown",
   "metadata": {},
   "source": [
    "## Instalación"
   ]
  },
  {
   "cell_type": "markdown",
   "metadata": {},
   "source": [
    "Para poder utilizar Selenium es necesario:\n",
    "\n",
    "1. Instalar la librería Selenium. Podemos instalarla desde el propio notebook con los gestores de paquetes pip (python) o conda (Anaconda).\n",
    "2. Descargar el/los drivers para controlar un nevagador. Durante este taller usaremos el driver de Chrome, aunque podremos utilizar otros:\n",
    "\n",
    "    + Chrome: <https://sites.google.com/a/chromium.org/chromedriver/downloads>\n",
    "    + Edge: <https://developer.microsoft.com/en-us/microsoft-edge/tools/webdriver/>\n",
    "    + Firefox: <https://github.com/mozilla/geckodriver/releases>\n",
    "    + Safari: <https://webkit.org/blog/6900/webdriver-support-in-safari-10/>\n",
    "    \n"
   ]
  },
  {
   "cell_type": "code",
   "execution_count": 1,
   "metadata": {
    "ExecuteTime": {
     "end_time": "2018-02-10T08:59:23.395180Z",
     "start_time": "2018-02-10T08:59:23.393136Z"
    }
   },
   "outputs": [],
   "source": [
    "# Descomenta y ejecuta una de las dos alternativas (o ejecútalos desde una consola de comandos):\n",
    "# 1. Instalar desde Anaconda\n",
    "#!conda install -c conda-forge selenium\n",
    "\n",
    "# 2. Instalar con pip\n",
    "#!pip install -U selenium"
   ]
  },
  {
   "cell_type": "markdown",
   "metadata": {},
   "source": [
    "## Ejemplo introductorio "
   ]
  },
  {
   "cell_type": "markdown",
   "metadata": {},
   "source": [
    "A modo de ejemplo, vamos a ver cómo saber el número de productos de la página del sitio  https://aslan-blue-planet.es/tienda-vegana/.\n",
    "\n",
    "<!--rellenar el campo de número de productos por página -->\n",
    "\n",
    "La filosofía de Selenium es diferente ya que, en este caso, lo que vamos a hacer es programar la navegación automática por un sitio web. Para ello, Selenium lanza un navegador que controlaremos desde Python.\n",
    "\n",
    "Para lanzar el navegador:"
   ]
  },
  {
   "cell_type": "code",
   "execution_count": 2,
   "metadata": {},
   "outputs": [],
   "source": [
    "from selenium import webdriver\n",
    "from selenium.webdriver.support.ui import Select"
   ]
  },
  {
   "cell_type": "code",
   "execution_count": 3,
   "metadata": {},
   "outputs": [],
   "source": [
    "url = 'https://aslan-blue-planet.es/tienda-vegana/'\n",
    "driver = webdriver.Chrome('../seleniumDrivers/chromedriver')  \n",
    "# Si usamos Firefox:\n",
    "# driver = webdriver.Firefox(executable_path='../seleniumDrivers/geckodriver')\n",
    "driver.get(url)"
   ]
  },
  {
   "cell_type": "markdown",
   "metadata": {},
   "source": [
    "Una vez que tenemos el navegador abierto y la página cargada, podemos navegar por la página mediante el repertorio de instrucciones `find_*` que proporciona [Selenium](https://selenium-python.readthedocs.io/locating-elements.html):\n",
    "\n",
    "\n",
    "Recordando la estructura del  producto::\n",
    "\n",
    "    <div class=\"ci-product\">\n",
    "    ...\n",
    "\t\t<a class=\"ci-product-img-container\" \n",
    "           href=\"https://aslan-blue-planet.es/tienda/vego-bio-chocolate-blanco-con-almendras/\">\n",
    "\t\t\t<img width=\"240\" heigh...>\n",
    "        </a>\n",
    "\t</div>"
   ]
  },
  {
   "cell_type": "code",
   "execution_count": 3,
   "metadata": {},
   "outputs": [
    {
     "name": "stdout",
     "output_type": "stream",
     "text": [
      "Número de productos: 24\n"
     ]
    }
   ],
   "source": [
    "productos = driver.find_elements_by_css_selector('div.ci-product')\n",
    "print (\"Número de productos: {}\".format(len(productos)))"
   ]
  },
  {
   "cell_type": "markdown",
   "metadata": {},
   "source": [
    "En total hemos encontrado 24 elementos con tag `div` de la clase `ci-product`.\n",
    "\n",
    "Posteriormente, cuando ya hemos recuperado la información que necesitamos, terminamos cerrando el navegador."
   ]
  },
  {
   "cell_type": "code",
   "execution_count": 4,
   "metadata": {},
   "outputs": [],
   "source": [
    "driver.quit()"
   ]
  },
  {
   "cell_type": "markdown",
   "metadata": {},
   "source": [
    "## Interactuando con la página\n",
    "\n",
    "Ahora vamos a interactuar con la página. Buscaremos el campo donde se puede indicar el número de productos por página y posteriormente lo rellenaremos con un valor (de los permitidos). Consultar la ayuda de cómo se [interactúa con la página en la documentación de Selenium](https://selenium-python.readthedocs.io/navigating.html).\n",
    "\n",
    "Comenzamos lanzando el navegador:"
   ]
  },
  {
   "cell_type": "code",
   "execution_count": 5,
   "metadata": {},
   "outputs": [],
   "source": [
    "url = 'https://aslan-blue-planet.es/tienda-vegana/'\n",
    "driver = webdriver.Chrome('../seleniumDrivers/chromedriver')  \n",
    "# Si usamos Firefox:\n",
    "# driver = webdriver.Firefox(executable_path='../seleniumDrivers/geckodriver')\n",
    "driver.get(url)"
   ]
  },
  {
   "cell_type": "markdown",
   "metadata": {},
   "source": [
    "Buscamos el elemento:\n",
    "\n",
    "<img src='./HTML_examples/numpp.png' style='width: 400px;'/>\n",
    "\n",
    "\n",
    "Solo hay tres valores permitidos y la estructura de dicho elemento es:\n",
    "    \n",
    "    <select name=\"ppp\" class=\"select wppp-select\" onchange=\"this.form.submit()\">\n",
    "        <option selected=\"selected\" value=\"24\">24 productos por página</option>\n",
    "        <option value=\"36\">36 productos por página</option>\n",
    "        <option value=\"48\">48 productos por página</option>\n",
    "    </select>"
   ]
  },
  {
   "cell_type": "code",
   "execution_count": 7,
   "metadata": {},
   "outputs": [],
   "source": [
    "elemento = driver.find_element_by_css_selector('select.wppp-select')\n",
    "campo = Select(elemento)"
   ]
  },
  {
   "cell_type": "markdown",
   "metadata": {},
   "source": [
    "La propia librería incluye la propiedad `options` para recuperar todas las posibles opciones de un campo."
   ]
  },
  {
   "cell_type": "code",
   "execution_count": 9,
   "metadata": {},
   "outputs": [
    {
     "data": {
      "text/plain": [
       "[<selenium.webdriver.remote.webelement.WebElement (session=\"b79adba82a826d6590fa80eb2584d87f\", element=\"0.6884831430208855-2\")>,\n",
       " <selenium.webdriver.remote.webelement.WebElement (session=\"b79adba82a826d6590fa80eb2584d87f\", element=\"0.6884831430208855-3\")>,\n",
       " <selenium.webdriver.remote.webelement.WebElement (session=\"b79adba82a826d6590fa80eb2584d87f\", element=\"0.6884831430208855-4\")>]"
      ]
     },
     "execution_count": 9,
     "metadata": {},
     "output_type": "execute_result"
    }
   ],
   "source": [
    "opciones = campo.options\n",
    "opciones"
   ]
  },
  {
   "cell_type": "markdown",
   "metadata": {},
   "source": [
    "Obtenemos como resultado 3 opciones. Si consultamos el texto:\n"
   ]
  },
  {
   "cell_type": "code",
   "execution_count": 10,
   "metadata": {},
   "outputs": [
    {
     "data": {
      "text/plain": [
       "['24 productos por página',\n",
       " '36 productos por página',\n",
       " '48 productos por página']"
      ]
     },
     "execution_count": 10,
     "metadata": {},
     "output_type": "execute_result"
    }
   ],
   "source": [
    "valores = [e.text for e in opciones ]\n",
    "valores"
   ]
  },
  {
   "cell_type": "markdown",
   "metadata": {},
   "source": [
    "Para seleccionauna opción de las permitidas, tenemos varias funciones:\n",
    "\n",
    "    * campo.select_by_index(index)\n",
    "    * campo.select_by_visible_text(\"text\")\n",
    "    * campo.select_by_value(value)"
   ]
  },
  {
   "cell_type": "code",
   "execution_count": 11,
   "metadata": {},
   "outputs": [],
   "source": [
    "campo.select_by_index(2)\n",
    "# campo.select_by_visible_text(valores[2])   # esta opción tambiés es válida"
   ]
  },
  {
   "cell_type": "markdown",
   "metadata": {},
   "source": [
    "En este caso, después de rellenar el campo no es necesario pulsar ningún botón adicional. Se ejecuta el código necesario para   actualizar la página automáticamente. Si consultamos ahora los productos por página:"
   ]
  },
  {
   "cell_type": "code",
   "execution_count": 12,
   "metadata": {},
   "outputs": [
    {
     "name": "stdout",
     "output_type": "stream",
     "text": [
      "Número de productos: 48\n"
     ]
    }
   ],
   "source": [
    "productos = driver.find_elements_by_css_selector('div.ci-product')\n",
    "print (\"Número de productos: {}\".format(len(productos)))"
   ]
  },
  {
   "cell_type": "markdown",
   "metadata": {},
   "source": [
    "Ahora tenemos 48 producots por página como era de esperar. \n",
    "Finalmente cerramos el driver."
   ]
  },
  {
   "cell_type": "code",
   "execution_count": 13,
   "metadata": {},
   "outputs": [],
   "source": [
    "driver.quit()"
   ]
  },
  {
   "cell_type": "markdown",
   "metadata": {},
   "source": [
    "Ahora, si lo hacemos todo a la vez, el resultado es imprevisible....\n",
    "A veces, la carga de la página tarda unos segundos, y cuando vamos a buscar un determinado elemento, no se encuentra y nos da error. "
   ]
  },
  {
   "cell_type": "code",
   "execution_count": 14,
   "metadata": {},
   "outputs": [
    {
     "name": "stdout",
     "output_type": "stream",
     "text": [
      "Número de productos: 48\n"
     ]
    }
   ],
   "source": [
    "# 1. Lanzamos el driver\n",
    "url = 'https://aslan-blue-planet.es/tienda-vegana/'\n",
    "driver = webdriver.Chrome('../seleniumDrivers/chromedriver')  \n",
    "# Si usamos Firefox:\n",
    "# driver = webdriver.Firefox(executable_path='../seleniumDrivers/geckodriver')\n",
    "driver.get(url)\n",
    "\n",
    "# 2. Buscamos el elemento para seleccionar el número  de páginas\n",
    "elemento = driver.find_element_by_css_selector('select.wppp-select')\n",
    "campo = Select(elemento)\n",
    "opciones = elemento.find_elements_by_tag_name('option')\n",
    "campo.select_by_index(2)\n",
    "\n",
    "# 3. Recuperamos el número de productos cargados\n",
    "productos = driver.find_elements_by_css_selector('div.ci-product')\n",
    "print (\"Número de productos: {}\".format(len(productos)))\n",
    "\n",
    "# 4. Cerramos el driver\n",
    "driver.quit()"
   ]
  },
  {
   "cell_type": "markdown",
   "metadata": {},
   "source": [
    "## Introducciendo valores en formularios"
   ]
  },
  {
   "cell_type": "markdown",
   "metadata": {},
   "source": [
    "En este tercer ejemplo, haremos scraping sobre la página `MegustairalSuper.com`. A modo de ejemplo vamos a buscar cuántas recetas de lentejas hay en dicho sitio web. Se puede acceder a esta pagina a través de esta URL:\n",
    "\n",
    "<https://www.megustairalsuper.com/canal-cocina/recetas-2/>\n",
    "\n",
    "<img src='./HTML_examples/super.png' style='width: 600px;'/>"
   ]
  },
  {
   "cell_type": "code",
   "execution_count": 17,
   "metadata": {},
   "outputs": [],
   "source": [
    "url = \"https://www.megustairalsuper.com/canal-cocina/recetas-2/\""
   ]
  },
  {
   "cell_type": "markdown",
   "metadata": {},
   "source": [
    "Como podemos ver, para aplicar el filtro tenemos que rellenar el formulario. Inspeccionamos el elemento del formulario que permite introducir un término de búsqueda. La estructura tiene el siguiente aspecto:\n",
    "\n",
    "    <form class=\"search\" id=\"recipes-search-form\" role=\"search\" \n",
    "                         action=\"https://www.megustairalsuper.com/canal-cocina/recetas-2/\" \n",
    "                         method=\"get\" data-request=\"https://www.megustairalsuper.com/wp-admin/admin-ajax.php\">\n",
    "\t\t\t...\n",
    "            \n",
    "\t\t\t<input name=\"recipe_keyword\" class=\"search-input\" id=\"recipe_keyword\" type=\"text\" \n",
    "                      placeholder=\"Introduce un término de búsqueda y pulsa enter\" value=\"\">\n",
    "                      \n",
    "\t\t\t<button title=\"Buscar\" class=\"search-submit\" role=\"button\" type=\"submit\"><i class=\"fa fa-search\"></i></button>\n",
    "\t</form>\n",
    "    "
   ]
  },
  {
   "cell_type": "markdown",
   "metadata": {},
   "source": [
    "Primero lanzamos el navegador:"
   ]
  },
  {
   "cell_type": "code",
   "execution_count": 18,
   "metadata": {},
   "outputs": [],
   "source": [
    "driver = webdriver.Chrome('../seleniumDrivers/chromedriver')  # Optional argument, if not specified will search path.\n",
    "driver.get(url)"
   ]
  },
  {
   "cell_type": "markdown",
   "metadata": {},
   "source": [
    "Buscamos el elemento que vamos a rellenar y le damos valor:"
   ]
  },
  {
   "cell_type": "code",
   "execution_count": 19,
   "metadata": {},
   "outputs": [],
   "source": [
    "campo_input = driver.find_element_by_css_selector('form.search input.search-input')"
   ]
  },
  {
   "cell_type": "code",
   "execution_count": 20,
   "metadata": {},
   "outputs": [
    {
     "data": {
      "text/plain": [
       "'input'"
      ]
     },
     "execution_count": 20,
     "metadata": {},
     "output_type": "execute_result"
    }
   ],
   "source": [
    "# comprobamos que hemos recuperado lo que esperábamos\n",
    "campo_input.tag_name"
   ]
  },
  {
   "cell_type": "markdown",
   "metadata": {},
   "source": [
    "Para rellenar el campo usamos el método `send_keys` con el texto que queramos, por ejemplo `lentejas`:"
   ]
  },
  {
   "cell_type": "code",
   "execution_count": 21,
   "metadata": {
    "ExecuteTime": {
     "end_time": "2018-02-10T12:59:38.690224Z",
     "start_time": "2018-02-10T12:59:35.872216Z"
    }
   },
   "outputs": [],
   "source": [
    "filtro = 'lentejas'\n",
    "campo_input.send_keys(filtro)"
   ]
  },
  {
   "cell_type": "markdown",
   "metadata": {},
   "source": [
    "Finalmente, buscamos el botón y lo pulsamos:"
   ]
  },
  {
   "cell_type": "code",
   "execution_count": 22,
   "metadata": {},
   "outputs": [],
   "source": [
    "#Finalmente, buscamos el botón y lo pulsamos:\n",
    "lupa = driver.find_element_by_css_selector('form.search button.search-submit')\n",
    "if lupa.is_enabled():\n",
    "    lupa.click()"
   ]
  },
  {
   "cell_type": "markdown",
   "metadata": {},
   "source": [
    "Como podemos observar, __la url de la página no ha cambiado__. Solo se ha cargado más información en la página (gracias a javascript), pero manteniéndose la URL.\n",
    "Ahora, si queremos ver las recetas de la página, inspeccionamos el elemento que representa cada receta para ver su estructura. \n",
    "\n",
    "Lo más importante:\n",
    "\n",
    "    <div id=\"recipe-21202\" class=\"vc_grid-item vc_clearfix vc_col-sm-3 vc_grid-item-zone-c-bottom vc_visible-item\" \n",
    "         style=\"position: absolute; left: 370px; top: 0px;\">\n",
    "\t\t\t...\n",
    "\t\t<h4 style=\"text-align: left\">Crema Esaú (lentejas)</h4>\n",
    "\t\t\t...\t\t\t\t\t\t\t\t\t\t\t\t\t\t\t\n",
    "\t</div>"
   ]
  },
  {
   "cell_type": "markdown",
   "metadata": {},
   "source": [
    "Para recuperar todos los elementos de la página que representan una receta, usamos el método `find_elements_by_css_selector`:"
   ]
  },
  {
   "cell_type": "code",
   "execution_count": 31,
   "metadata": {},
   "outputs": [
    {
     "name": "stdout",
     "output_type": "stream",
     "text": [
      "Número de recetas: 12\n",
      "---------------------------------\n",
      "Sopa de ajo\n",
      "Tarta de Santiago\n",
      "Tarta de queso al horno\n",
      "Tarta de Mondoñedo\n",
      "Tarta de Magosto\n",
      "Tortillos de S. Andres de Teixido\n",
      "Tortilla estilo Betanzos\n",
      "Tortilla de patatas guisada\n",
      "Tortilla de grelos con chorizos\n",
      "Torta gallega\n",
      "Torradas de nadal\n",
      "Vieiras al vino\n"
     ]
    }
   ],
   "source": [
    "recetas = driver.find_elements_by_css_selector('div.vc_grid-item')\n",
    "print (\"Número de recetas: {}\".format(len(recetas)))\n",
    "print('---------------------------------')\n",
    "\n",
    "for item in recetas:\n",
    "    nombre = item.find_element_by_tag_name('h4').text\n",
    "    print(nombre)"
   ]
  },
  {
   "cell_type": "markdown",
   "metadata": {},
   "source": [
    "O lo que es lo mismo:"
   ]
  },
  {
   "cell_type": "code",
   "execution_count": 24,
   "metadata": {},
   "outputs": [
    {
     "name": "stdout",
     "output_type": "stream",
     "text": [
      "Número de recetas: 12\n",
      "---------------------------------\n",
      "Lentejas estofadas con chorizo\n",
      "Lentejas de la abuela\n",
      "Crema Esaú (lentejas)\n",
      "Lentejas estofadas con verduras\n",
      "Lentejas vegetales\n",
      "Lentejas con tomate y cebolla\n",
      "Ensalada de legumbres\n",
      "Ensalada de lentejas con judías verdes\n",
      "Ensalada de lentejas\n",
      "Lentejas con berenjena\n",
      "Lentejas de cuaresma\n",
      "Lentejas guisadas con zanahorias\n"
     ]
    }
   ],
   "source": [
    "titulos = driver.find_elements_by_css_selector('div.vc_grid-item h4')\n",
    "print (\"Número de recetas: {}\".format(len(titulos)))\n",
    "print('---------------------------------')\n",
    "\n",
    "for name  in titulos:    \n",
    "    print(name.text)"
   ]
  },
  {
   "cell_type": "markdown",
   "metadata": {},
   "source": [
    "Por último cerramos el driver."
   ]
  },
  {
   "cell_type": "code",
   "execution_count": 25,
   "metadata": {},
   "outputs": [],
   "source": [
    "driver.quit()"
   ]
  },
  {
   "cell_type": "markdown",
   "metadata": {},
   "source": [
    "Ahora todo a la vez:"
   ]
  },
  {
   "cell_type": "code",
   "execution_count": 27,
   "metadata": {},
   "outputs": [
    {
     "name": "stdout",
     "output_type": "stream",
     "text": [
      "Número de recetas: 0\n",
      "---------------------------------\n"
     ]
    }
   ],
   "source": [
    "# 1. Lanzar del navegador\n",
    "url = \"https://www.megustairalsuper.com/canal-cocina/recetas-2/\"\n",
    "driver = webdriver.Chrome('../seleniumDrivers/chromedriver')  # Optional argument, if not specified will search path.\n",
    "driver.get(url)\n",
    "\n",
    "# 2. Rellenar el formulario con un valor\n",
    "filtro = 'lentejas'\n",
    "campo_input = driver.find_element_by_css_selector('form.search input.search-input')\n",
    "campo_input.send_keys(filtro)\n",
    "\n",
    "# 3. Hacer click en la lupa\n",
    "lupa = driver.find_element_by_css_selector('form.search button.search-submit')\n",
    "if lupa.is_enabled():\n",
    "    lupa.click()\n",
    "\n",
    "# 4. Buscar los elementos h4 y contarlos\n",
    "titulos = driver.find_elements_by_css_selector('div.vc_grid-item h4')\n",
    "print (\"Número de recetas: {}\".format(len(titulos)))\n",
    "print('---------------------------------')\n",
    "\n",
    "for name  in titulos:    \n",
    "    print(name.text)\n",
    "    \n",
    "# 5. Cerrar el navegador    \n",
    "driver.quit()"
   ]
  },
  {
   "cell_type": "markdown",
   "metadata": {},
   "source": [
    "Upsss!!!!!"
   ]
  },
  {
   "cell_type": "markdown",
   "metadata": {},
   "source": [
    "## Las esperas"
   ]
  },
  {
   "cell_type": "markdown",
   "metadata": {},
   "source": [
    "Vemos que la ejecución no ha funcionado correctamente. Esto se debe a que hay tareas (como la generación del resultado) que tardan un tiempo en ejecutarse, por lo que tenemos que esperar a que terminen para poder extraer un resultado. Para ello hay que implementar esperas [(Waits, en Selenium)](https://selenium-python.readthedocs.io/waits.html) en nuestro código.\n",
    "\n",
    "\n",
    "### Esperas con librería time\n",
    "\n",
    "La primera y más sencilla es hacer una pausa con `time.sleep(n)` .\n"
   ]
  },
  {
   "cell_type": "code",
   "execution_count": 29,
   "metadata": {},
   "outputs": [],
   "source": [
    "import time"
   ]
  },
  {
   "cell_type": "code",
   "execution_count": 30,
   "metadata": {},
   "outputs": [
    {
     "name": "stdout",
     "output_type": "stream",
     "text": [
      "Número de recetas: 12\n",
      "---------------------------------\n",
      "Lentejas estofadas con chorizo\n",
      "Lentejas de la abuela\n",
      "Crema Esaú (lentejas)\n",
      "Lentejas estofadas con verduras\n",
      "Lentejas vegetales\n",
      "Lentejas con tomate y cebolla\n",
      "Ensalada de legumbres\n",
      "Ensalada de lentejas con judías verdes\n",
      "Ensalada de lentejas\n",
      "Lentejas con berenjena\n",
      "Lentejas de cuaresma\n",
      "Lentejas guisadas con zanahorias\n"
     ]
    }
   ],
   "source": [
    "# 1. Lanzar del navegador\n",
    "url = \"https://www.megustairalsuper.com/canal-cocina/recetas-2/\"\n",
    "driver = webdriver.Chrome('../seleniumDrivers/chromedriver')  # Optional argument, if not specified will search path.\n",
    "driver.get(url)\n",
    "\n",
    "# esperamos 5 segundos\n",
    "time.sleep(5)  \n",
    "\n",
    "# 2. Rellenar el formulario con un valor\n",
    "filtro = 'lentejas'\n",
    "campo_input = driver.find_element_by_css_selector('form.search input.search-input')\n",
    "campo_input.send_keys(filtro)\n",
    "\n",
    "# 3. Hacer click en la lupa\n",
    "lupa = driver.find_element_by_css_selector('form.search button.search-submit')\n",
    "if lupa.is_enabled():\n",
    "    lupa.click()\n",
    "\n",
    "# Esperamos 5 segundos antes de buscar el elemento\n",
    "time.sleep(5)     \n",
    "\n",
    "# 4. Buscar los elementos h4 y contarlos\n",
    "titulos = driver.find_elements_by_css_selector('div.vc_grid-item h4')\n",
    "print (\"Número de recetas: {}\".format(len(titulos)))\n",
    "print('---------------------------------')\n",
    "\n",
    "for name  in titulos:    \n",
    "    print(name.text)\n",
    "    \n",
    "# 5. Cerrar el navegador    \n",
    "driver.quit()"
   ]
  },
  {
   "cell_type": "markdown",
   "metadata": {},
   "source": [
    "### Esperas explícitas de Selenium\n",
    "\n",
    "Otra opción es utilizar las _esperas explícitas_ de Selenium, con las que pedimos al driver que ejecute un método repetidas veces (durante un periodo máximo de tiempo) hasta que se cumpla una determianda condición. Por ejemplo, las condiciones pueden ser:\n",
    "\n",
    "* `presence_of_element_located` : que aparezca un determinado elemento, \n",
    "* `presence_of_all_elements_located`: que aparezca un conjunto de elementos,\n",
    "* `visibility_of_element_located`: que el elemento sea visible,\n",
    "* `element_to_be_clickable`:  que se pueda hacer click sobre un elemento, \n",
    "* `title_is`: que el título de la página sea uno concreto, etc.\n",
    "\n",
    "En caso de que se sobrepase el tiempo máximo de espera entonces python lanza una excepción o error. \n",
    "\n",
    "Para hacer uso de las esperas de Selenium tenemos que importar las librerías:"
   ]
  },
  {
   "cell_type": "code",
   "execution_count": 31,
   "metadata": {},
   "outputs": [],
   "source": [
    "from selenium.webdriver.support.ui import WebDriverWait\n",
    "from selenium.common.exceptions import TimeoutException\n",
    "\n",
    "from selenium.webdriver.support import expected_conditions as EC  ## condiciones de esperas\n",
    "from selenium.webdriver.common.by import By                       ## localización de elementos"
   ]
  },
  {
   "cell_type": "code",
   "execution_count": 35,
   "metadata": {},
   "outputs": [
    {
     "name": "stdout",
     "output_type": "stream",
     "text": [
      "Número de recetas: 12\n",
      "---------------------------------\n",
      "Lentejas estofadas con chorizo\n",
      "Lentejas de la abuela\n",
      "Crema Esaú (lentejas)\n",
      "Lentejas estofadas con verduras\n",
      "Lentejas vegetales\n",
      "Lentejas con tomate y cebolla\n",
      "Ensalada de legumbres\n",
      "Ensalada de lentejas con judías verdes\n",
      "Ensalada de lentejas\n",
      "Lentejas con berenjena\n",
      "Lentejas de cuaresma\n",
      "Lentejas guisadas con zanahorias\n"
     ]
    }
   ],
   "source": [
    "# 1. Lanzar del navegador\n",
    "url = \"https://www.megustairalsuper.com/canal-cocina/recetas-2/\"\n",
    "driver = webdriver.Chrome('../seleniumDrivers/chromedriver')  # Optional argument, if not specified will search path.\n",
    "driver.get(url)\n",
    "\n",
    "# 2. Rellenamos condición de búsqueda\n",
    "filtro = 'lentejas'\n",
    "campo_input = driver.find_element_by_css_selector('form.search input.search-input')\n",
    "campo_input.send_keys(filtro)\n",
    "\n",
    "# 3. Hacemos click sobre la lupa\n",
    "lupa = driver.find_element_by_css_selector('form.search button.search-submit')\n",
    "if lupa.is_enabled():\n",
    "    lupa.click()\n",
    "    \n",
    "# Aquí vienen las esperas ....    \n",
    "\n",
    "try:\n",
    "    titulos = WebDriverWait(driver, 10).until(\n",
    "        EC.presence_of_all_elements_located((By.CSS_SELECTOR, \"div.vc_grid-item h4\"))\n",
    "    )\n",
    "    print (\"Número de recetas: {}\".format(len(titulos)))\n",
    "    print('---------------------------------')\n",
    "\n",
    "    for name  in titulos:    \n",
    "        print(name.text)\n",
    "    \n",
    "except TimeoutException:\n",
    "    print(\"No se ha podido encontrar el elemento o la página ha tardado demasiado\")\n",
    "finally:\n",
    "    driver.quit() "
   ]
  },
  {
   "cell_type": "markdown",
   "metadata": {},
   "source": [
    "##  Cargar más recetas ejecutando javascript"
   ]
  },
  {
   "cell_type": "markdown",
   "metadata": {},
   "source": [
    "Para cargar más recetas tenemos que pulsar el botón `CARGAR MÁS`. Pero solo lo haremos si el elemento que representa el botón está visible. \n",
    "\n",
    "<img src='./HTML_examples/cargarmas.png' style='width: 600px;'/>\n",
    "\n",
    "Inspeccionado dicho elemento, su estructura es la siguiente:\n",
    "\n",
    "    <div class=\"vc_btn3-container vc_grid-btn-load_more vc_btn3-inline\">\n",
    "\t\t<a title=\"Cargar más\" \n",
    "           class=\"vc_general vc_btn3 vc_btn3-size-md vc_btn3-shape-rounded vc_btn3-style-flat vc_btn3-color-blue\"\n",
    "           style=\"display: inline-block;\" \n",
    "           href=\"javascript:;\">Cargar más</a>\n",
    "\t</div>\n",
    "    \n",
    "Vamos a cargar el navegador y seleccionar recetas aplicando el criterio de búsqueda `huevos`:"
   ]
  },
  {
   "cell_type": "code",
   "execution_count": 36,
   "metadata": {},
   "outputs": [],
   "source": [
    "url = \"https://www.megustairalsuper.com/canal-cocina/recetas-2/\"\n",
    "driver = webdriver.Chrome('../seleniumDrivers/chromedriver')  # Optional argument, if not specified will search path.\n",
    "driver.get(url)\n",
    "\n",
    "filtro = 'huevos'\n",
    "campo_input = driver.find_element_by_css_selector('form.search input.search-input')\n",
    "campo_input.send_keys(filtro)\n",
    "\n",
    "lupa = driver.find_element_by_css_selector('form.search button.search-submit')\n",
    "if lupa.is_enabled():\n",
    "    lupa.click()  "
   ]
  },
  {
   "cell_type": "markdown",
   "metadata": {},
   "source": [
    "Ahora buscamos el elemento con tag `a` correspondiente a `Cargar más`. "
   ]
  },
  {
   "cell_type": "code",
   "execution_count": 37,
   "metadata": {},
   "outputs": [
    {
     "name": "stdout",
     "output_type": "stream",
     "text": [
      "CARGAR MÁS\n"
     ]
    }
   ],
   "source": [
    "mostrar_mas = driver.find_element_by_css_selector(\"a[href*='javascript:;']\")\n",
    "print(mostrar_mas.text)"
   ]
  },
  {
   "cell_type": "markdown",
   "metadata": {},
   "source": [
    "La intuición nos dice que podemos hacer click sobre el botón ejecutando el método `click`:"
   ]
  },
  {
   "cell_type": "code",
   "execution_count": null,
   "metadata": {},
   "outputs": [],
   "source": [
    "mostrar_mas.click()"
   ]
  },
  {
   "cell_type": "markdown",
   "metadata": {},
   "source": [
    "El error nos dice que este elemento _no es clicklable_. \n",
    "\n",
    "Aquí, el elemento con tag `a ` tiene como valor de atributo `href` una llamada a código javascript que se activa y ejecuta cuando el usuario lo pulsa.\n",
    "\n",
    "Así que debemos indicar al driver que ejecute el código javaScript asociado a dicho elemento con el método `execute_script` en lugar de hacer `click` directamente sobre el elemento."
   ]
  },
  {
   "cell_type": "code",
   "execution_count": 39,
   "metadata": {},
   "outputs": [],
   "source": [
    "driver.execute_script(\"document.querySelector( 'a[href*=\\\"javascript:;\\\"]').click();\") "
   ]
  },
  {
   "cell_type": "code",
   "execution_count": 40,
   "metadata": {},
   "outputs": [
    {
     "name": "stdout",
     "output_type": "stream",
     "text": [
      "Número de recetas: 24\n"
     ]
    }
   ],
   "source": [
    "recetas = WebDriverWait(driver, 10).until(\n",
    "        EC.presence_of_all_elements_located((By.CSS_SELECTOR, \"div.vc_grid-item\"))\n",
    "    )\n",
    "print (\"Número de recetas: {}\".format(len(recetas))) "
   ]
  },
  {
   "cell_type": "markdown",
   "metadata": {},
   "source": [
    "Para cargar todas las recetas, tenemos que pulsar varias veces en el botón. Hemos de tener en cuenta que cuando no queden recetas para mostrar, el botón de `Cargar más` desaparece o se hace invisible y la ejecución del script no tiene efecto.\n",
    "Para solucionarlo, podemos lanzar una espera con la condición `visibility_of_element_located`. "
   ]
  },
  {
   "cell_type": "code",
   "execution_count": 41,
   "metadata": {},
   "outputs": [],
   "source": [
    "boton_cargar = WebDriverWait(driver, 10).until(\n",
    "        EC.visibility_of_element_located((By.CSS_SELECTOR, \"a[href*='javascript:;']\")))\n",
    "driver.execute_script(\"document.querySelector( 'a[href*=\\\"javascript:;\\\"]').click();\") "
   ]
  },
  {
   "cell_type": "markdown",
   "metadata": {},
   "source": [
    "Vamos pues a ejecutar el click hasta que el botón desaparezca:"
   ]
  },
  {
   "cell_type": "code",
   "execution_count": 42,
   "metadata": {},
   "outputs": [
    {
     "name": "stdout",
     "output_type": "stream",
     "text": [
      "Ha desaparecido el botón de CARGAR MÁS\n",
      "Se han realizado 43 clicks.\n",
      "Número de recetas: 43\n"
     ]
    }
   ],
   "source": [
    "clicks = 0\n",
    "try:\n",
    "    # pulso el botón mientras esté visible\n",
    "    while True:\n",
    "        # espero 10 segundos a que el botón se haga visible\n",
    "        boton_cargar = WebDriverWait(driver, 10).until(\n",
    "            EC.visibility_of_element_located((By.CSS_SELECTOR, \"a[href*='javascript:;']\")))\n",
    "     \n",
    "        # mientras sea visible\n",
    "        clicks += 1\n",
    "        driver.execute_script(\"document.querySelector( 'a[href*=\\\"javascript:;\\\"]').click();\") \n",
    "    \n",
    "except TimeoutException:\n",
    "    print(\"Ha desaparecido el botón de CARGAR MÁS\")\n",
    "finally:\n",
    "    print('Se han realizado ' +  str(clicks) + ' clicks.' )\n",
    "    \n",
    "    recetas = WebDriverWait(driver, 10).until(\n",
    "        EC.presence_of_all_elements_located((By.CSS_SELECTOR, \"div.vc_grid-item h4\"))\n",
    "    )\n",
    "    print (\"Número de recetas: {}\".format(len(recetas)))        \n",
    "    driver.quit() "
   ]
  },
  {
   "cell_type": "markdown",
   "metadata": {},
   "source": [
    "¿Demasiados clicks? Esto es raro....\n",
    "\n",
    "En realidad no tengo que hacer tantos clicks, solo debería hacer click si el número de recetas ha cambiado.\n",
    "\n",
    "Ejecutamos todo el código:"
   ]
  },
  {
   "cell_type": "code",
   "execution_count": 43,
   "metadata": {},
   "outputs": [
    {
     "name": "stdout",
     "output_type": "stream",
     "text": [
      "Número de recetas inicial 12\n",
      "Número de recetas 24\n",
      "Número de recetas 36\n",
      "Número de recetas 43\n",
      "\n",
      "Ya no es visible el botón de CARGAR MÁS\n",
      "---------------------------------------\n",
      "Se han realizado 3 clicks\n",
      "Número total de recetas: 43\n"
     ]
    }
   ],
   "source": [
    "# 1. Lanzar el navegador\n",
    "url = \"https://www.megustairalsuper.com/canal-cocina/recetas-2/\"\n",
    "driver = webdriver.Chrome('../seleniumDrivers/chromedriver')  # Optional argument, if not specified will search path.\n",
    "driver.get(url)\n",
    "\n",
    "# 2. Escribir criterio de búsqueda\n",
    "# -----------------------------\n",
    "filtro = 'huevos'\n",
    "campo_input = driver.find_element_by_css_selector('form.search input.search-input')\n",
    "campo_input.send_keys(filtro)\n",
    "\n",
    "lupa = driver.find_element_by_css_selector('form.search button.search-submit')\n",
    "if lupa.is_enabled():\n",
    "    lupa.click()  \n",
    "\n",
    "time.sleep(10) # seconds    \n",
    "\n",
    "# 3. Memorizamos el numero de recetas inicial\n",
    "recetas = WebDriverWait(driver, 10).until(\n",
    "        EC.presence_of_all_elements_located((By.CSS_SELECTOR, \"div.vc_grid-item\"))\n",
    "    )\n",
    "num_recetas = len(recetas)\n",
    "print('Número de recetas inicial ' + str(num_recetas))\n",
    "\n",
    "# 4. Hacemos CARGAR MÁS\n",
    "# ---------\n",
    "clicks = 0\n",
    "try:\n",
    "    # 5. Busco el botón de cargar más\n",
    "    boton_cargar = WebDriverWait(driver, 50).until(\n",
    "        EC.presence_of_element_located((By.CSS_SELECTOR, \"a[href*='javascript:;']\")))\n",
    "         \n",
    "    # 6. Mientras sea visible, lo ejecuto\n",
    "    while boton_cargar.is_displayed(): \n",
    "        clicks += 1\n",
    "        driver.execute_script(\"document.querySelector( 'a[href*=\\\"javascript:;\\\"]').click();\") \n",
    "        \n",
    "        boton_cargar = WebDriverWait(driver, 10).until(\n",
    "                EC.presence_of_element_located((By.CSS_SELECTOR, \"a[href*='javascript:;']\")))   \n",
    "        \n",
    "        \n",
    "        # 7. Miro a ver si ha aumentado el número de recetas\n",
    "        recetas =  driver.find_elements_by_css_selector('div.vc_grid-item')\n",
    "        while len(recetas) == num_recetas:\n",
    "            recetas = recetas = driver.find_elements_by_css_selector('div.vc_grid-item')\n",
    "        num_recetas = len(recetas)\n",
    "        print('Número de recetas ' + str(num_recetas))    \n",
    "        \n",
    "\n",
    "# -----------------------------------\n",
    "except TimeoutException:\n",
    "    print(\"El botón de CARGAR MÁS no existe\")    \n",
    "    \n",
    "finally:\n",
    "    # 8. Contar el número de recetas totales\n",
    "    print()\n",
    "    print(\"Ya no es visible el botón de CARGAR MÁS\")\n",
    "    print(\"---------------------------------------\")\n",
    "    print('Se han realizado ' +  str(clicks) + ' clicks' )\n",
    "     \n",
    "    recetas =  driver.find_elements_by_css_selector('div.vc_grid-item')\n",
    "    print (\"Número total de recetas: {}\".format(len(recetas)))\n",
    "    #driver.quit() \n",
    "            "
   ]
  },
  {
   "cell_type": "markdown",
   "metadata": {},
   "source": [
    "## Combinando ambas librerías\n",
    "\n",
    "\n",
    "Finalmente, podemos combinar el uso de Selenium con BeautifulSoup. Para ello hemos de tener en cuenta que cada uno de los elementos extraídos con `find_*` disponen de los atributos `innerHTML` y `outerHTML`, que contienen el texto HTML del elemento. Podemos procesar este HTML con Beautiful Soup si nos resulta más cómodo.\n",
    "\n",
    "También cabe decir que el driver mismo tiene el atributo `page_source` que contiene el código html."
   ]
  },
  {
   "cell_type": "code",
   "execution_count": 44,
   "metadata": {},
   "outputs": [],
   "source": [
    "from bs4 import BeautifulSoup\n",
    "import requests"
   ]
  },
  {
   "cell_type": "markdown",
   "metadata": {},
   "source": [
    "Vamos a buscar la información de todas las recetas. Dicha información se obtiene en otra página web, cuya url se encuentra en un elemento de la receta.\n",
    "\n",
    "Buscamos los enlaces de todas las recetas:\n",
    "\n",
    "    <div id=\"recipe-22390\" class=\"vc_grid-item vc_clearfix vc_col-sm-3 vc_grid-item-zone-c-bottom vc_visible-item\" \n",
    "         style=\"position: absolute; left: 0px; top: 0px;\">\n",
    "\t\t\t...\n",
    "\t\t<a href=\"https://www.megustairalsuper.com/recipe/orejas-de-carnaval/\" \n",
    "           title=\"Orejas de carnaval\" class=\"vc_gitem-link vc-zone-link\"></a>\n",
    "\t\t\t...\t\t\t\t\t\t\n",
    "\t</div>\n",
    "\n",
    "Guardamos todos los enlaces en una lista y posteriormente abrimos la página de cada enlace y recuperamos infomación de la receta.    "
   ]
  },
  {
   "cell_type": "code",
   "execution_count": 45,
   "metadata": {},
   "outputs": [
    {
     "data": {
      "text/plain": [
       "43"
      ]
     },
     "execution_count": 45,
     "metadata": {},
     "output_type": "execute_result"
    }
   ],
   "source": [
    "len(recetas)"
   ]
  },
  {
   "cell_type": "code",
   "execution_count": 46,
   "metadata": {},
   "outputs": [],
   "source": [
    "enlaces = []\n",
    "for receta in recetas:\n",
    "    # obtenemos el html contenido en cada receta del elemento de selenium\n",
    "    soup = BeautifulSoup(receta.get_attribute('outerHTML'), 'lxml')\n",
    "    # a partir de aquí lo tratamos con BS4\n",
    "    link = soup.select_one(\"div.vc_grid-item  a\")['href']\n",
    "    enlaces.append(link)\n",
    "\n",
    "# cerramos el driver\n",
    "driver.quit()"
   ]
  },
  {
   "cell_type": "code",
   "execution_count": 47,
   "metadata": {},
   "outputs": [
    {
     "data": {
      "text/plain": [
       "43"
      ]
     },
     "execution_count": 47,
     "metadata": {},
     "output_type": "execute_result"
    }
   ],
   "source": [
    "len(enlaces)"
   ]
  },
  {
   "cell_type": "code",
   "execution_count": 48,
   "metadata": {},
   "outputs": [
    {
     "data": {
      "text/plain": [
       "['https://www.megustairalsuper.com/recipe/orejas-de-carnaval/',\n",
       " 'https://www.megustairalsuper.com/recipe/pastel-de-coliflor-gratinada/',\n",
       " 'https://www.megustairalsuper.com/recipe/quesada-gallega/',\n",
       " 'https://www.megustairalsuper.com/recipe/revuelto-de-guisantes-con-langostinos/',\n",
       " 'https://www.megustairalsuper.com/recipe/salpicon-de-pescado/',\n",
       " 'https://www.megustairalsuper.com/recipe/tarta-de-santiago/',\n",
       " 'https://www.megustairalsuper.com/recipe/tarta-de-queso-al-horno/',\n",
       " 'https://www.megustairalsuper.com/recipe/tarta-de-magosto/',\n",
       " 'https://www.megustairalsuper.com/recipe/tortillos-de-s-andres-de-teixido/',\n",
       " 'https://www.megustairalsuper.com/recipe/tortilla-estilo-betanzos/',\n",
       " 'https://www.megustairalsuper.com/recipe/tortilla-de-grelos-con-chorizos/',\n",
       " 'https://www.megustairalsuper.com/recipe/torta-gallega/',\n",
       " 'https://www.megustairalsuper.com/recipe/nabos-a-la-crema/',\n",
       " 'https://www.megustairalsuper.com/recipe/menestra-gallega/',\n",
       " 'https://www.megustairalsuper.com/recipe/judias-verdes-con-ajada/',\n",
       " 'https://www.megustairalsuper.com/recipe/huevo-frito-con-zorza/',\n",
       " 'https://www.megustairalsuper.com/recipe/fritadas-de-bacalao/',\n",
       " 'https://www.megustairalsuper.com/recipe/ensalada-de-garbanzos/',\n",
       " 'https://www.megustairalsuper.com/recipe/croquetas-de-acelga/',\n",
       " 'https://www.megustairalsuper.com/recipe/crepes-de-centollo/',\n",
       " 'https://www.megustairalsuper.com/recipe/croquetas-caseras/',\n",
       " 'https://www.megustairalsuper.com/recipe/chulas-de-arroz/',\n",
       " 'https://www.megustairalsuper.com/recipe/chulas/',\n",
       " 'https://www.megustairalsuper.com/recipe/capon-con-ostras/',\n",
       " 'https://www.megustairalsuper.com/recipe/canitas-de-crema/',\n",
       " 'https://www.megustairalsuper.com/recipe/budin-de-verduras/',\n",
       " 'https://www.megustairalsuper.com/recipe/bica/',\n",
       " 'https://www.megustairalsuper.com/recipe/besitos-de-coco-rallado/',\n",
       " 'https://www.megustairalsuper.com/recipe/bandullo/',\n",
       " 'https://www.megustairalsuper.com/recipe/palometa-encebollada/',\n",
       " 'https://www.megustairalsuper.com/recipe/palometa-a-la-gallega/',\n",
       " 'https://www.megustairalsuper.com/recipe/palometa-a-la-vasca/',\n",
       " 'https://www.megustairalsuper.com/recipe/palometa-al-horno-con-champinones/',\n",
       " 'https://www.megustairalsuper.com/recipe/palometa-en-adobo-2/',\n",
       " 'https://www.megustairalsuper.com/recipe/salteado-de-setas-con-gambas-2/',\n",
       " 'https://www.megustairalsuper.com/recipe/palometa-con-piperada-2/',\n",
       " 'https://www.megustairalsuper.com/recipe/palometa-con-tomate-2/',\n",
       " 'https://www.megustairalsuper.com/recipe/palometa-al-horno-con-verduras-2/',\n",
       " 'https://www.megustairalsuper.com/recipe/palometa-a-la-bilbaina-2/',\n",
       " 'https://www.megustairalsuper.com/recipe/palometa-panadera-2/',\n",
       " 'https://www.megustairalsuper.com/recipe/palometa-al-horno-2/',\n",
       " 'https://www.megustairalsuper.com/recipe/tarta-de-aguardiente-trufada-2/',\n",
       " 'https://www.megustairalsuper.com/recipe/coliflor-a-la-gallega-3/']"
      ]
     },
     "execution_count": 48,
     "metadata": {},
     "output_type": "execute_result"
    }
   ],
   "source": [
    "enlaces"
   ]
  },
  {
   "cell_type": "markdown",
   "metadata": {},
   "source": [
    "Ahora recuperamos la información de cada receta. Para cada enlace tenemos que descargar la página. Usamos la función que habíamos visto en el documetno anterior.\n"
   ]
  },
  {
   "cell_type": "code",
   "execution_count": 49,
   "metadata": {},
   "outputs": [],
   "source": [
    "def descargarPagina(url):\n",
    "    \"\"\"\n",
    "    Carga y  procesa el contenido de una URL usando la librería request\n",
    "    Muestra un mensaje de error en caso de no poder cargar la página\n",
    "    \"\"\"\n",
    "    # Realizamos la petición a la web\n",
    "    req = requests.get(url)\n",
    "\n",
    "    # Comprobamos que la petición nos devuelve un Status Code = 200\n",
    "    statusCode = req.status_code\n",
    "    # la petición ha ido bien\n",
    "    if statusCode == 200:   \n",
    "\n",
    "        # Pasamos el contenido HTML de la web a un objeto BeautifulSoup()\n",
    "        soup = BeautifulSoup(req.text,\"lxml\")\n",
    "        return True, soup\n",
    "    \n",
    "    # la petición ha ido mal     \n",
    "    else:   \n",
    "        return False, print (\"ERROR {}\".format(statusCode))"
   ]
  },
  {
   "cell_type": "markdown",
   "metadata": {},
   "source": [
    "<img src='./HTML_examples/tortilla.png' style='width: 600px;'/>\n",
    "\n",
    "\n",
    "Entre la información de cada receta encontramos la siguiente estructura. Encontramos el título, el tipo de plato, el origen, etc."
   ]
  },
  {
   "cell_type": "markdown",
   "metadata": {},
   "source": [
    "    <div class=\"vc_row wpb_row row recipe-single\">\n",
    "     ...\n",
    "        <h1>Tortilla estilo Betanzos</h1>\n",
    "    \n",
    "        <ul class=\"wpurp-recipe-tags\" style=\"list-style:none !important;\">\n",
    "            <li class=\"wpurp-recipe-tags-plato\" style=\"list-style:none !important;line-height:1.5em !important;\">\n",
    "                ...\n",
    "                <a href=\"https://www.megustairalsuper.com/plato/primer-plato/\">Primer plato</a>            \n",
    "            </li>\n",
    "            <li class=\"wpurp-recipe-tags-tipo\" style=\"list-style:none !important;line-height:1.5em !important;\">\n",
    "                ...\n",
    "                 <a href=\"https://www.megustairalsuper.com/tipo/huevos/\">Huevos</a>            \n",
    "            </li>\n",
    "            <li class=\"wpurp-recipe-tags-origen\" style=\"list-style:none !important;line-height:1.5em !important;\">\n",
    "                  ...       \n",
    "                 <a href=\"https://www.megustairalsuper.com/origen/dag/\">DAG</a>           \n",
    "            </li>\n",
    "        </ul>\n",
    "        ...\n",
    "    </div>\n"
   ]
  },
  {
   "cell_type": "markdown",
   "metadata": {},
   "source": [
    "Ahora tendremos que descargar cada una de las páginas y recuperar la información:"
   ]
  },
  {
   "cell_type": "code",
   "execution_count": 50,
   "metadata": {},
   "outputs": [],
   "source": [
    "datos = []\n",
    "for url in enlaces:\n",
    "    # descargar la página\n",
    "    exito, receta_soup = descargarPagina(url)\n",
    "    \n",
    "    # buscar el título de la receta\n",
    "    nombre = receta_soup.select_one('div.recipe-single h1').text   \n",
    "    \n",
    "    # buscar el resto de características  \n",
    "    plato = receta_soup.select_one('ul.wpurp-recipe-tags li.wpurp-recipe-tags-plato a').text   \n",
    "    tipo = receta_soup.select_one('ul.wpurp-recipe-tags li.wpurp-recipe-tags-tipo a').text\n",
    "    origen = receta_soup.select_one('ul.wpurp-recipe-tags li.wpurp-recipe-tags-origen a').text\n",
    "    \n",
    "    # guardar la información\n",
    "    datos_receta = {'Título': nombre, 'Plato': plato, 'Tipo': tipo, 'Procedencia': origen}\n",
    "    datos.append (datos_receta)\n"
   ]
  },
  {
   "cell_type": "code",
   "execution_count": 51,
   "metadata": {},
   "outputs": [],
   "source": [
    "import pandas as pd\n",
    "# creamos una tabla y la guardamos en un fichero excel\n",
    "tabla = pd.DataFrame(datos)\n",
    "tabla.to_excel('recetas.xlsx', index = False)"
   ]
  },
  {
   "cell_type": "code",
   "execution_count": 25,
   "metadata": {},
   "outputs": [
    {
     "data": {
      "text/html": [
       "<div>\n",
       "<style scoped>\n",
       "    .dataframe tbody tr th:only-of-type {\n",
       "        vertical-align: middle;\n",
       "    }\n",
       "\n",
       "    .dataframe tbody tr th {\n",
       "        vertical-align: top;\n",
       "    }\n",
       "\n",
       "    .dataframe thead th {\n",
       "        text-align: right;\n",
       "    }\n",
       "</style>\n",
       "<table border=\"1\" class=\"dataframe\">\n",
       "  <thead>\n",
       "    <tr style=\"text-align: right;\">\n",
       "      <th></th>\n",
       "      <th>Plato</th>\n",
       "      <th>Procedencia</th>\n",
       "      <th>Tipo</th>\n",
       "      <th>Título</th>\n",
       "    </tr>\n",
       "  </thead>\n",
       "  <tbody>\n",
       "    <tr>\n",
       "      <th>0</th>\n",
       "      <td>Postre</td>\n",
       "      <td>DAG</td>\n",
       "      <td>Postres</td>\n",
       "      <td>Orejas de carnaval</td>\n",
       "    </tr>\n",
       "    <tr>\n",
       "      <th>1</th>\n",
       "      <td>Primer plato</td>\n",
       "      <td>DAG</td>\n",
       "      <td>Vegetales</td>\n",
       "      <td>Pastel de coliflor gratinada</td>\n",
       "    </tr>\n",
       "    <tr>\n",
       "      <th>2</th>\n",
       "      <td>Postre</td>\n",
       "      <td>DAG</td>\n",
       "      <td>Postres</td>\n",
       "      <td>Quesada gallega</td>\n",
       "    </tr>\n",
       "    <tr>\n",
       "      <th>3</th>\n",
       "      <td>Primer plato</td>\n",
       "      <td>DAG</td>\n",
       "      <td>Vegetales</td>\n",
       "      <td>Revuelto de guisantes con langostinos</td>\n",
       "    </tr>\n",
       "    <tr>\n",
       "      <th>4</th>\n",
       "      <td>Primer plato</td>\n",
       "      <td>DAG</td>\n",
       "      <td>Pescados</td>\n",
       "      <td>Salpicón de pescado</td>\n",
       "    </tr>\n",
       "    <tr>\n",
       "      <th>5</th>\n",
       "      <td>Postre</td>\n",
       "      <td>DAG</td>\n",
       "      <td>Postres</td>\n",
       "      <td>Tarta de Santiago</td>\n",
       "    </tr>\n",
       "    <tr>\n",
       "      <th>6</th>\n",
       "      <td>Postre</td>\n",
       "      <td>DAG</td>\n",
       "      <td>Postres</td>\n",
       "      <td>Tarta de queso al horno</td>\n",
       "    </tr>\n",
       "    <tr>\n",
       "      <th>7</th>\n",
       "      <td>Postre</td>\n",
       "      <td>DAG</td>\n",
       "      <td>Postres</td>\n",
       "      <td>Tarta de Magosto</td>\n",
       "    </tr>\n",
       "    <tr>\n",
       "      <th>8</th>\n",
       "      <td>Primer plato</td>\n",
       "      <td>DAG</td>\n",
       "      <td>Huevos</td>\n",
       "      <td>Tortillos de S. Andres de Teixido</td>\n",
       "    </tr>\n",
       "    <tr>\n",
       "      <th>9</th>\n",
       "      <td>Primer plato</td>\n",
       "      <td>DAG</td>\n",
       "      <td>Huevos</td>\n",
       "      <td>Tortilla estilo Betanzos</td>\n",
       "    </tr>\n",
       "    <tr>\n",
       "      <th>10</th>\n",
       "      <td>Primer plato</td>\n",
       "      <td>DAG</td>\n",
       "      <td>Huevos</td>\n",
       "      <td>Tortilla de grelos con chorizos</td>\n",
       "    </tr>\n",
       "    <tr>\n",
       "      <th>11</th>\n",
       "      <td>Postre</td>\n",
       "      <td>DAG</td>\n",
       "      <td>Postres</td>\n",
       "      <td>Torta gallega</td>\n",
       "    </tr>\n",
       "    <tr>\n",
       "      <th>12</th>\n",
       "      <td>Primer plato</td>\n",
       "      <td>DAG</td>\n",
       "      <td>Vegetales</td>\n",
       "      <td>Nabos a la crema</td>\n",
       "    </tr>\n",
       "    <tr>\n",
       "      <th>13</th>\n",
       "      <td>Primer plato</td>\n",
       "      <td>DAG</td>\n",
       "      <td>Vegetales</td>\n",
       "      <td>Menestra gallega</td>\n",
       "    </tr>\n",
       "    <tr>\n",
       "      <th>14</th>\n",
       "      <td>Primer plato</td>\n",
       "      <td>DAG</td>\n",
       "      <td>Vegetales</td>\n",
       "      <td>Judías verdes con ajada</td>\n",
       "    </tr>\n",
       "    <tr>\n",
       "      <th>15</th>\n",
       "      <td>Primer plato</td>\n",
       "      <td>DAG</td>\n",
       "      <td>Carnes</td>\n",
       "      <td>Huevo frito con zorza</td>\n",
       "    </tr>\n",
       "    <tr>\n",
       "      <th>16</th>\n",
       "      <td>Primer plato</td>\n",
       "      <td>DAG</td>\n",
       "      <td>Pescados</td>\n",
       "      <td>Fritadas de bacalao</td>\n",
       "    </tr>\n",
       "    <tr>\n",
       "      <th>17</th>\n",
       "      <td>Primer plato</td>\n",
       "      <td>DAG</td>\n",
       "      <td>Vegetales</td>\n",
       "      <td>Ensalada de garbanzos</td>\n",
       "    </tr>\n",
       "    <tr>\n",
       "      <th>18</th>\n",
       "      <td>Primer plato</td>\n",
       "      <td>DAG</td>\n",
       "      <td>Vegetales</td>\n",
       "      <td>Croquetas de acelga</td>\n",
       "    </tr>\n",
       "    <tr>\n",
       "      <th>19</th>\n",
       "      <td>Primer plato</td>\n",
       "      <td>DAG</td>\n",
       "      <td>Mariscos</td>\n",
       "      <td>Crepes de centollo</td>\n",
       "    </tr>\n",
       "    <tr>\n",
       "      <th>20</th>\n",
       "      <td>Primer plato</td>\n",
       "      <td>DAG</td>\n",
       "      <td>Carnes</td>\n",
       "      <td>Croquetas caseras</td>\n",
       "    </tr>\n",
       "    <tr>\n",
       "      <th>21</th>\n",
       "      <td>Postre</td>\n",
       "      <td>DAG</td>\n",
       "      <td>Postres</td>\n",
       "      <td>Chulas de arroz</td>\n",
       "    </tr>\n",
       "    <tr>\n",
       "      <th>22</th>\n",
       "      <td>Postre</td>\n",
       "      <td>DAG</td>\n",
       "      <td>Postres</td>\n",
       "      <td>Chulas</td>\n",
       "    </tr>\n",
       "    <tr>\n",
       "      <th>23</th>\n",
       "      <td>Segundo plato</td>\n",
       "      <td>DAG</td>\n",
       "      <td>Carnes</td>\n",
       "      <td>Capón con ostras</td>\n",
       "    </tr>\n",
       "    <tr>\n",
       "      <th>24</th>\n",
       "      <td>Postre</td>\n",
       "      <td>DAG</td>\n",
       "      <td>Postres</td>\n",
       "      <td>Cañitas de crema</td>\n",
       "    </tr>\n",
       "    <tr>\n",
       "      <th>25</th>\n",
       "      <td>Primer plato</td>\n",
       "      <td>DAG</td>\n",
       "      <td>Vegetales</td>\n",
       "      <td>Budín de verduras</td>\n",
       "    </tr>\n",
       "    <tr>\n",
       "      <th>26</th>\n",
       "      <td>Postre</td>\n",
       "      <td>DAG</td>\n",
       "      <td>Postres</td>\n",
       "      <td>Bica</td>\n",
       "    </tr>\n",
       "    <tr>\n",
       "      <th>27</th>\n",
       "      <td>Postre</td>\n",
       "      <td>DAG</td>\n",
       "      <td>Postres</td>\n",
       "      <td>Besitos de coco rallado</td>\n",
       "    </tr>\n",
       "    <tr>\n",
       "      <th>28</th>\n",
       "      <td>Postre</td>\n",
       "      <td>DAG</td>\n",
       "      <td>Postres</td>\n",
       "      <td>Bandullo</td>\n",
       "    </tr>\n",
       "    <tr>\n",
       "      <th>29</th>\n",
       "      <td>Segundo plato</td>\n",
       "      <td>QFH</td>\n",
       "      <td>Pescados</td>\n",
       "      <td>Palometa encebollada</td>\n",
       "    </tr>\n",
       "    <tr>\n",
       "      <th>30</th>\n",
       "      <td>Segundo plato</td>\n",
       "      <td>QFH</td>\n",
       "      <td>Pescados</td>\n",
       "      <td>Palometa a la gallega</td>\n",
       "    </tr>\n",
       "    <tr>\n",
       "      <th>31</th>\n",
       "      <td>Segundo plato</td>\n",
       "      <td>QFH</td>\n",
       "      <td>Pescados</td>\n",
       "      <td>Palometa a la vasca</td>\n",
       "    </tr>\n",
       "    <tr>\n",
       "      <th>32</th>\n",
       "      <td>Segundo plato</td>\n",
       "      <td>QFH</td>\n",
       "      <td>Pescados</td>\n",
       "      <td>Palometa al horno con champiñones</td>\n",
       "    </tr>\n",
       "    <tr>\n",
       "      <th>33</th>\n",
       "      <td>Segundo plato</td>\n",
       "      <td>QFH</td>\n",
       "      <td>Pescados</td>\n",
       "      <td>Palometa en adobo</td>\n",
       "    </tr>\n",
       "    <tr>\n",
       "      <th>34</th>\n",
       "      <td>Primer plato</td>\n",
       "      <td>QFH</td>\n",
       "      <td>Vegetales</td>\n",
       "      <td>Salteado de setas con gambas</td>\n",
       "    </tr>\n",
       "    <tr>\n",
       "      <th>35</th>\n",
       "      <td>Segundo plato</td>\n",
       "      <td>QFH</td>\n",
       "      <td>Pescados</td>\n",
       "      <td>Palometa con piperada</td>\n",
       "    </tr>\n",
       "    <tr>\n",
       "      <th>36</th>\n",
       "      <td>Segundo plato</td>\n",
       "      <td>QFH</td>\n",
       "      <td>Pescados</td>\n",
       "      <td>Palometa con tomate</td>\n",
       "    </tr>\n",
       "    <tr>\n",
       "      <th>37</th>\n",
       "      <td>Segundo plato</td>\n",
       "      <td>QFH</td>\n",
       "      <td>Pescados</td>\n",
       "      <td>Palometa al horno con verduras</td>\n",
       "    </tr>\n",
       "    <tr>\n",
       "      <th>38</th>\n",
       "      <td>Segundo plato</td>\n",
       "      <td>QFH</td>\n",
       "      <td>Pescados</td>\n",
       "      <td>Palometa a la bilbaína</td>\n",
       "    </tr>\n",
       "    <tr>\n",
       "      <th>39</th>\n",
       "      <td>Segundo plato</td>\n",
       "      <td>QFH</td>\n",
       "      <td>Pescados</td>\n",
       "      <td>Palometa panadera</td>\n",
       "    </tr>\n",
       "    <tr>\n",
       "      <th>40</th>\n",
       "      <td>Segundo plato</td>\n",
       "      <td>QFH</td>\n",
       "      <td>Pescados</td>\n",
       "      <td>Palometa al horno</td>\n",
       "    </tr>\n",
       "    <tr>\n",
       "      <th>41</th>\n",
       "      <td>Postre</td>\n",
       "      <td>QFH</td>\n",
       "      <td>Postres</td>\n",
       "      <td>Tarta de aguardiente trufada</td>\n",
       "    </tr>\n",
       "    <tr>\n",
       "      <th>42</th>\n",
       "      <td>Primer plato</td>\n",
       "      <td>QFH</td>\n",
       "      <td>Vegetales</td>\n",
       "      <td>Coliflor a la gallega</td>\n",
       "    </tr>\n",
       "  </tbody>\n",
       "</table>\n",
       "</div>"
      ],
      "text/plain": [
       "            Plato Procedencia       Tipo  \\\n",
       "0          Postre         DAG    Postres   \n",
       "1    Primer plato         DAG  Vegetales   \n",
       "2          Postre         DAG    Postres   \n",
       "3    Primer plato         DAG  Vegetales   \n",
       "4    Primer plato         DAG   Pescados   \n",
       "5          Postre         DAG    Postres   \n",
       "6          Postre         DAG    Postres   \n",
       "7          Postre         DAG    Postres   \n",
       "8    Primer plato         DAG     Huevos   \n",
       "9    Primer plato         DAG     Huevos   \n",
       "10   Primer plato         DAG     Huevos   \n",
       "11         Postre         DAG    Postres   \n",
       "12   Primer plato         DAG  Vegetales   \n",
       "13   Primer plato         DAG  Vegetales   \n",
       "14   Primer plato         DAG  Vegetales   \n",
       "15   Primer plato         DAG     Carnes   \n",
       "16   Primer plato         DAG   Pescados   \n",
       "17   Primer plato         DAG  Vegetales   \n",
       "18   Primer plato         DAG  Vegetales   \n",
       "19   Primer plato         DAG   Mariscos   \n",
       "20   Primer plato         DAG     Carnes   \n",
       "21         Postre         DAG    Postres   \n",
       "22         Postre         DAG    Postres   \n",
       "23  Segundo plato         DAG     Carnes   \n",
       "24         Postre         DAG    Postres   \n",
       "25   Primer plato         DAG  Vegetales   \n",
       "26         Postre         DAG    Postres   \n",
       "27         Postre         DAG    Postres   \n",
       "28         Postre         DAG    Postres   \n",
       "29  Segundo plato         QFH   Pescados   \n",
       "30  Segundo plato         QFH   Pescados   \n",
       "31  Segundo plato         QFH   Pescados   \n",
       "32  Segundo plato         QFH   Pescados   \n",
       "33  Segundo plato         QFH   Pescados   \n",
       "34   Primer plato         QFH  Vegetales   \n",
       "35  Segundo plato         QFH   Pescados   \n",
       "36  Segundo plato         QFH   Pescados   \n",
       "37  Segundo plato         QFH   Pescados   \n",
       "38  Segundo plato         QFH   Pescados   \n",
       "39  Segundo plato         QFH   Pescados   \n",
       "40  Segundo plato         QFH   Pescados   \n",
       "41         Postre         QFH    Postres   \n",
       "42   Primer plato         QFH  Vegetales   \n",
       "\n",
       "                                   Título  \n",
       "0                      Orejas de carnaval  \n",
       "1            Pastel de coliflor gratinada  \n",
       "2                         Quesada gallega  \n",
       "3   Revuelto de guisantes con langostinos  \n",
       "4                     Salpicón de pescado  \n",
       "5                       Tarta de Santiago  \n",
       "6                 Tarta de queso al horno  \n",
       "7                        Tarta de Magosto  \n",
       "8       Tortillos de S. Andres de Teixido  \n",
       "9                Tortilla estilo Betanzos  \n",
       "10        Tortilla de grelos con chorizos  \n",
       "11                          Torta gallega  \n",
       "12                       Nabos a la crema  \n",
       "13                       Menestra gallega  \n",
       "14                Judías verdes con ajada  \n",
       "15                  Huevo frito con zorza  \n",
       "16                    Fritadas de bacalao  \n",
       "17                  Ensalada de garbanzos  \n",
       "18                    Croquetas de acelga  \n",
       "19                     Crepes de centollo  \n",
       "20                      Croquetas caseras  \n",
       "21                        Chulas de arroz  \n",
       "22                                 Chulas  \n",
       "23                       Capón con ostras  \n",
       "24                       Cañitas de crema  \n",
       "25                      Budín de verduras  \n",
       "26                                   Bica  \n",
       "27                Besitos de coco rallado  \n",
       "28                               Bandullo  \n",
       "29                   Palometa encebollada  \n",
       "30                  Palometa a la gallega  \n",
       "31                    Palometa a la vasca  \n",
       "32      Palometa al horno con champiñones  \n",
       "33                      Palometa en adobo  \n",
       "34           Salteado de setas con gambas  \n",
       "35                  Palometa con piperada  \n",
       "36                    Palometa con tomate  \n",
       "37         Palometa al horno con verduras  \n",
       "38                 Palometa a la bilbaína  \n",
       "39                      Palometa panadera  \n",
       "40                      Palometa al horno  \n",
       "41           Tarta de aguardiente trufada  \n",
       "42                  Coliflor a la gallega  "
      ]
     },
     "execution_count": 25,
     "metadata": {},
     "output_type": "execute_result"
    }
   ],
   "source": [
    "tabla"
   ]
  },
  {
   "cell_type": "markdown",
   "metadata": {},
   "source": [
    "## Extra: Generación de contenidos mediante la interacción con una web"
   ]
  },
  {
   "cell_type": "markdown",
   "metadata": {},
   "source": [
    "Selenium nos facilita la interacción con la web. Vamos a poner como ejemplo la interacción con una herramienta de generación de [contraseñas mediante htdigest](https://httpd.apache.org/docs/2.4/programs/htdigest.html) (<https://websistent.com/tools/htdigest-generator-tool/>). Vamos primeramente a rellenar el formulario:"
   ]
  },
  {
   "cell_type": "code",
   "execution_count": 24,
   "metadata": {
    "ExecuteTime": {
     "end_time": "2018-02-10T09:37:39.707335Z",
     "start_time": "2018-02-10T09:37:34.584514Z"
    },
    "collapsed": true
   },
   "outputs": [],
   "source": [
    "from selenium import webdriver\n",
    "\n",
    "url = \"https://websistent.com/tools/htdigest-generator-tool/\"\n",
    "usuario = \"miUsuario\"\n",
    "\n",
    "driver = webdriver.Chrome('../seleniumDrivers/chromedriver')  # Optional argument, if not specified will search path.\n",
    "driver.get(url)\n",
    "\n",
    "element = driver.find_element_by_id(\"uname\")\n",
    "element.send_keys(usuario)"
   ]
  },
  {
   "cell_type": "markdown",
   "metadata": {},
   "source": [
    "Si vamos al navegador veremos que hemos rellenado el primer cambio del formulario. A continuación rellenamos el resto."
   ]
  },
  {
   "cell_type": "code",
   "execution_count": 25,
   "metadata": {
    "ExecuteTime": {
     "end_time": "2018-02-10T09:37:39.892458Z",
     "start_time": "2018-02-10T09:37:39.749428Z"
    },
    "collapsed": true
   },
   "outputs": [],
   "source": [
    "element = driver.find_element_by_id(\"realm\")\n",
    "element.send_keys(\"miRealm\")\n",
    "\n",
    "element = driver.find_element_by_id(\"word1\")\n",
    "element.send_keys(\"12345\")\n",
    "\n",
    "element = driver.find_element_by_id(\"word2\")\n",
    "element.send_keys(\"12345\")"
   ]
  },
  {
   "cell_type": "markdown",
   "metadata": {},
   "source": [
    "Finalmente, buscamos el botón y lo pulsamos:"
   ]
  },
  {
   "cell_type": "code",
   "execution_count": 26,
   "metadata": {
    "ExecuteTime": {
     "end_time": "2018-02-10T09:37:41.351877Z",
     "start_time": "2018-02-10T09:37:41.294162Z"
    },
    "collapsed": true
   },
   "outputs": [],
   "source": [
    "driver.find_element_by_id(\"generate\").click();"
   ]
  },
  {
   "cell_type": "markdown",
   "metadata": {},
   "source": [
    "Vemos que al final de la página se ha generado un texto con el resultado de la ejecución. Vamos a quedarnos con él:"
   ]
  },
  {
   "cell_type": "code",
   "execution_count": 27,
   "metadata": {
    "ExecuteTime": {
     "end_time": "2018-02-10T09:37:43.353618Z",
     "start_time": "2018-02-10T09:37:43.262417Z"
    }
   },
   "outputs": [
    {
     "name": "stdout",
     "output_type": "stream",
     "text": [
      "miUsuario:miRealm:f183ef39e2332c681a3702eee9f8a9ac\n"
     ]
    }
   ],
   "source": [
    "output = driver.find_element_by_id(\"output\").text\n",
    "print (output[output.find(usuario):])\n",
    "driver.quit()"
   ]
  },
  {
   "cell_type": "markdown",
   "metadata": {},
   "source": [
    "Probemos a ejecutarlo todo de una sola vez:"
   ]
  },
  {
   "cell_type": "code",
   "execution_count": 30,
   "metadata": {
    "ExecuteTime": {
     "end_time": "2018-02-10T09:44:09.546192Z",
     "start_time": "2018-02-10T09:44:04.077960Z"
    }
   },
   "outputs": [
    {
     "name": "stdout",
     "output_type": "stream",
     "text": [
      ".\n"
     ]
    }
   ],
   "source": [
    "driver = webdriver.Chrome('../seleniumDrivers/chromedriver')  # Optional argument, if not specified will search path.\n",
    "driver.get(url)\n",
    "\n",
    "element = driver.find_element_by_id(\"uname\")\n",
    "element.send_keys(usuario)\n",
    "\n",
    "element = driver.find_element_by_id(\"realm\")\n",
    "element.send_keys(\"miRealm\")\n",
    "\n",
    "element = driver.find_element_by_id(\"word1\")\n",
    "element.send_keys(\"12345\")\n",
    "\n",
    "element = driver.find_element_by_id(\"word2\")\n",
    "element.send_keys(\"12345\")\n",
    "\n",
    "driver.find_element_by_id(\"generate\").click();\n",
    "\n",
    "output = driver.find_element_by_id(\"output\").text\n",
    "print (output[output.find(usuario):])\n",
    "driver.quit()"
   ]
  },
  {
   "cell_type": "markdown",
   "metadata": {},
   "source": [
    "Vemos que la ejecución no ha funcionado correctamente. Esto se debe a que hay tareas (como la generación del resultado) que tardan un tiempo en ejecutarse, por lo que tenemos que esperar a que terminen para poder extraer un resultado. Para ello hay que implementar esperas ([Waits, en Selenium](http://selenium-python.readthedocs.io/waits.html)) en nuestro código.\n",
    "\n",
    "La primera y más sencilla es hacer una pausa antes de ejecutar una instrucción:"
   ]
  },
  {
   "cell_type": "code",
   "execution_count": 33,
   "metadata": {
    "ExecuteTime": {
     "end_time": "2018-02-10T09:45:35.956292Z",
     "start_time": "2018-02-10T09:45:28.446837Z"
    }
   },
   "outputs": [
    {
     "name": "stdout",
     "output_type": "stream",
     "text": [
      "miUsuario:miRealm:f183ef39e2332c681a3702eee9f8a9ac\n"
     ]
    }
   ],
   "source": [
    "import time\n",
    "driver = webdriver.Chrome('../seleniumDrivers/chromedriver')  # Optional argument, if not specified will search path.\n",
    "driver.get(url)\n",
    "\n",
    "element = driver.find_element_by_id(\"uname\")\n",
    "element.send_keys(usuario)\n",
    "\n",
    "element = driver.find_element_by_id(\"realm\")\n",
    "element.send_keys(\"miRealm\")\n",
    "\n",
    "element = driver.find_element_by_id(\"word1\")\n",
    "element.send_keys(\"12345\")\n",
    "\n",
    "element = driver.find_element_by_id(\"word2\")\n",
    "element.send_keys(\"12345\")\n",
    "\n",
    "driver.find_element_by_id(\"generate\").click();\n",
    "\n",
    "# Esperamos 2 segundos antes de buscar el elemento\n",
    "time.sleep(2)\n",
    "\n",
    "output = driver.find_element_by_id(\"output\").text\n",
    "print (output[output.find(usuario):])\n",
    "driver.quit()"
   ]
  },
  {
   "cell_type": "markdown",
   "metadata": {},
   "source": [
    "Otra opción es utilizar las esperas explícitas de Selenium, con las que pedimos al driver que ejecute una método de manera constante durante durante un periodo de máximo de tiempo hasta que nos devuelva un determinado valor. En caso de que se sobrepase el tiempo máximo de espera entonces lanza una excepción. En nuestro ejemplo, vemos que el resultado siempre aparece en el mismo elemento y que cuando pulsamos en el botón primero aparece el texto \"Loading\". Por tanto, vamos a esperar hasta que desaparezca ese texto para extraer el resultado correcto:"
   ]
  },
  {
   "cell_type": "code",
   "execution_count": 41,
   "metadata": {
    "ExecuteTime": {
     "end_time": "2018-02-10T10:00:54.752440Z",
     "start_time": "2018-02-10T10:00:48.496016Z"
    }
   },
   "outputs": [
    {
     "name": "stdout",
     "output_type": "stream",
     "text": [
      "miUsuario:miRealm:f183ef39e2332c681a3702eee9f8a9ac\n"
     ]
    }
   ],
   "source": [
    "from selenium.webdriver.support.ui import WebDriverWait\n",
    "from selenium.common.exceptions import TimeoutException\n",
    "\n",
    "driver = webdriver.Chrome('../seleniumDrivers/chromedriver')  # Optional argument, if not specified will search path.\n",
    "driver.get(url)\n",
    "\n",
    "element = driver.find_element_by_id(\"uname\")\n",
    "element.send_keys(usuario)\n",
    "\n",
    "element = driver.find_element_by_id(\"realm\")\n",
    "element.send_keys(\"miRealm\")\n",
    "\n",
    "element = driver.find_element_by_id(\"word1\")\n",
    "element.send_keys(\"12345\")\n",
    "\n",
    "element = driver.find_element_by_id(\"word2\")\n",
    "element.send_keys(\"12345\")\n",
    "\n",
    "driver.find_element_by_id(\"generate\").click();\n",
    "\n",
    "try:\n",
    "    # Esperamos como máximo 10 segundos mientras esperamos a que desaparezca el texto \"Loading\"\n",
    "    WebDriverWait(driver, 10).until_not(lambda driver: driver.find_element_by_id(\"output\").text.startswith(\"Loading\"))\n",
    "\n",
    "    output = driver.find_element_by_id(\"output\").text\n",
    "    print (output[output.find(usuario):])\n",
    "\n",
    "except TimeoutException:\n",
    "    print(\"No se ha podido generar el resultado o la página ha tardado demasiado\")\n",
    "    \n",
    "finally:\n",
    "    driver.quit()"
   ]
  },
  {
   "cell_type": "markdown",
   "metadata": {},
   "source": [
    "## Extra: Yummly"
   ]
  },
  {
   "cell_type": "markdown",
   "metadata": {},
   "source": [
    "Lo primero que tenemos que hacer es analizar detenidamente el DOM de la web para saber cómo hacer el scroll. En este caso no es sencillo, ya que no hay que hacer scroll sobre la ventana del navegador sino sobre un elemento del mismo. Además, no podemos hacer click en los botones de scroll. Sin embargo, otra cosa que nos permite Selenium es ejecutar scripts en el navegador. Esto es lo que vamos a utilizar para la extracción de los resultados:"
   ]
  },
  {
   "cell_type": "code",
   "execution_count": null,
   "metadata": {
    "ExecuteTime": {
     "end_time": "2018-02-10T10:37:16.968033Z",
     "start_time": "2018-02-10T10:37:00.655223Z"
    }
   },
   "outputs": [],
   "source": [
    "from selenium import webdriver\n",
    "import time\n",
    "url = \"http://www.yummly.com/recipes?q=&allowedCuisine=cuisine^cuisine-spanish&noUserSettings=true\"\n",
    "driver = webdriver.Chrome('../seleniumDrivers/chromedriver')  # Optional argument, if not specified will search path.\n",
    "driver.get(url)\n",
    "\n",
    "time.sleep(5)\n",
    "\n",
    "recipes = driver.find_elements_by_class_name(\"recipe-card\")\n",
    "print (\"Número de recetas: {}\".format(len(recipes)))\n",
    "\n",
    "# Realizamos scroll ejecutando código javascript en el navegador\n",
    "driver.execute_script('cookbook = document.getElementsByClassName(\"cookbook\")[0];')\n",
    "driver.execute_script('maxScroll = document.getElementsByClassName(\"RecipeGrid\")[0].clientHeight;')\n",
    "driver.execute_script('cookbook.scrollTo(0, maxScroll);')\n",
    "\n",
    "time.sleep(5)\n",
    "\n",
    "recipes = driver.find_elements_by_class_name(\"recipe-card\")\n",
    "print (\"Número de recetas: {}\".format(len(recipes)))\n",
    "\n",
    "driver.quit()"
   ]
  },
  {
   "cell_type": "markdown",
   "metadata": {},
   "source": [
    "La automatización de este scraping no es nada sencilla ya que la página usa AJAX de forma muy profusa, con grandes retardos, lo que nos perjudica a la hora de extraer la información. Una posible solución puede ser la siguiente:"
   ]
  },
  {
   "cell_type": "code",
   "execution_count": 46,
   "metadata": {
    "ExecuteTime": {
     "end_time": "2018-02-10T10:20:16.513912Z",
     "start_time": "2018-02-10T10:15:26.117555Z"
    }
   },
   "outputs": [
    {
     "name": "stdout",
     "output_type": "stream",
     "text": [
      "Número de recetas: 2221\n"
     ]
    }
   ],
   "source": [
    "from selenium import webdriver\n",
    "from selenium.webdriver.support.ui import WebDriverWait\n",
    "from selenium.common.exceptions import TimeoutException\n",
    "import time\n",
    "\n",
    "def heightHasChanged(driver, lastHeight):\n",
    "    \"\"\"\n",
    "    Comprueba si, tras hacer scroll, el tamaño del panel en el que están las recetas ha cambiado\n",
    "    \"\"\"\n",
    "    new_height = driver.execute_script('return document.getElementsByClassName(\"RecipeGrid\")[0].clientHeight;')\n",
    "    return last_height!= new_height\n",
    "\n",
    "url = \"http://www.yummly.com/recipes?q=&allowedCuisine=cuisine^cuisine-spanish&noUserSettings=true\"\n",
    "driver = webdriver.Chrome('../seleniumDrivers/chromedriver')  # Optional argument, if not specified will search path.\n",
    "driver.get(url)\n",
    "\n",
    "last_height = 0\n",
    "\n",
    "time.sleep(5)\n",
    "\n",
    "try:\n",
    "    while True:\n",
    "        # Realizamos scroll ejecutando código javascript en el navegador\n",
    "        driver.execute_script('cookbook = document.getElementsByClassName(\"cookbook\")[0];')\n",
    "        driver.execute_script('maxScroll = document.getElementsByClassName(\"RecipeGrid\")[0].clientHeight;')\n",
    "        driver.execute_script('cookbook.scrollTo(0, maxScroll);')\n",
    "\n",
    "        # Esperamos hasta que se actualice el scroll o lleguemos hasta el final\n",
    "        WebDriverWait(driver, 10).until(lambda driver: heightHasChanged(driver,last_height))\n",
    "        \n",
    "        last_height = driver.execute_script('return document.getElementsByClassName(\"RecipeGrid\")[0].clientHeight;')\n",
    "\n",
    "except TimeoutException:\n",
    "    # Se supone que hemo hecho scroll hasta el final \n",
    "    recipes = driver.find_elements_by_class_name(\"recipe-card\")\n",
    "    print (\"Número de recetas: {}\".format(len(recipes)))\n",
    "\n",
    "finally:\n",
    "    driver.quit()"
   ]
  },
  {
   "cell_type": "markdown",
   "metadata": {},
   "source": [
    "Finalmente, podemos combinar el uso de Selenium con BeautifulSoup. Para ello hemos de tener en cuenta que cada uno de los elementos extraídos con `find_*` disponen de los atributos `innerHTML` y `outerHTML`, que contienen el texto HTML del elemento. Podemos procesar este HTML con Beautiful Soup, si nos resulta más cómodo:"
   ]
  },
  {
   "cell_type": "code",
   "execution_count": 61,
   "metadata": {
    "ExecuteTime": {
     "end_time": "2018-02-10T10:38:05.421623Z",
     "start_time": "2018-02-10T10:37:48.534601Z"
    }
   },
   "outputs": [
    {
     "name": "stdout",
     "output_type": "stream",
     "text": [
      "Número de recetas: 50\n",
      "Portuguese Fish Stew\n",
      "...\n",
      "Gazpacho\n"
     ]
    }
   ],
   "source": [
    "from selenium import webdriver\n",
    "import time\n",
    "from bs4 import BeautifulSoup\n",
    "\n",
    "url = \"http://www.yummly.com/recipes?q=&allowedCuisine=cuisine^cuisine-spanish&noUserSettings=true\"\n",
    "driver = webdriver.Chrome('../seleniumDrivers/chromedriver')  # Optional argument, if not specified will search path.\n",
    "driver.get(url)\n",
    "\n",
    "time.sleep(5)\n",
    "\n",
    "# Realizamos scroll ejecutando código javascript en el navegador\n",
    "driver.execute_script('cookbook = document.getElementsByClassName(\"cookbook\")[0];')\n",
    "driver.execute_script('maxScroll = document.getElementsByClassName(\"RecipeGrid\")[0].clientHeight;')\n",
    "driver.execute_script('cookbook.scrollTo(0, maxScroll);')\n",
    "\n",
    "time.sleep(5)\n",
    "\n",
    "recipeContainer = driver.find_element_by_class_name(\"RecipeContainer\")\n",
    "html = BeautifulSoup(recipeContainer.get_attribute('outerHTML'), 'lxml')\n",
    "driver.quit()\n",
    "\n",
    "# A partir de aquí, lo tratamos con BS4\n",
    "recipes = html.select(\".recipe-card h2.card-title a\")\n",
    "print(\"Número de recetas: {}\".format(len(recipes)))\n",
    "for title in recipes:\n",
    "    print(title.text)\n",
    "\n"
   ]
  },
  {
   "cell_type": "markdown",
   "metadata": {},
   "source": [
    "    "
   ]
  }
 ],
 "metadata": {
  "kernelspec": {
   "display_name": "Python 3",
   "language": "python",
   "name": "python3"
  },
  "language_info": {
   "codemirror_mode": {
    "name": "ipython",
    "version": 3
   },
   "file_extension": ".py",
   "mimetype": "text/x-python",
   "name": "python",
   "nbconvert_exporter": "python",
   "pygments_lexer": "ipython3",
   "version": "3.6.6"
  },
  "toc": {
   "nav_menu": {
    "height": "31px",
    "width": "252px"
   },
   "number_sections": true,
   "sideBar": true,
   "skip_h1_title": false,
   "title_cell": "Table of Contents",
   "title_sidebar": "Contents",
   "toc_cell": false,
   "toc_position": {
    "height": "calc(100% - 180px)",
    "left": "10px",
    "top": "150px",
    "width": "339.2px"
   },
   "toc_section_display": "block",
   "toc_window_display": false
  },
  "varInspector": {
   "cols": {
    "lenName": 16,
    "lenType": 16,
    "lenVar": 40
   },
   "kernels_config": {
    "python": {
     "delete_cmd_postfix": "",
     "delete_cmd_prefix": "del ",
     "library": "var_list.py",
     "varRefreshCmd": "print(var_dic_list())"
    },
    "r": {
     "delete_cmd_postfix": ") ",
     "delete_cmd_prefix": "rm(",
     "library": "var_list.r",
     "varRefreshCmd": "cat(var_dic_list()) "
    }
   },
   "types_to_exclude": [
    "module",
    "function",
    "builtin_function_or_method",
    "instance",
    "_Feature"
   ],
   "window_display": false
  }
 },
 "nbformat": 4,
 "nbformat_minor": 1
}
